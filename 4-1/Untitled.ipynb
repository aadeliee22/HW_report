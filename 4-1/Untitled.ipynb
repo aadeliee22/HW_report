{
 "cells": [
  {
   "cell_type": "code",
   "execution_count": 1,
   "metadata": {},
   "outputs": [],
   "source": [
    "import numpy as np\n",
    "import matplotlib.pyplot as plt"
   ]
  },
  {
   "cell_type": "code",
   "execution_count": 2,
   "metadata": {},
   "outputs": [],
   "source": [
    "def f(e, kb, T):\n",
    "    return 2*(e/T)**2 * np.exp(e/(kb*T)) / (kb* (1+2*np.exp(e/(kb*T)))**2)"
   ]
  },
  {
   "cell_type": "code",
   "execution_count": 11,
   "metadata": {},
   "outputs": [
    {
     "data": {
      "image/png": "[encoded data removed]",
      "text/plain": [
       "<Figure size 432x288 with 1 Axes>"
      ]
     },
     "metadata": {},
     "output_type": "display_data"
    }
   ],
   "source": [
    "import matplotlib as mpl\n",
    "mpl.rcParams.update({\n",
    "    'font.family' : 'STIXGeneral',\n",
    "    'mathtext.fontset' : 'stix',\n",
    "    'xtick.direction' : 'in' ,\n",
    "    'xtick.labelsize' : 13 ,\n",
    "    'xtick.top' : True ,\n",
    "    'ytick.direction' : 'in' ,\n",
    "    'ytick.labelsize' : 13 ,\n",
    "    'ytick.right' : True ,\n",
    "    'axes.labelsize' : 16,\n",
    "    'legend.frameon' : False,\n",
    "    'legend.fontsize' : 13,\n",
    "    'legend.handlelength' : 1.5,\n",
    "    'savefig.dpi' : 600, \n",
    "    'savefig.bbox' : 'tight'\n",
    "})\n",
    "\n",
    "temp = np.linspace(0.01, 2, 200)\n",
    "plt.tick_params(\n",
    "    axis='both',          # changes apply to the x-axis\n",
    "    which='both',      # both major and minor ticks are affected\n",
    "    bottom=False,      # ticks along the bottom edge are off\n",
    "    top=False,\n",
    "    left=False,\n",
    "    right=False,# ticks along the top edge are off\n",
    "    labelbottom=False,\n",
    "    labelleft=False)\n",
    "plt.plot(temp, f(1, 1, temp))\n",
    "plt.xlim(0)\n",
    "plt.ylim(0)\n",
    "plt.ylabel(\"C\")\n",
    "plt.xlabel(\"T\")\n",
    "plt.savefig(\"hw4_7.png\")"
   ]
  },
  {
   "cell_type": "code",
   "execution_count": null,
   "metadata": {},
   "outputs": [],
   "source": []
  }
 ],
 "metadata": {
  "kernelspec": {
   "display_name": "Python 3",
   "language": "python",
   "name": "python3"
  },
  "language_info": {
   "codemirror_mode": {
    "name": "ipython",
    "version": 3
   },
   "file_extension": ".py",
   "mimetype": "text/x-python",
   "name": "python",
   "nbconvert_exporter": "python",
   "pygments_lexer": "ipython3",
   "version": "3.7.6"
  }
 },
 "nbformat": 4,
 "nbformat_minor": 4
}
