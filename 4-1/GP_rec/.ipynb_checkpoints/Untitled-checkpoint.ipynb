{
 "cells": [
  {
   "cell_type": "code",
   "execution_count": 1,
   "metadata": {},
   "outputs": [],
   "source": [
    "s = open('student.txt', 'r', encoding=\"UTF8\")\n",
    "A = s.read().split('\\n')\n",
    "s.close()\n",
    "\n",
    "student, Id = [], []\n",
    "for i in range (len(A)):\n",
    "    Id.append(A[i].split('\\t')[0]) # if it is splited by 'tab'. else, consider other options.\n",
    "    student.append(A[i].split('\\t')[1])"
   ]
  },
  {
   "cell_type": "code",
   "execution_count": 3,
   "metadata": {
    "scrolled": true
   },
   "outputs": [
    {
     "name": "stdout",
     "output_type": "stream",
     "text": [
      "20165153 임도현 : O\n",
      "20185022 김나영 : O\n",
      "20195026 김세빈 : O\n",
      "20205070 문지준 : O\n",
      "20205085 박주형 : O\n",
      "20205122 유재경 : O\n",
      "20215008 강지희 : O\n",
      "20215009 강희진 : O\n",
      "20215016 권하영 : O\n",
      "20215023 김기완 : O\n",
      "20215036 김성환 : O\n",
      "20215042 김승주 : O\n",
      "20215043 김승현 : O\n",
      "20215044 김연우 : O\n",
      "20215045 김유수 : O\n",
      "20215053 김재호 : O\n",
      "20215056 김주원 : O\n",
      "20215068 김혜준 : O\n",
      "20215071 남윤걸 : O\n",
      "20215078 박상욱 : O\n",
      "20215083 박예빈 : O\n",
      "20215095 박태민 : O\n",
      "20215100 박희주 : O\n",
      "20215107 서승완 : O\n",
      "20215115 신재민 : O\n",
      "20215116 심건우 : O\n",
      "20215132 유어진 : O\n",
      "20215135 유한준 : O\n",
      "20215157 이은찬 : O\n",
      "20215170 임모세 : O\n",
      "20215188 정하권 : O\n",
      "20215193 천호영 : O\n",
      "20215195 최성용 : O\n",
      "20215207 하세연 : O\n",
      "20215213 황금환 : O\n",
      "absent: 0 out of 35\n"
     ]
    }
   ],
   "source": [
    "check = '0330'\n",
    "\n",
    "nothere = 0\n",
    "for i in range (len(A)):\n",
    "    with open(check+'.txt', encoding=\"UTF8\") as f:\n",
    "        if (student[i] in f.read()):\n",
    "            print(Id[i], student[i], ': O')\n",
    "        elif (Id[i] in f.read()):\n",
    "            print(Id[i], student[i], ': O')\n",
    "            \n",
    "        else:\n",
    "            print(Id[i], student[i], ': X!')\n",
    "            nothere = nothere + 1\n",
    "print(f'absent: {nothere} out of {len(A)}')"
   ]
  },
  {
   "cell_type": "code",
   "execution_count": null,
   "metadata": {},
   "outputs": [],
   "source": []
  }
 ],
 "metadata": {
  "kernelspec": {
   "display_name": "Python 3",
   "language": "python",
   "name": "python3"
  },
  "language_info": {
   "codemirror_mode": {
    "name": "ipython",
    "version": 3
   },
   "file_extension": ".py",
   "mimetype": "text/x-python",
   "name": "python",
   "nbconvert_exporter": "python",
   "pygments_lexer": "ipython3",
   "version": "3.7.6"
  }
 },
 "nbformat": 4,
 "nbformat_minor": 4
}
