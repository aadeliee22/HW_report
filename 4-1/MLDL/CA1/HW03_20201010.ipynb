{
 "cells": [
  {
   "cell_type": "markdown",
   "metadata": {
    "id": "KQ1bz0xOStjD"
   },
   "source": [
    "## HW03\n",
    "Deep Learning, GIST RT5101-01, 2021, Spring, (Tue/Thurs 2:30~3:45)\n",
    "***\n",
    "\n",
    "\n",
    "How to submit your homework\n",
    "Submit your jupyter notebook file with the filename of HW03_studentnumber.ipynb on GEL\n",
    "Ex) HW03_20201106.ipynb\n",
    "\n",
    "Submission deadline\n",
    "2021.05.19, Wednesday 23:59 (PM)\n",
    "\n",
    "Plagiarism\n",
    "We encourage you to discuss this homework with your friends or TA, but you should write your own code."
   ]
  },
  {
   "cell_type": "markdown",
   "metadata": {
    "id": "qtkGyAsoVwDi"
   },
   "source": [
    "### About the VGGNet\n",
    "\n",
    "- VGGNet is invented by VGG (Visual Geometry Group) from the University of Oxford ([paper](https://www.google.com/url?sa=t&rct=j&q=&esrc=s&source=web&cd=1&ved=2ahUKEwilz7Ptu4jiAhWIdXAKHYr9BK0QFjAAegQIAhAC&url=https%3A%2F%2Farxiv.org%2Fpdf%2F1409.1556&usg=AOvVaw3u_l2DJveBaeO_vs_qyLMT))\n",
    "- VGGNet is the 1st runner-up, not the winner of the ILSVRC (ImageNet Large Scale Visual Recognition Competition) 2014 in the classification task\n",
    "- Nevertheless, VGGNet beats the GoogLeNet and won the localization task in ILSVRC 2014.\n",
    "- There are many other models built on top of VGGNet or based on the 3×3 conv idea of VGGNet for other purposes or other domains.\n",
    "- In the paper, there is 5 version of VGGNet. Here, you have to implement the VGG-11.\n",
    "\n",
    "![대체 텍스트](https://cdn-images-1.medium.com/max/1200/1*_1DEx3bHlnBApCWWQ0HgcQ.png)\n",
    "\n",
    "Your homework consists of the following steps:\n",
    "\n",
    "1. Build a VGGNet-11\n",
    "2. visualize the results after training and testing it.\n",
    "3. apply augmentation by transform function and repeat step 2.\n",
    "4. compare results of step 2 and 3.\n",
    "\n",
    "The codes for loading the CIFAR10 dataset will be given.   \n",
    "\n",
    "### Plagiarism\n",
    "We encourage you to discuss this homework with your friends or TA, but you should write your own code.\n",
    "\n",
    "\n"
   ]
  },
  {
   "cell_type": "markdown",
   "metadata": {
    "id": "ohaQp_wqrJfs"
   },
   "source": [
    "## Guide: Load CIFAR10 Dataset\n",
    "---\n",
    "Before training the VGGNet-16, Let's load CIFAR10 dataset   \n",
    "`Note: All the codes in this guide is the same as the lecture material.`\n",
    "\n"
   ]
  },
  {
   "cell_type": "markdown",
   "metadata": {
    "id": "wAWm0QAtk7x6"
   },
   "source": [
    "Let's import required python package\n",
    "\n",
    "Here, ``torchvision`` module provides useful benchmark datasets and image transfromation functions\n"
   ]
  },
  {
   "cell_type": "code",
   "execution_count": 86,
   "metadata": {
    "executionInfo": {
     "elapsed": 960,
     "status": "ok",
     "timestamp": 1621429854532,
     "user": {
      "displayName": "H C",
      "photoUrl": "",
      "userId": "07474971102237626480"
     },
     "user_tz": -540
    },
    "id": "prd_tT3NrOYk"
   },
   "outputs": [],
   "source": [
    "import torch\n",
    "import torch.nn as nn\n",
    "import torch.nn.functional as F\n",
    "import torch.optim as optim\n",
    "import torchvision\n",
    "import torchvision.transforms as transforms\n",
    "import torchvision.datasets as datasets"
   ]
  },
  {
   "cell_type": "markdown",
   "metadata": {
    "id": "j0da9HZarW3X"
   },
   "source": [
    "Define device configuration (CPU Computation or GPU Computation)"
   ]
  },
  {
   "cell_type": "code",
   "execution_count": 87,
   "metadata": {
    "colab": {
     "base_uri": "https://localhost:8080/"
    },
    "executionInfo": {
     "elapsed": 1731,
     "status": "ok",
     "timestamp": 1621429855317,
     "user": {
      "displayName": "H C",
      "photoUrl": "",
      "userId": "07474971102237626480"
     },
     "user_tz": -540
    },
    "id": "VSFEnBE_rW9s",
    "outputId": "264cc719-a226-45e5-a0bd-10ef5b7c8080"
   },
   "outputs": [
    {
     "name": "stdout",
     "output_type": "stream",
     "text": [
      "cuda:0\n"
     ]
    }
   ],
   "source": [
    "device = torch.device('cuda:0' if torch.cuda.is_available() else 'cpu')\n",
    "print(device)"
   ]
  },
  {
   "cell_type": "code",
   "execution_count": 88,
   "metadata": {
    "executionInfo": {
     "elapsed": 1727,
     "status": "ok",
     "timestamp": 1621429855318,
     "user": {
      "displayName": "H C",
      "photoUrl": "",
      "userId": "07474971102237626480"
     },
     "user_tz": -540
    },
    "id": "8PiGJhj0hNHC"
   },
   "outputs": [],
   "source": [
    "# Hyper parameters\n",
    "num_epochs = 10 # number of epochs for train\n",
    "batch_size = 128 # do not change this value\n",
    "learning_rate = 0.0001 # do not change this value"
   ]
  },
  {
   "cell_type": "markdown",
   "metadata": {
    "id": "0lJAxpK_raTK"
   },
   "source": [
    "Download CIFAR10 dataset\n",
    "\n",
    "You can check the number of dataset by printing ```len(dataset)```\n",
    "\n",
    "\n"
   ]
  },
  {
   "cell_type": "code",
   "execution_count": 89,
   "metadata": {
    "colab": {
     "base_uri": "https://localhost:8080/"
    },
    "executionInfo": {
     "elapsed": 3001,
     "status": "ok",
     "timestamp": 1621429856597,
     "user": {
      "displayName": "H C",
      "photoUrl": "",
      "userId": "07474971102237626480"
     },
     "user_tz": -540
    },
    "id": "vy9OchhkoLOs",
    "outputId": "ed0dfa27-c7f0-4198-ea91-5f40a573fcc3"
   },
   "outputs": [
    {
     "name": "stdout",
     "output_type": "stream",
     "text": [
      "Files already downloaded and verified\n",
      "Number of train images: 50000\n",
      "Number of test images: 10000\n"
     ]
    }
   ],
   "source": [
    "# CIFAR10 dataset\n",
    "\n",
    "composed_transforms = transforms.Compose([transforms.Resize((64,64)),\n",
    "                                         transforms.ToTensor(),\n",
    "                                        transforms.Normalize((0.5, 0.5, 0.5), (0.5, 0.5, 0.5)) \n",
    "                                        #for accurate compraision, I added Normalization, because I did normalization on 2nd training (problem3)\n",
    "                                        ])  # 32,32 to 64,64\n",
    "\n",
    "train_dataset = torchvision.datasets.CIFAR10(root='./data',\n",
    "                                           train=True, \n",
    "                                           transform=composed_transforms,                                          \n",
    "                                           download=True)\n",
    "\n",
    "test_dataset = torchvision.datasets.CIFAR10(root='./data',\n",
    "                                          train=False, \n",
    "                                          transform=composed_transforms)\n",
    "\n",
    "print('Number of train images: {}'.format(len(train_dataset)))\n",
    "print('Number of test images: {}'.format(len(test_dataset)))\n"
   ]
  },
  {
   "cell_type": "markdown",
   "metadata": {
    "id": "KGiGQLaXoab0"
   },
   "source": [
    "```torch.utils.data.DataLoader``` shuffles the training data and devides the entire data with ```batch_size```\n",
    "\n"
   ]
  },
  {
   "cell_type": "code",
   "execution_count": 90,
   "metadata": {
    "executionInfo": {
     "elapsed": 2993,
     "status": "ok",
     "timestamp": 1621429856598,
     "user": {
      "displayName": "H C",
      "photoUrl": "",
      "userId": "07474971102237626480"
     },
     "user_tz": -540
    },
    "id": "poIE18hKomJ6"
   },
   "outputs": [],
   "source": [
    "# Data loader\n",
    "train_loader = torch.utils.data.DataLoader(dataset=train_dataset,\n",
    "                                           batch_size=batch_size, \n",
    "                                           shuffle=True)\n",
    "\n",
    "test_loader = torch.utils.data.DataLoader(dataset=test_dataset,\n",
    "                                          batch_size=batch_size, \n",
    "                                          shuffle=False)"
   ]
  },
  {
   "cell_type": "code",
   "execution_count": 91,
   "metadata": {
    "colab": {
     "base_uri": "https://localhost:8080/",
     "height": 369
    },
    "executionInfo": {
     "elapsed": 2992,
     "status": "ok",
     "timestamp": 1621429856600,
     "user": {
      "displayName": "H C",
      "photoUrl": "",
      "userId": "07474971102237626480"
     },
     "user_tz": -540
    },
    "id": "HYAL490idLRJ",
    "outputId": "eb9f343b-163f-47ba-8459-5ab7a89da41b"
   },
   "outputs": [
    {
     "name": "stderr",
     "output_type": "stream",
     "text": [
      "Clipping input data to the valid range for imshow with RGB data ([0..1] for floats or [0..255] for integers).\n"
     ]
    },
    {
     "name": "stdout",
     "output_type": "stream",
     "text": [
      "Size of single image tensor: torch.Size([3, 64, 64])\n",
      "Size of single image array: (64, 64, 3)\n",
      "\n"
     ]
    },
    {
     "data": {
      "text/plain": [
       "<matplotlib.image.AxesImage at 0x7f7950967e10>"
      ]
     },
     "execution_count": 91,
     "metadata": {
      "tags": []
     },
     "output_type": "execute_result"
    },
    {
     "data": {
      "image/png": "[encoded data removed]",
      "text/plain": [
       "<Figure size 432x288 with 1 Axes>"
      ]
     },
     "metadata": {
      "needs_background": "light",
      "tags": []
     },
     "output_type": "display_data"
    }
   ],
   "source": [
    "import matplotlib.pyplot as plt\n",
    "import numpy as np\n",
    "import random\n",
    "\n",
    "# Get single image data\n",
    "image_tensor, image_label = train_dataset.__getitem__(random.randint(0, len(train_dataset)))\n",
    "print('Size of single image tensor: {}'.format(image_tensor.size()))\n",
    "\n",
    "# Torch tensor to numpy array\n",
    "image_array = image_tensor.squeeze().numpy()\n",
    "image_array = np.transpose(image_array, (1, 2, 0))\n",
    "\n",
    "print('Size of single image array: {}\\n'.format(image_array.shape))\n",
    "\n",
    "# Plot image\n",
    "plt.title('Image of {}'.format(image_label))\n",
    "plt.imshow(image_array)\n"
   ]
  },
  {
   "cell_type": "markdown",
   "metadata": {
    "id": "0xUaQUd0xjsn"
   },
   "source": [
    "## Problem1. Implementation of VGGNet-11 (25%)\n",
    "\n",
    "\n",
    "- Implement the convolutional layers fully connected layers in `self.features` and `self.classifiers`, respectively.\n",
    "- VGGNet-11 consists of 6 convolutional layers and three fully connected layers.\n",
    "\n",
    "- Convolutional layers\n",
    "\n",
    "| layer       | feature maps | kernel size | stride | padding | activation |\n",
    "|:-------------:|:--------------:|-------------|--------|---------|------------|\n",
    "| input image | 3            | -           | -      | -       | -          |\n",
    "|    conv1    |      64      |     3x3     |   1x1  |   1x1   |    relu    |\n",
    "|   maxpool1  |      64      |     2x2     |   2x2  |    -    |      -     |\n",
    "|    conv2    |      128     |     3x3     |   1x1  |   1x1   |    relu    |\n",
    "|   maxpool2  |      128     |     2x2     |   2x2  |    -    |      -     |\n",
    "|    conv3    |      256     |     3x3     |   1x1  |   1x1   |    relu    |\n",
    "|    conv4    |      256     |     3x3     |   1x1  |   1x1   |    relu    |\n",
    "|   maxpool3  |      256     |     2x2     |   2x2  |    -    |      -     |\n",
    "|    conv5    |      512     |     3x3     |   1x1  |   1x1   |    relu    |\n",
    "|    conv6    |      512     |     3x3     |   1x1  |   1x1   |    relu    |\n",
    "|   maxpool4  |      512     |     2x2     |   2x2  |    -    |      -     |\n",
    "|    conv7    |      512     |     3x3     |   1x1  |   1x1   |    relu    |\n",
    "|    conv8    |      512     |     3x3     |   1x1  |   1x1   |    relu    |\n",
    "|   maxpool5  |      512     |     2x2     |   2x2  |    -    |      -     |\n",
    "\n",
    "- Fully connected layers.\n",
    "\n",
    "|  layer  | size | activation |\n",
    "|:-------:|:----:|:----------:|\n",
    "| linear1 | 4096 |    relu    |\n",
    "| dropout |   -  |      -     |\n",
    "| linear2 | 4096 |    relu    |\n",
    "| dropout |   -  |      -     |\n",
    "| linear3 | 4096 |  num_class |\n",
    "\n",
    "\n",
    "[Reference](https://https://medium.com/coinmonks/paper-review-of-vggnet-1st-runner-up-of-ilsvlc-2014-image-classification-d02355543a11)\n",
    "\n",
    "※ You can use AvgPooling before classifier because of large memory."
   ]
  },
  {
   "cell_type": "code",
   "execution_count": 92,
   "metadata": {
    "executionInfo": {
     "elapsed": 2989,
     "status": "ok",
     "timestamp": 1621429856601,
     "user": {
      "displayName": "H C",
      "photoUrl": "",
      "userId": "07474971102237626480"
     },
     "user_tz": -540
    },
    "id": "e-iZxpBGyjrd"
   },
   "outputs": [],
   "source": [
    "class VGGNet(nn.Module):\n",
    "    def __init__(self, num_classes=10, init_weights=True):\n",
    "        super(VGGNet, self).__init__()\n",
    "        \n",
    "        self.features = nn.Sequential(\n",
    "            # convolutional layers\n",
    "            nn.Conv2d(in_channels=3, out_channels=64, kernel_size=3, stride=1, padding=1), nn.ReLU(),#conv1\n",
    "            nn.MaxPool2d(kernel_size=2, stride=2),#maxpool1\n",
    "            nn.Conv2d(in_channels=64, out_channels=128, kernel_size=3, stride=1, padding=1),nn.ReLU(),#Conv2\n",
    "            nn.MaxPool2d(kernel_size=2, stride=2),#maxpool2\n",
    "            nn.Conv2d(in_channels=128, out_channels=256, kernel_size=3, stride=1, padding=1),nn.ReLU(),#Conv3\n",
    "            nn.Conv2d(in_channels=256, out_channels=256, kernel_size=3, stride=1, padding=1),nn.ReLU(),#Conv4\n",
    "            nn.MaxPool2d(kernel_size=2, stride=2),#maxpool3\n",
    "            nn.Conv2d(in_channels=256, out_channels=512, kernel_size=3, stride=1, padding=1),nn.ReLU(),#Conv5\n",
    "            nn.Conv2d(in_channels=512, out_channels=512, kernel_size=3, stride=1, padding=1),nn.ReLU(),#Conv6\n",
    "            nn.MaxPool2d(kernel_size=2, stride=2),#maxpool4\n",
    "            nn.Conv2d(in_channels=512, out_channels=512, kernel_size=3, stride=1, padding=1),nn.ReLU(),#Conv7\n",
    "            nn.Conv2d(in_channels=512, out_channels=512, kernel_size=3, stride=1, padding=1),nn.ReLU(),#Conv8\n",
    "            nn.MaxPool2d(kernel_size=2, stride=2),#maxpool5\n",
    "\n",
    "        )\n",
    "\n",
    "\n",
    "        self.classifier = nn.Sequential(\n",
    "            # FClayers\n",
    "            nn.Linear(in_features=512*2*2, out_features=4096),\n",
    "            nn.ReLU(True),\n",
    "            nn.Dropout(),\n",
    "            nn.Linear(in_features=4096, out_features=4096),\n",
    "            nn.ReLU(True),\n",
    "            nn.Dropout(),\n",
    "            nn.Linear(in_features=4096, out_features=num_classes)\n",
    "        )\n",
    "\n",
    "    def forward(self, x):\n",
    "        x = self.features(x)\n",
    "        x = x.view(x.shape[0], -1)\n",
    "        x = self.classifier(x)\n",
    "        return x"
   ]
  },
  {
   "cell_type": "markdown",
   "metadata": {
    "id": "fDLkdlvur1TN"
   },
   "source": [
    "## Problem2. Train and Test the VGGNet-11 (25%)\n",
    "\n",
    "1.  Define the criterion and optimizer (use the CrossEntropyLoss and Adam optimizer)\n",
    "- Using the `train_loader`, train the VGGNet on CIFAR10 dataset for 10 epoch \n",
    "- While training, monitor the training loss and accuracy and draw the graph (loss vs. epoch | accuracy vs. epoch) with matplotlib\n",
    "- After training the model, check the validation loss and accuracy by running your trained model on the test dataset. (Use the `test_loader`)\n",
    "- While test the model, draw the graph (loss vs epoch | accuracy vs epoch) with matplotlib"
   ]
  },
  {
   "cell_type": "code",
   "execution_count": 93,
   "metadata": {
    "colab": {
     "base_uri": "https://localhost:8080/"
    },
    "executionInfo": {
     "elapsed": 213055,
     "status": "ok",
     "timestamp": 1621430066670,
     "user": {
      "displayName": "H C",
      "photoUrl": "",
      "userId": "07474971102237626480"
     },
     "user_tz": -540
    },
    "id": "swkQ-MLHStjR",
    "outputId": "062a3b85-deb4-49ad-fe10-c98cd2716742"
   },
   "outputs": [
    {
     "name": "stdout",
     "output_type": "stream",
     "text": [
      "Epoch: [0][0/391]\tLoss 2.3021 (2.3021)\n",
      "Epoch: [0][100/391]\tLoss 1.9685 (2.1649)\n",
      "Epoch: [0][200/391]\tLoss 1.7435 (1.9976)\n",
      "Epoch: [0][300/391]\tLoss 1.5622 (1.8960)\n",
      "train result: Loss: 1.8227506128692628, Acc: 30.363\n",
      "\n",
      "Test: [0/79]\tLoss 1.6433 (1.6433)\tPrec@1 36.719 (36.719)\n",
      "Validation result: Loss: 1.6092150388717652, Acc: 38.02\n",
      "\n",
      "Epoch: [1][0/391]\tLoss 1.5763 (1.5763)\n",
      "Epoch: [1][100/391]\tLoss 1.5837 (1.5084)\n",
      "Epoch: [1][200/391]\tLoss 1.2449 (1.4725)\n",
      "Epoch: [1][300/391]\tLoss 1.3293 (1.4337)\n",
      "train result: Loss: 1.4072491621017456, Acc: 47.55725\n",
      "\n",
      "Test: [0/79]\tLoss 1.1740 (1.1740)\tPrec@1 62.500 (62.500)\n",
      "Validation result: Loss: 1.2609416683197021, Acc: 53.61125\n",
      "\n",
      "Epoch: [2][0/391]\tLoss 1.1890 (1.1890)\n",
      "Epoch: [2][100/391]\tLoss 1.1423 (1.2302)\n",
      "Epoch: [2][200/391]\tLoss 1.1545 (1.2190)\n",
      "Epoch: [2][300/391]\tLoss 1.2086 (1.1988)\n",
      "train result: Loss: 1.1877834840393067, Acc: 56.26275\n",
      "\n",
      "Test: [0/79]\tLoss 1.0293 (1.0293)\tPrec@1 65.625 (65.625)\n",
      "Validation result: Loss: 1.0955200073242188, Acc: 60.7325\n",
      "\n",
      "Epoch: [3][0/391]\tLoss 1.0265 (1.0265)\n",
      "Epoch: [3][100/391]\tLoss 1.0385 (1.0553)\n",
      "Epoch: [3][200/391]\tLoss 1.0953 (1.0343)\n",
      "Epoch: [3][300/391]\tLoss 0.9896 (1.0236)\n",
      "train result: Loss: 1.0079165645027162, Acc: 63.348\n",
      "\n",
      "Test: [0/79]\tLoss 1.0523 (1.0523)\tPrec@1 62.500 (62.500)\n",
      "Validation result: Loss: 1.005151229286194, Acc: 64.0025\n",
      "\n",
      "Epoch: [4][0/391]\tLoss 0.8331 (0.8331)\n",
      "Epoch: [4][100/391]\tLoss 0.8803 (0.9233)\n",
      "Epoch: [4][200/391]\tLoss 0.9378 (0.9024)\n",
      "Epoch: [4][300/391]\tLoss 1.0295 (0.8887)\n",
      "train result: Loss: 0.8796000633239746, Acc: 68.42475\n",
      "\n",
      "Test: [0/79]\tLoss 0.8916 (0.8916)\tPrec@1 68.750 (68.750)\n",
      "Validation result: Loss: 0.8748737866401672, Acc: 68.69375\n",
      "\n",
      "Epoch: [5][0/391]\tLoss 0.6423 (0.6423)\n",
      "Epoch: [5][100/391]\tLoss 0.7228 (0.7716)\n",
      "Epoch: [5][200/391]\tLoss 0.7275 (0.7780)\n",
      "Epoch: [5][300/391]\tLoss 0.6938 (0.7692)\n",
      "train result: Loss: 0.7607772590637207, Acc: 72.81375\n",
      "\n",
      "Test: [0/79]\tLoss 0.8034 (0.8034)\tPrec@1 70.312 (70.312)\n",
      "Validation result: Loss: 0.8114541101455689, Acc: 71.5975\n",
      "\n",
      "Epoch: [6][0/391]\tLoss 0.6673 (0.6673)\n",
      "Epoch: [6][100/391]\tLoss 0.4515 (0.6621)\n",
      "Epoch: [6][200/391]\tLoss 0.5770 (0.6593)\n",
      "Epoch: [6][300/391]\tLoss 0.7901 (0.6535)\n",
      "train result: Loss: 0.6509418533706665, Acc: 76.93425\n",
      "\n",
      "Test: [0/79]\tLoss 0.7064 (0.7064)\tPrec@1 75.781 (75.781)\n",
      "Validation result: Loss: 0.7378009700775147, Acc: 74.70625\n",
      "\n",
      "Epoch: [7][0/391]\tLoss 0.5654 (0.5654)\n",
      "Epoch: [7][100/391]\tLoss 0.4749 (0.5510)\n",
      "Epoch: [7][200/391]\tLoss 0.5591 (0.5503)\n",
      "Epoch: [7][300/391]\tLoss 0.4469 (0.5588)\n",
      "train result: Loss: 0.5594701620483399, Acc: 80.3225\n",
      "\n",
      "Test: [0/79]\tLoss 0.6987 (0.6987)\tPrec@1 75.781 (75.781)\n",
      "Validation result: Loss: 0.7195904109477996, Acc: 75.7775\n",
      "\n",
      "Epoch: [8][0/391]\tLoss 0.5053 (0.5053)\n",
      "Epoch: [8][100/391]\tLoss 0.4497 (0.4661)\n",
      "Epoch: [8][200/391]\tLoss 0.5822 (0.4644)\n",
      "Epoch: [8][300/391]\tLoss 0.4850 (0.4686)\n",
      "train result: Loss: 0.46859271575927736, Acc: 83.5105\n",
      "\n",
      "Test: [0/79]\tLoss 0.7126 (0.7126)\tPrec@1 78.906 (78.906)\n",
      "Validation result: Loss: 0.7306777822494507, Acc: 75.85375\n",
      "\n",
      "Epoch: [9][0/391]\tLoss 0.5318 (0.5318)\n",
      "Epoch: [9][100/391]\tLoss 0.3465 (0.3674)\n",
      "Epoch: [9][200/391]\tLoss 0.3161 (0.3653)\n",
      "Epoch: [9][300/391]\tLoss 0.3797 (0.3716)\n",
      "train result: Loss: 0.3731415620422363, Acc: 87.00525\n",
      "\n",
      "Test: [0/79]\tLoss 0.7347 (0.7347)\tPrec@1 78.906 (78.906)\n",
      "Validation result: Loss: 0.7197664209365845, Acc: 77.47625\n",
      "\n"
     ]
    }
   ],
   "source": [
    "# train and test\n",
    "model = VGGNet().to(device)\n",
    "optimizer = torch.optim.Adam(model.parameters(), lr=learning_rate)\n",
    "criterion = nn.CrossEntropyLoss()\n",
    "\n",
    "\n",
    "def accuracy(output, target, topk=(1,)):\n",
    "    \"\"\"Computes the precision@k for the specified values of k\"\"\"\n",
    "    maxk = max(topk)\n",
    "    \n",
    "    _, pred = output.topk(maxk, 1, True, True)\n",
    "    pred = pred.t()\n",
    "    correct = pred.eq(target.view(1, -1).expand_as(pred))\n",
    "\n",
    "    res = []\n",
    "    for k in topk:\n",
    "        correct_k = correct[:k].view(-1).float().sum(0)\n",
    "        res.append(correct_k.mul_(100.0 / batch_size))\n",
    "    return res\n",
    "\n",
    "class AverageMeter(object):\n",
    "    \"\"\"Computes and stores the average and current value\"\"\"\n",
    "    def __init__(self):\n",
    "        self.reset()\n",
    "\n",
    "    def reset(self):\n",
    "        self.val = 0\n",
    "        self.avg = 0\n",
    "        self.sum = 0\n",
    "        self.count = 0\n",
    "\n",
    "    def update(self, val, n=1):\n",
    "        self.val = val\n",
    "        self.sum += val * n\n",
    "        self.count += n\n",
    "        self.avg = self.sum / self.count\n",
    "\n",
    "train_loss_arr = []\n",
    "train_acc_arr = []\n",
    "\n",
    "val_loss_arr = []\n",
    "val_acc_arr = []\n",
    "\n",
    "\n",
    "for epoch in range(num_epochs):\n",
    "\n",
    "    model.train()\n",
    "\n",
    "    losses = AverageMeter()\n",
    "    top1 = AverageMeter()\n",
    "\n",
    "    for i, (data, target) in enumerate(train_loader):\n",
    "        \n",
    "        data = data.to(device)\n",
    "        target = target.to(device)\n",
    "\n",
    "        output = model(data) \n",
    "\n",
    "        loss = criterion(output, target)\n",
    "\n",
    "        output.float()\n",
    "        loss.float()\n",
    "\n",
    "        prec1 = accuracy(output.data, target)\n",
    "        prec1 = prec1[0]\n",
    "\n",
    "        losses.update(loss.item(), data.size(0))\n",
    "        top1.update(prec1.item(), data.size(0))\n",
    "\n",
    "        if i % 100 == 0:\n",
    "            print('Epoch: [{0}][{1}/{2}]\\t'\n",
    "                  'Loss {loss.val:.4f} ({loss.avg:.4f})'.format(epoch, i, len(train_loader), loss=losses))\n",
    "\n",
    "        \n",
    "        optimizer.zero_grad()\n",
    "\n",
    "        loss.backward()\n",
    "\n",
    "        optimizer.step()\n",
    "\n",
    "    train_loss_arr.append(losses.avg)\n",
    "    train_acc_arr.append(top1.avg)\n",
    "    print(\"train result: Loss: {}, Acc: {}\\n\".format(losses.avg, top1.avg))\n",
    "\n",
    "\n",
    "    model.eval()\n",
    "    with torch.no_grad():\n",
    "        val_loss_sum = 0\n",
    "        val_acc_sum = 0\n",
    "\n",
    "        losses = AverageMeter()\n",
    "        top1 = AverageMeter()\n",
    "\n",
    "        for i, (data, target) in enumerate(test_loader):\n",
    "            data = data.to(device)\n",
    "            target = target.to(device)\n",
    "\n",
    "            output = model(data) \n",
    "\n",
    "            loss = criterion(output, target)\n",
    "\n",
    "            output.float()\n",
    "            loss.float()\n",
    "\n",
    "            prec1 = accuracy(output.data, target)\n",
    "\n",
    "            prec1 = prec1[0]\n",
    "            losses.update(loss.item(), data.size(0))\n",
    "            top1.update(prec1.item(), data.size(0))\n",
    "\n",
    "            if i % 100 == 0:\n",
    "                print('Test: [{0}/{1}]\\t'\n",
    "                      'Loss {loss.val:.4f} ({loss.avg:.4f})\\t'\n",
    "                      'Prec@1 {top1.val:.3f} ({top1.avg:.3f})'.format(\n",
    "                          i, len(test_loader), loss=losses, top1=top1))\n",
    "\n",
    "        val_loss_arr.append(losses.avg)\n",
    "        val_acc_arr.append(top1.avg)\n",
    "        print(\"Validation result: Loss: {}, Acc: {}\\n\".format(losses.avg, top1.avg))\n"
   ]
  },
  {
   "cell_type": "code",
   "execution_count": 94,
   "metadata": {
    "colab": {
     "base_uri": "https://localhost:8080/",
     "height": 353
    },
    "executionInfo": {
     "elapsed": 213054,
     "status": "ok",
     "timestamp": 1621430066672,
     "user": {
      "displayName": "H C",
      "photoUrl": "",
      "userId": "07474971102237626480"
     },
     "user_tz": -540
    },
    "id": "NX75rWODStjR",
    "outputId": "719de605-f252-4dc8-b3e6-87c601c50c70"
   },
   "outputs": [
    {
     "data": {
      "text/plain": [
       "<Figure size 432x288 with 0 Axes>"
      ]
     },
     "metadata": {
      "tags": []
     },
     "output_type": "display_data"
    },
    {
     "data": {
      "image/png": "[encoded data removed]",
      "text/plain": [
       "<Figure size 1080x360 with 2 Axes>"
      ]
     },
     "metadata": {
      "needs_background": "light",
      "tags": []
     },
     "output_type": "display_data"
    }
   ],
   "source": [
    "# draw the graph\n",
    "import matplotlib.pyplot as plt\n",
    "history = {}\n",
    "\n",
    "history['acc'] = train_acc_arr\n",
    "history['loss'] = train_loss_arr\n",
    "\n",
    "history['val_acc'] = val_acc_arr \n",
    "history['val_loss'] = val_loss_arr\n",
    "\n",
    "acc = history['acc']\n",
    "val_acc = history['val_acc']\n",
    "loss = history['loss']\n",
    "val_loss = history['val_loss']\n",
    "\n",
    "plt.clf() \n",
    "plt.figure(figsize=(15, 5))\n",
    "\n",
    "epochs = range(1, len(acc) + 1)\n",
    "\n",
    "plt.subplot(1, 2, 1)\n",
    "plt.plot(epochs, acc, 'bo', label='Training acc.')\n",
    "plt.plot(epochs, val_acc, 'b', label='Validation acc.')\n",
    "plt.title('Training and validation accuracy')\n",
    "plt.legend()\n",
    "\n",
    "plt.subplot(1, 2, 2)\n",
    "plt.plot(epochs, loss, 'bo', label='Training loss')\n",
    "plt.plot(epochs, val_loss, 'b', label='Validation loss')\n",
    "plt.title('Training and validation loss')\n",
    "plt.legend()\n",
    "\n",
    "plt.show()"
   ]
  },
  {
   "cell_type": "markdown",
   "metadata": {
    "id": "VKWvUcgVStjS"
   },
   "source": [
    "## Problem3. Apply Data Augmentation on your VGGNet-11 (25%)\n",
    "\n",
    "1.  Use transform.Compose function, apply data augmentation to your VGG model.\n",
    "\n",
    "[Reference](https://pytorch.org/vision/stable/_modules/torchvision/transforms/transforms.html#Compose)\n",
    "\n",
    "### Example)\n",
    "- Use RandomHorizontalFlip, flip the image with a probability of 0.5.\n",
    "- Use RandomRotation, tilt randomly to 10 degrees or less.\n",
    "- Use ColorJitter, Randomly adjust brightness, contrast, and saturation. (0.2)\n",
    "- Or something want to apply."
   ]
  },
  {
   "cell_type": "markdown",
   "metadata": {
    "id": "YSr_nPkgQ1-I"
   },
   "source": [
    "***추가 코멘트\n",
    "Data Augmentation 적용 한 후의 성능이 얼마나 향상되었는지를 보기위해, test data set에는 data augmentation을 적용안함. \n",
    "=> 따라서, test data set은 기본적인 normalization, resize, totensor만 적용하는 transform을 따로 작성함. "
   ]
  },
  {
   "cell_type": "code",
   "execution_count": 95,
   "metadata": {
    "colab": {
     "base_uri": "https://localhost:8080/"
    },
    "executionInfo": {
     "elapsed": 214121,
     "status": "ok",
     "timestamp": 1621430067743,
     "user": {
      "displayName": "H C",
      "photoUrl": "",
      "userId": "07474971102237626480"
     },
     "user_tz": -540
    },
    "id": "GcYk0yIrStjS",
    "outputId": "460a6957-2b15-4694-ab3a-818150750703"
   },
   "outputs": [
    {
     "name": "stdout",
     "output_type": "stream",
     "text": [
      "Files already downloaded and verified\n",
      "Number of train images: 50000\n",
      "Number of test images: 10000\n"
     ]
    }
   ],
   "source": [
    "# CIFAR10 dataset\n",
    "test_transforms = transforms.Compose([transforms.Resize((64,64)),\n",
    "                                        transforms.ToTensor(),\n",
    "                                        transforms.Normalize((0.5, 0.5, 0.5), (0.5, 0.5, 0.5))\n",
    "                                        ]) # 32,32 to 64,64\n",
    "                                         \n",
    "composed_transforms = transforms.Compose([transforms.Resize((64,64)),\n",
    "                                         transforms.ToTensor(),\n",
    "                                         # apply additional agmentation\n",
    "                                          transforms.RandomHorizontalFlip(0.5),\n",
    "                                          transforms.RandomRotation(10),\n",
    "                                          transforms.ColorJitter(0.2, 0.2, 0.2, 0.2),\n",
    "                                          \n",
    "                                          transforms.Normalize((0.5, 0.5, 0.5), (0.5, 0.5, 0.5))\n",
    "                                         ]) # 32,32 to 64,64\n",
    "\n",
    "train_dataset = torchvision.datasets.CIFAR10(root='./data',\n",
    "                                           train=True, \n",
    "                                           transform=composed_transforms,                                          \n",
    "                                           download=True)\n",
    "\n",
    "test_dataset = torchvision.datasets.CIFAR10(root='./data',\n",
    "                                          train=False, \n",
    "                                          transform=test_transforms)\n",
    "\n",
    "print('Number of train images: {}'.format(len(train_dataset)))\n",
    "print('Number of test images: {}'.format(len(test_dataset)))"
   ]
  },
  {
   "cell_type": "code",
   "execution_count": 96,
   "metadata": {
    "colab": {
     "base_uri": "https://localhost:8080/",
     "height": 369
    },
    "executionInfo": {
     "elapsed": 214119,
     "status": "ok",
     "timestamp": 1621430067745,
     "user": {
      "displayName": "H C",
      "photoUrl": "",
      "userId": "07474971102237626480"
     },
     "user_tz": -540
    },
    "id": "yFtrFRhkStjT",
    "outputId": "bbc224e7-3a37-483e-8c1a-1603ea11abec"
   },
   "outputs": [
    {
     "name": "stderr",
     "output_type": "stream",
     "text": [
      "Clipping input data to the valid range for imshow with RGB data ([0..1] for floats or [0..255] for integers).\n"
     ]
    },
    {
     "name": "stdout",
     "output_type": "stream",
     "text": [
      "Size of single image tensor: torch.Size([3, 64, 64])\n",
      "Size of single image array: (64, 64, 3)\n",
      "\n"
     ]
    },
    {
     "data": {
      "text/plain": [
       "<matplotlib.image.AxesImage at 0x7f7a31848950>"
      ]
     },
     "execution_count": 96,
     "metadata": {
      "tags": []
     },
     "output_type": "execute_result"
    },
    {
     "data": {
      "image/png": "[encoded data removed]",
      "text/plain": [
       "<Figure size 432x288 with 1 Axes>"
      ]
     },
     "metadata": {
      "needs_background": "light",
      "tags": []
     },
     "output_type": "display_data"
    }
   ],
   "source": [
    "import matplotlib.pyplot as plt\n",
    "import numpy as np\n",
    "import random\n",
    "\n",
    "# Get single image data\n",
    "image_tensor, image_label = train_dataset.__getitem__(random.randint(0, len(train_dataset)))\n",
    "print('Size of single image tensor: {}'.format(image_tensor.size()))\n",
    "\n",
    "# Torch tensor to numpy array\n",
    "image_array = image_tensor.squeeze().numpy()\n",
    "image_array = np.transpose(image_array, (1, 2, 0))\n",
    "\n",
    "print('Size of single image array: {}\\n'.format(image_array.shape))\n",
    "\n",
    "# Plot image\n",
    "plt.title('Image of {}'.format(image_label))\n",
    "plt.imshow(image_array)"
   ]
  },
  {
   "cell_type": "code",
   "execution_count": 97,
   "metadata": {
    "executionInfo": {
     "elapsed": 214116,
     "status": "ok",
     "timestamp": 1621430067746,
     "user": {
      "displayName": "H C",
      "photoUrl": "",
      "userId": "07474971102237626480"
     },
     "user_tz": -540
    },
    "id": "-RpFX48gStjT"
   },
   "outputs": [],
   "source": [
    "class VGGNet(nn.Module):\n",
    "    def __init__(self, num_classes=10, init_weights=True):\n",
    "        super(VGGNet, self).__init__()\n",
    "        \n",
    "        self.features = nn.Sequential(\n",
    "            # convolutional layers\n",
    "            nn.Conv2d(in_channels=3, out_channels=64, kernel_size=3, stride=1, padding=1), nn.ReLU(),#conv1\n",
    "            nn.MaxPool2d(kernel_size=2, stride=2),#maxpool1\n",
    "            nn.Conv2d(in_channels=64, out_channels=128, kernel_size=3, stride=1, padding=1),nn.ReLU(),#Conv2\n",
    "            nn.MaxPool2d(kernel_size=2, stride=2),#maxpool2\n",
    "            nn.Conv2d(in_channels=128, out_channels=256, kernel_size=3, stride=1, padding=1),nn.ReLU(),#Conv3\n",
    "            nn.Conv2d(in_channels=256, out_channels=256, kernel_size=3, stride=1, padding=1),nn.ReLU(),#Conv4\n",
    "            nn.MaxPool2d(kernel_size=2, stride=2),#maxpool3\n",
    "            nn.Conv2d(in_channels=256, out_channels=512, kernel_size=3, stride=1, padding=1),nn.ReLU(),#Conv5\n",
    "            nn.Conv2d(in_channels=512, out_channels=512, kernel_size=3, stride=1, padding=1),nn.ReLU(),#Conv6\n",
    "            nn.MaxPool2d(kernel_size=2, stride=2),#maxpool4\n",
    "            nn.Conv2d(in_channels=512, out_channels=512, kernel_size=3, stride=1, padding=1),nn.ReLU(),#Conv7\n",
    "            nn.Conv2d(in_channels=512, out_channels=512, kernel_size=3, stride=1, padding=1),nn.ReLU(),#Conv8\n",
    "            nn.MaxPool2d(kernel_size=2, stride=2),#maxpool5\n",
    "\n",
    "        )\n",
    "\n",
    "        #self.avgpool = nn.AdaptiveAvgPool2d(7)\n",
    "\n",
    "        self.classifier = nn.Sequential(\n",
    "            # FClayers\n",
    "            nn.Linear(in_features=512*2*2, out_features=4096),\n",
    "            nn.ReLU(True),\n",
    "            nn.Dropout(),\n",
    "            nn.Linear(in_features=4096, out_features=4096),\n",
    "            nn.ReLU(True),\n",
    "            nn.Dropout(),\n",
    "            nn.Linear(in_features=4096, out_features=num_classes)\n",
    "        )\n",
    "\n",
    "    def forward(self, x):\n",
    "        x = self.features(x)\n",
    "        x = x.view(x.shape[0], -1)\n",
    "        x = self.classifier(x)\n",
    "        return x"
   ]
  },
  {
   "cell_type": "markdown",
   "metadata": {
    "id": "8a_4w1TKi1EG"
   },
   "source": [
    "## Problem4. Apply Data Augmentation on your VGGNet-11 (25%)\n",
    "\n",
    "1.  In same condition with Problem 1 and 2, train and test your model.\n",
    "2.  Compare the results of Problem 2 and write a simple discussion."
   ]
  },
  {
   "cell_type": "markdown",
   "metadata": {
    "id": "LBD938j8i9SF"
   },
   "source": [
    "optimizer, loss function은 앞에서(problem1) 정의했어서, 그대로 사용. "
   ]
  },
  {
   "cell_type": "code",
   "execution_count": 98,
   "metadata": {
    "colab": {
     "base_uri": "https://localhost:8080/"
    },
    "executionInfo": {
     "elapsed": 424556,
     "status": "ok",
     "timestamp": 1621430278190,
     "user": {
      "displayName": "H C",
      "photoUrl": "",
      "userId": "07474971102237626480"
     },
     "user_tz": -540
    },
    "id": "JwhJMyUvT-6e",
    "outputId": "9f8582f1-ebe8-43c5-b288-ab21542415af"
   },
   "outputs": [
    {
     "name": "stdout",
     "output_type": "stream",
     "text": [
      "Epoch: [0][0/391]\tLoss 0.4138 (0.4138)\n",
      "Epoch: [0][100/391]\tLoss 0.3043 (0.2807)\n",
      "Epoch: [0][200/391]\tLoss 0.3010 (0.2827)\n",
      "Epoch: [0][300/391]\tLoss 0.3623 (0.2875)\n",
      "train result: Loss: 0.291973388967514, Acc: 89.79125\n",
      "\n",
      "Test: [0/79]\tLoss 0.7294 (0.7294)\tPrec@1 78.125 (78.125)\n",
      "Validation result: Loss: 0.7738072163581848, Acc: 76.58375\n",
      "\n",
      "Epoch: [1][0/391]\tLoss 0.3652 (0.3652)\n",
      "Epoch: [1][100/391]\tLoss 0.1955 (0.1999)\n",
      "Epoch: [1][200/391]\tLoss 0.2618 (0.2026)\n",
      "Epoch: [1][300/391]\tLoss 0.2098 (0.2085)\n",
      "train result: Loss: 0.21784619067668914, Acc: 92.44575\n",
      "\n",
      "Test: [0/79]\tLoss 0.7615 (0.7615)\tPrec@1 78.125 (78.125)\n",
      "Validation result: Loss: 0.7703411754608154, Acc: 78.40625\n",
      "\n",
      "Epoch: [2][0/391]\tLoss 0.1819 (0.1819)\n",
      "Epoch: [2][100/391]\tLoss 0.1232 (0.1365)\n",
      "Epoch: [2][200/391]\tLoss 0.1655 (0.1503)\n",
      "Epoch: [2][300/391]\tLoss 0.1806 (0.1557)\n",
      "train result: Loss: 0.16251910709381104, Acc: 94.387\n",
      "\n",
      "Test: [0/79]\tLoss 0.8325 (0.8325)\tPrec@1 80.469 (80.469)\n",
      "Validation result: Loss: 0.7996437891960144, Acc: 78.61625\n",
      "\n",
      "Epoch: [3][0/391]\tLoss 0.1073 (0.1073)\n",
      "Epoch: [3][100/391]\tLoss 0.1472 (0.1036)\n",
      "Epoch: [3][200/391]\tLoss 0.1692 (0.1057)\n",
      "Epoch: [3][300/391]\tLoss 0.0949 (0.1134)\n",
      "train result: Loss: 0.11564066417217254, Acc: 96.07625\n",
      "\n",
      "Test: [0/79]\tLoss 0.9798 (0.9798)\tPrec@1 77.344 (77.344)\n",
      "Validation result: Loss: 0.8690978902816773, Acc: 79.095\n",
      "\n",
      "Epoch: [4][0/391]\tLoss 0.1226 (0.1226)\n",
      "Epoch: [4][100/391]\tLoss 0.1194 (0.0887)\n",
      "Epoch: [4][200/391]\tLoss 0.1219 (0.0874)\n",
      "Epoch: [4][300/391]\tLoss 0.0828 (0.0923)\n",
      "train result: Loss: 0.09515396155834198, Acc: 96.705\n",
      "\n",
      "Test: [0/79]\tLoss 0.8900 (0.8900)\tPrec@1 78.906 (78.906)\n",
      "Validation result: Loss: 0.9284415341377258, Acc: 78.0275\n",
      "\n",
      "Epoch: [5][0/391]\tLoss 0.0766 (0.0766)\n",
      "Epoch: [5][100/391]\tLoss 0.0341 (0.0605)\n",
      "Epoch: [5][200/391]\tLoss 0.0302 (0.0647)\n",
      "Epoch: [5][300/391]\tLoss 0.0477 (0.0714)\n",
      "train result: Loss: 0.07318578788995743, Acc: 97.48625\n",
      "\n",
      "Test: [0/79]\tLoss 0.9809 (0.9809)\tPrec@1 76.562 (76.562)\n",
      "Validation result: Loss: 0.9696594030380249, Acc: 78.5375\n",
      "\n",
      "Epoch: [6][0/391]\tLoss 0.0304 (0.0304)\n",
      "Epoch: [6][100/391]\tLoss 0.0495 (0.0611)\n",
      "Epoch: [6][200/391]\tLoss 0.0722 (0.0595)\n",
      "Epoch: [6][300/391]\tLoss 0.0490 (0.0633)\n",
      "train result: Loss: 0.06315408755898476, Acc: 97.821\n",
      "\n",
      "Test: [0/79]\tLoss 1.0904 (1.0904)\tPrec@1 78.125 (78.125)\n",
      "Validation result: Loss: 1.032895553588867, Acc: 78.425\n",
      "\n",
      "Epoch: [7][0/391]\tLoss 0.0738 (0.0738)\n",
      "Epoch: [7][100/391]\tLoss 0.0444 (0.0456)\n",
      "Epoch: [7][200/391]\tLoss 0.1705 (0.0538)\n",
      "Epoch: [7][300/391]\tLoss 0.0306 (0.0567)\n",
      "train result: Loss: 0.05774979885876179, Acc: 97.992\n",
      "\n",
      "Test: [0/79]\tLoss 1.0798 (1.0798)\tPrec@1 77.344 (77.344)\n",
      "Validation result: Loss: 1.009208582019806, Acc: 78.8375\n",
      "\n",
      "Epoch: [8][0/391]\tLoss 0.0343 (0.0343)\n",
      "Epoch: [8][100/391]\tLoss 0.0248 (0.0603)\n",
      "Epoch: [8][200/391]\tLoss 0.0208 (0.0520)\n",
      "Epoch: [8][300/391]\tLoss 0.0314 (0.0460)\n",
      "train result: Loss: 0.0502800659942627, Acc: 98.21275\n",
      "\n",
      "Test: [0/79]\tLoss 1.3013 (1.3013)\tPrec@1 75.000 (75.000)\n",
      "Validation result: Loss: 1.0952803615570068, Acc: 78.69625\n",
      "\n",
      "Epoch: [9][0/391]\tLoss 0.0290 (0.0290)\n",
      "Epoch: [9][100/391]\tLoss 0.0677 (0.0299)\n",
      "Epoch: [9][200/391]\tLoss 0.0147 (0.0406)\n",
      "Epoch: [9][300/391]\tLoss 0.0391 (0.0415)\n",
      "train result: Loss: 0.04550383294165134, Acc: 98.3895\n",
      "\n",
      "Test: [0/79]\tLoss 0.9840 (0.9840)\tPrec@1 75.781 (75.781)\n",
      "Validation result: Loss: 1.0653299655914306, Acc: 77.8525\n",
      "\n"
     ]
    }
   ],
   "source": [
    "#optimizer, loss function은 앞에서(problem1) 정의했음. \n",
    "\n",
    "train_loss_arr = []\n",
    "train_acc_arr = []\n",
    "\n",
    "val_loss_arr = []\n",
    "val_acc_arr = []\n",
    "\n",
    "\n",
    "for epoch in range(num_epochs):\n",
    "\n",
    "    model.train()\n",
    "\n",
    "    losses = AverageMeter()\n",
    "    top1 = AverageMeter()\n",
    "\n",
    "    for i, (data, target) in enumerate(train_loader):\n",
    "        \n",
    "        data = data.to(device)\n",
    "        target = target.to(device)\n",
    "\n",
    "        output = model(data) \n",
    "\n",
    "        loss = criterion(output, target)\n",
    "\n",
    "        output.float()\n",
    "        loss.float()\n",
    "\n",
    "        prec1 = accuracy(output.data, target)\n",
    "        prec1 = prec1[0]\n",
    "\n",
    "        losses.update(loss.item(), data.size(0))\n",
    "        top1.update(prec1.item(), data.size(0))\n",
    "\n",
    "        if i % 100 == 0:\n",
    "            print('Epoch: [{0}][{1}/{2}]\\t'\n",
    "                  'Loss {loss.val:.4f} ({loss.avg:.4f})'.format(epoch, i, len(train_loader), loss=losses))\n",
    "\n",
    "        \n",
    "        optimizer.zero_grad()\n",
    "\n",
    "        loss.backward()\n",
    "\n",
    "        optimizer.step()\n",
    "\n",
    "    train_loss_arr.append(losses.avg)\n",
    "    train_acc_arr.append(top1.avg)\n",
    "    print(\"train result: Loss: {}, Acc: {}\\n\".format(losses.avg, top1.avg))\n",
    "\n",
    "\n",
    "    model.eval()\n",
    "    with torch.no_grad():\n",
    "        val_loss_sum = 0\n",
    "        val_acc_sum = 0\n",
    "\n",
    "        losses = AverageMeter()\n",
    "        top1 = AverageMeter()\n",
    "\n",
    "        for i, (data, target) in enumerate(test_loader):\n",
    "            data = data.to(device)\n",
    "            target = target.to(device)\n",
    "\n",
    "            output = model(data) \n",
    "\n",
    "            loss = criterion(output, target)\n",
    "\n",
    "            output.float()\n",
    "            loss.float()\n",
    "\n",
    "            prec1 = accuracy(output.data, target)\n",
    "\n",
    "            prec1 = prec1[0]\n",
    "            losses.update(loss.item(), data.size(0))\n",
    "            top1.update(prec1.item(), data.size(0))\n",
    "\n",
    "            if i % 100 == 0:\n",
    "                print('Test: [{0}/{1}]\\t'\n",
    "                      'Loss {loss.val:.4f} ({loss.avg:.4f})\\t'\n",
    "                      'Prec@1 {top1.val:.3f} ({top1.avg:.3f})'.format(\n",
    "                          i, len(test_loader), loss=losses, top1=top1))\n",
    "\n",
    "        val_loss_arr.append(losses.avg)\n",
    "        val_acc_arr.append(top1.avg)\n",
    "        print(\"Validation result: Loss: {}, Acc: {}\\n\".format(losses.avg, top1.avg))\n"
   ]
  },
  {
   "cell_type": "code",
   "execution_count": 99,
   "metadata": {
    "colab": {
     "base_uri": "https://localhost:8080/",
     "height": 353
    },
    "executionInfo": {
     "elapsed": 424565,
     "status": "ok",
     "timestamp": 1621430278202,
     "user": {
      "displayName": "H C",
      "photoUrl": "",
      "userId": "07474971102237626480"
     },
     "user_tz": -540
    },
    "id": "zfQhbBrNYSfC",
    "outputId": "b7e17f85-a6a8-49ab-dd53-142bf76a222f"
   },
   "outputs": [
    {
     "data": {
      "text/plain": [
       "<Figure size 432x288 with 0 Axes>"
      ]
     },
     "metadata": {
      "tags": []
     },
     "output_type": "display_data"
    },
    {
     "data": {
      "image/png": "[encoded data removed]",
      "text/plain": [
       "<Figure size 1080x360 with 2 Axes>"
      ]
     },
     "metadata": {
      "needs_background": "light",
      "tags": []
     },
     "output_type": "display_data"
    }
   ],
   "source": [
    "history = {}\n",
    "\n",
    "history['acc1'] = train_acc_arr\n",
    "history['loss1'] = train_loss_arr\n",
    "\n",
    "history['val_acc1'] = val_acc_arr \n",
    "history['val_loss1'] = val_loss_arr\n",
    "\n",
    "acc1 = history['acc1']\n",
    "val_acc1 = history['val_acc1']\n",
    "loss1 = history['loss1']\n",
    "val_loss1 = history['val_loss1']\n",
    "\n",
    "plt.clf() \n",
    "plt.figure(figsize=(15, 5))\n",
    "\n",
    "epochs = range(1, len(acc) + 1)\n",
    "\n",
    "plt.subplot(1, 2, 1)\n",
    "plt.plot(epochs, acc1, 'bo', label='Training acc.')\n",
    "plt.plot(epochs, val_acc1, 'b', label='Validation acc.')\n",
    "plt.title('Training and validation accuracy')\n",
    "plt.legend()\n",
    "\n",
    "plt.subplot(1, 2, 2)\n",
    "plt.plot(epochs, loss1, 'bo', label='Training loss')\n",
    "plt.plot(epochs, val_loss1, 'b', label='Validation loss')\n",
    "plt.title('Training and validation loss')\n",
    "plt.legend()\n",
    "\n",
    "plt.show()"
   ]
  },
  {
   "cell_type": "code",
   "execution_count": 100,
   "metadata": {
    "colab": {
     "base_uri": "https://localhost:8080/",
     "height": 299
    },
    "executionInfo": {
     "elapsed": 425681,
     "status": "ok",
     "timestamp": 1621430279322,
     "user": {
      "displayName": "H C",
      "photoUrl": "",
      "userId": "07474971102237626480"
     },
     "user_tz": -540
    },
    "id": "B6qGlVhbStjU",
    "outputId": "927efc1f-5673-4eec-ff7f-7c309c65b178"
   },
   "outputs": [
    {
     "data": {
      "image/png": "[encoded data removed]",
      "text/plain": [
       "<Figure size 432x288 with 1 Axes>"
      ]
     },
     "metadata": {
      "needs_background": "light",
      "tags": []
     },
     "output_type": "display_data"
    },
    {
     "name": "stdout",
     "output_type": "stream",
     "text": [
      "Aug. means augmented\t blue: 1st train, red:2nd train(with augmentation)\n"
     ]
    }
   ],
   "source": [
    "\n",
    "plt.plot(epochs, acc, 'bo', label='Train. acc.')\n",
    "plt.plot(epochs, val_acc, 'b', label= 'Valid. acc.')\n",
    "plt.plot(epochs, acc1, 'ro', label='Aug.Train. acc.')\n",
    "plt.plot(epochs, val_acc1, 'r', label='Aug. Valid. acc.')\n",
    "plt.title('Training and validation accuracy')\n",
    "plt.legend()\n",
    "\n",
    "plt.show()\n",
    "\n",
    "print(\"Aug. means augmented\\t blue: 1st train, red:2nd train(with augmentation)\")"
   ]
  },
  {
   "cell_type": "markdown",
   "metadata": {
    "id": "5pYpifTitA28"
   },
   "source": [
    "Let's assume: 1st train - the train without augmentation. 2nd train- the train with augmentation. \n",
    "\n",
    "I plotted the accuracy and loss for both 1st and 2nd training. \n",
    "The plot in the right above cell is the comparison of 1st(blue) and 2nd (red) training.  This figure shows that the 1st train and valid(test) accuracy are higher than those of the 2nd train. This means that applying data augmentation has a positive effect on the performance of deep learning. \n",
    "\n",
    "But, the validation(test) accuracy of 2nd train was not increased as much as training accuracy did. This might be resulted from difference in transforms of training and test dataset. I applied augmented only train dataset of 2nd train. The problem of test accuray of the 2nd train might be solved with higher epoch.  \n",
    "\n",
    "However, unfortunately, the epoch was set as ten by considering the computational cost. This epoch is too small for a neural network to learn enough. \n",
    "If I have enough time and computational resources, I can increase epoch up to 100 or more, then the accuracy of 2nd training (with augmentation) will be much higher with better learning. "
   ]
  },
  {
   "cell_type": "code",
   "execution_count": 100,
   "metadata": {
    "executionInfo": {
     "elapsed": 425678,
     "status": "ok",
     "timestamp": 1621430279323,
     "user": {
      "displayName": "H C",
      "photoUrl": "",
      "userId": "07474971102237626480"
     },
     "user_tz": -540
    },
    "id": "_nKngZCqvO32"
   },
   "outputs": [],
   "source": []
  }
 ],
 "metadata": {
  "accelerator": "GPU",
  "colab": {
   "collapsed_sections": [],
   "name": "HW03_20201010.ipynb",
   "provenance": []
  },
  "kernelspec": {
   "display_name": "Python 3",
   "language": "python",
   "name": "python3"
  },
  "language_info": {
   "codemirror_mode": {
    "name": "ipython",
    "version": 3
   },
   "file_extension": ".py",
   "mimetype": "text/x-python",
   "name": "python",
   "nbconvert_exporter": "python",
   "pygments_lexer": "ipython3",
   "version": "3.8.1"
  }
 },
 "nbformat": 4,
 "nbformat_minor": 1
}
