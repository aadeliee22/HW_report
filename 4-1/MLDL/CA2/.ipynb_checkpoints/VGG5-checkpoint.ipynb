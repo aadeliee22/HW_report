{
 "cells": [
  {
   "cell_type": "code",
   "execution_count": 1,
   "id": "blocked-cursor",
   "metadata": {},
   "outputs": [],
   "source": [
    "import numpy as np\n",
    "import csv\n",
    "import tqdm\n",
    "import matplotlib.pyplot as plt\n",
    "import matplotlib.image as img\n",
    "import matplotlib\n",
    "\n",
    "import datasets\n",
    "\n",
    "import torch\n",
    "import torch.optim as optim\n",
    "import torch.nn as nn\n",
    "import torch.nn.functional as F\n",
    "import torchvision\n",
    "import torchvision.transforms as transforms"
   ]
  },
  {
   "cell_type": "code",
   "execution_count": 4,
   "id": "opponent-marking",
   "metadata": {},
   "outputs": [],
   "source": [
    "dataset_odn = datasets.C100Dataset('./dataset/cifar100_nl/data/cifar100_nl.csv')\n",
    "[tr_x, tr_y, ts_x] = dataset_odn.getDataset()"
   ]
  },
  {
   "cell_type": "code",
   "execution_count": 5,
   "id": "restricted-member",
   "metadata": {},
   "outputs": [
    {
     "name": "stdout",
     "output_type": "stream",
     "text": [
      "flatfish\n"
     ]
    },
    {
     "data": {
      "image/png": "[encoded data removed]",
      "text/plain": [
       "<Figure size 432x288 with 1 Axes>"
      ]
     },
     "metadata": {
      "needs_background": "light"
     },
     "output_type": "display_data"
    }
   ],
   "source": [
    "im_dir = './dataset/'\n",
    "plt.imshow(img.imread(im_dir+tr_x[99]))\n",
    "print(tr_y[99])"
   ]
  },
  {
   "cell_type": "code",
   "execution_count": 6,
   "id": "choice-hebrew",
   "metadata": {},
   "outputs": [],
   "source": [
    "label = set(tr_y)\n",
    "label = np.array(list(label))"
   ]
  },
  {
   "cell_type": "code",
   "execution_count": 7,
   "id": "alpine-reality",
   "metadata": {
    "scrolled": true
   },
   "outputs": [],
   "source": [
    "def tr_val(x_, y_):\n",
    "    mask = np.ones(len(x_))\n",
    "    mask[:int(len(mask)/5)] = 0 # #1:#0 = 4:1\n",
    "    np.random.shuffle(mask)\n",
    "    x_tr, x_vl = x_[mask==1], x_[mask==0]\n",
    "    y_tr, y_vl = y_[mask==1], y_[mask==0]\n",
    "    return x_tr, x_vl, y_tr, y_vl\n",
    "def batch_div(x_, y_, num):\n",
    "    x_b, y_b = [], []\n",
    "    mask = np.tile(np.arange(int(len(x_)/num)), num)\n",
    "    np.random.shuffle(mask)\n",
    "    for i in range (int(len(x_)/num)):\n",
    "        x_b.append(x_[mask==i])\n",
    "        y_b.append(y_[mask==i])\n",
    "    return int(len(x_)/num), x_b, y_b"
   ]
  },
  {
   "cell_type": "markdown",
   "id": "indie-extreme",
   "metadata": {},
   "source": [
    "# VGGnet\n",
    "<https://arxiv.org/pdf/1409.1556.pdf>\n",
    "<https://arxiv.org/pdf/1512.00567.pdf>"
   ]
  },
  {
   "cell_type": "code",
   "execution_count": 36,
   "id": "brief-biography",
   "metadata": {},
   "outputs": [],
   "source": [
    "alp = 0.2\n",
    "K = len(label)\n",
    "trainx = np.array([img.imread(im_dir+u).T for i,u in enumerate(tr_x)])\n",
    "trainy = np.ones([len(tr_y), 100], dtype='int32')*(alp/K)\n",
    "for i,u in enumerate(label):\n",
    "    for j,v in enumerate(tr_y):\n",
    "        if v==u: trainy[j][i] += 1-alp\n",
    "            \n",
    "testx = np.array([img.imread(im_dir+u).T for i,u in enumerate(ts_x)])\n",
    "trainx, testx = torch.FloatTensor(trainx), torch.FloatTensor(testx)\n",
    "trainy = torch.FloatTensor(trainy)"
   ]
  },
  {
   "cell_type": "code",
   "execution_count": 37,
   "id": "constant-benjamin",
   "metadata": {},
   "outputs": [],
   "source": [
    "class VGG(nn.Module):\n",
    "    def __init__(self):\n",
    "        super().__init__()\n",
    "        self.pool = nn.MaxPool2d(2, 2)\n",
    "        self.C1 = nn.Conv2d(3, 32, 3, 1, 1)\n",
    "        self.C2 = nn.Conv2d(32, 64, 3, 1, 1)\n",
    "        self.C3 = nn.Conv2d(64, 64, 3, 1, 1)\n",
    "        self.C4 = nn.Conv2d(64, 128, 3, 1, 1)\n",
    "        self.W1 = nn.Linear(128*4*4, 1024)\n",
    "        self.W2 = nn.Linear(1024, 512)\n",
    "        self.W3 = nn.Linear(512, 100)\n",
    "        self.S = nn.Sigmoid()\n",
    "        self.D = nn.Dropout(p=0.3)\n",
    "\n",
    "    def forward(self, x):\n",
    "        x = self.pool(F.relu(self.C1(x)))\n",
    "        x = F.relu(self.C2(x))\n",
    "        x = self.pool(F.relu(self.C3(x)))\n",
    "        x = self.pool(F.relu(self.C4(x)))\n",
    "        x = x.view(-1, 128*4*4)\n",
    "        x = F.relu(self.W1(x))\n",
    "        x = self.D(x)\n",
    "        x = F.relu(self.W2(x))\n",
    "        x = self.D(x)\n",
    "        x = self.S(self.W3(x))\n",
    "        return x"
   ]
  },
  {
   "cell_type": "code",
   "execution_count": 38,
   "id": "fewer-cambodia",
   "metadata": {
    "scrolled": false
   },
   "outputs": [
    {
     "name": "stdout",
     "output_type": "stream",
     "text": [
      "epoch: 0 *test loss: 26.897248074412346 *val loss: 0.05722014233469963 *tr/vl accuracy: 1.0075 0.91\n",
      "epoch: 1 *test loss: 22.78185411542654 *val loss: 0.05686621367931366 *tr/vl accuracy: 0.9825 1.01\n",
      "epoch: 2 *test loss: 22.58386354148388 *val loss: 0.05597710609436035 *tr/vl accuracy: 1.4925 2.09\n",
      "epoch: 3 *test loss: 22.14764378592372 *val loss: 0.05514008551836014 *tr/vl accuracy: 3.185 4.13\n",
      "epoch: 4 *test loss: 21.835443139076233 *val loss: 0.05452321469783783 *tr/vl accuracy: 4.54 5.05\n",
      "epoch: 5 *test loss: 21.558145172894 *val loss: 0.05390577018260956 *tr/vl accuracy: 6.025 7.14\n",
      "epoch: 6 *test loss: 21.218447033315897 *val loss: 0.052852436900138855 *tr/vl accuracy: 8.6775 9.71\n",
      "epoch: 7 *test loss: 20.83828851953149 *val loss: 0.05190617963671684 *tr/vl accuracy: 11.6175 12.98\n",
      "epoch: 8 *test loss: 20.48668771237135 *val loss: 0.051298514008522034 *tr/vl accuracy: 14.345 14.99\n",
      "epoch: 9 *test loss: 20.129200529307127 *val loss: 0.05060063302516937 *tr/vl accuracy: 17.2925 17.08\n",
      "epoch: 10 *test loss: 19.806534342467785 *val loss: 0.05008379742503166 *tr/vl accuracy: 19.96 19.09\n",
      "epoch: 11 *test loss: 19.43659348040819 *val loss: 0.049685873091220856 *tr/vl accuracy: 22.92 20.05\n",
      "epoch: 12 *test loss: 19.091845523566008 *val loss: 0.049200110137462616 *tr/vl accuracy: 25.015 22.43\n",
      "epoch: 13 *test loss: 18.69435927271843 *val loss: 0.048886317759752274 *tr/vl accuracy: 27.89 23.99\n",
      "epoch: 14 *test loss: 18.31856518611312 *val loss: 0.0485079251229763 *tr/vl accuracy: 30.8125 24.91\n",
      "epoch: 15 *test loss: 17.93514510989189 *val loss: 0.04873743653297424 *tr/vl accuracy: 33.465 24.32\n",
      "epoch: 16 *test loss: 17.48731591552496 *val loss: 0.04877915605902672 *tr/vl accuracy: 36.6725 25.58\n",
      "epoch: 17 *test loss: 17.075892377644777 *val loss: 0.0490633100271225 *tr/vl accuracy: 39.5675 25.37\n",
      "epoch: 18 *test loss: 16.645783938467503 *val loss: 0.04956803470849991 *tr/vl accuracy: 42.635 25.32\n",
      "epoch: 19 *test loss: 16.158473566174507 *val loss: 0.04982423782348633 *tr/vl accuracy: 46.46 24.74\n"
     ]
    }
   ],
   "source": [
    "reg = 0\n",
    "model = VGG()\n",
    "optimizer = optim.Adam(model.parameters(), lr = 1e-3)\n",
    "n_epochs = 20\n",
    "x_tr, x_vl, y_tr, y_vl = tr_val(trainx, trainy)\n",
    "tr_loss, vl_loss = np.zeros(n_epochs, dtype='float64'), np.zeros(n_epochs, dtype='float64')\n",
    "tr_accy, vl_accy, ts_accy = np.zeros_like(tr_loss), np.zeros_like(tr_loss), np.zeros_like(tr_loss)\n",
    "\n",
    "for epoch in range(n_epochs):\n",
    "    losst = 0.\n",
    "    accyt = 0\n",
    "    batchnum, x_tr_b, y_tr_b = batch_div(x_tr, y_tr, 100)\n",
    "    for i in range (batchnum):\n",
    "        output = model.forward(x_tr_b[i])\n",
    "        loss = loss2(output, y_tr_b[i])\n",
    "        accy = accuracy(output, y_tr_b[i])\n",
    "        optimizer.zero_grad()\n",
    "        loss.backward()\n",
    "        optimizer.step()\n",
    "        losst += loss.item()\n",
    "        accyt += accy\n",
    "    \n",
    "    output2 = model.forward(x_vl)\n",
    "    tr_loss[epoch] = losst\n",
    "    tr_accy[epoch] = accyt\n",
    "    vl_loss[epoch] = loss2(output2, y_vl).item()\n",
    "    vl_accy[epoch] = accuracy(output2, y_vl)\n",
    "    \n",
    "    print(\"epoch:\", epoch, \"*test loss:\", losst, \"*val loss:\", vl_loss[epoch], \\\n",
    "          \"*tr/vl accuracy:\", tr_accy[epoch]/400, vl_accy[epoch]/100)"
   ]
  },
  {
   "cell_type": "code",
   "execution_count": 39,
   "id": "matched-smart",
   "metadata": {},
   "outputs": [
    {
     "data": {
      "image/png": "[encoded data removed]",
      "text/plain": [
       "<Figure size 864x288 with 2 Axes>"
      ]
     },
     "metadata": {
      "needs_background": "light"
     },
     "output_type": "display_data"
    }
   ],
   "source": [
    "import matplotlib as mpl\n",
    "import matplotlib.ticker as ticker\n",
    "mpl.rcParams.update({\n",
    "    'font.family' : 'STIXGeneral',\n",
    "    'mathtext.fontset' : 'stix',\n",
    "    'xtick.direction' : 'in' ,\n",
    "    'xtick.labelsize' : 13 ,\n",
    "    'xtick.top' : False ,\n",
    "    'ytick.direction' : 'in' ,\n",
    "    'ytick.labelsize' : 13 ,\n",
    "    'ytick.right' : False ,\n",
    "    'axes.labelsize' : 16,\n",
    "    'legend.frameon' : False,\n",
    "    'legend.fontsize' : 13,\n",
    "    'legend.handlelength' : 1.5,\n",
    "    'savefig.dpi' : 600, \n",
    "    'savefig.bbox' : 'tight'\n",
    "})\n",
    "\n",
    "fig, ax = plt.subplots(1,2, figsize=(12,4))\n",
    "\n",
    "ax[0].xaxis.set_major_locator(ticker.MultipleLocator(2))\n",
    "ax[0].xaxis.set_minor_locator(ticker.MultipleLocator(1))\n",
    "ax[1].xaxis.set_major_locator(ticker.MultipleLocator(2))\n",
    "ax[1].xaxis.set_minor_locator(ticker.MultipleLocator(1))\n",
    "\n",
    "ax[0].plot(tr_loss/tr_loss[0], '.-', label='training loss')\n",
    "ax[0].plot(vl_loss/vl_loss[0], '.-', label='heldout loss')\n",
    "ax[0].legend()\n",
    "ax[0].set_ylim(-0.1, 1.1)\n",
    "ax[0].set_xlim(0, 19)\n",
    "ax[0].set_xlabel('epoch')\n",
    "ax[0].set_ylabel('loss')\n",
    "\n",
    "ax[1].plot(tr_accy/400, '.-', label='training accuracy')\n",
    "ax[1].plot(vl_accy/100, '.-', label='heldout accuracy')\n",
    "ax[1].set_ylim(0, 100)\n",
    "ax[1].set_xlim(0, 19)\n",
    "ax[1].set_xlabel('epoch')\n",
    "ax[1].set_ylabel('accuracy')\n",
    "ax[1].legend()\n",
    "\n",
    "\n",
    "plt.savefig('vgg4.png')\n",
    "plt.show()"
   ]
  },
  {
   "cell_type": "code",
   "execution_count": null,
   "id": "placed-internet",
   "metadata": {},
   "outputs": [],
   "source": [
    "def pred_img(num):\n",
    "    im_dir = './dataset/'\n",
    "    plt.imshow(img.imread(im_dir+ts_x[num]))\n",
    "    plt.show()\n",
    "    test_x = np.array([img.imread(im_dir+u).T for i,u in enumerate(ts_x[num:num+1])])\n",
    "    test_x = torch.FloatTensor(test_x)\n",
    "    print(\"real:\", ts_y[num], \"pred:\", label[model.forward(test_x).argmax(axis=1)])\n",
    "def correct_img():\n",
    "    correct_ind = []\n",
    "    im_dir = './dataset/'\n",
    "    for i in range (10000):\n",
    "        test_x = np.array([img.imread(im_dir+u).T for j,u in enumerate(ts_x[i:i+1])])\n",
    "        test_x = torch.FloatTensor(test_x)\n",
    "        test_y = ts_y[i]\n",
    "        output = model.forward(test_x)\n",
    "        if torch.argmax(output, axis=1)==torch.argmax(testy[i]):\n",
    "            correct_ind.append(i)\n",
    "    return correct_ind"
   ]
  },
  {
   "cell_type": "code",
   "execution_count": null,
   "id": "confused-macro",
   "metadata": {
    "scrolled": true
   },
   "outputs": [],
   "source": [
    "correct_ind = correct_img()\n",
    "n=0\n",
    "num=10\n",
    "np.random.shuffle(correct_ind)\n",
    "for i in correct_ind:\n",
    "    plt.imshow(img.imread(im_dir+ts_x[i]))\n",
    "    plt.show()\n",
    "    test_x = np.array([img.imread(im_dir+u).T for j,u in enumerate(ts_x[i:i+1])])\n",
    "    test_x = torch.FloatTensor(test_x)\n",
    "    test_y = ts_y[i]\n",
    "    print(\"real:\", test_y, \"pred:\", label[model.forward(test_x).argmax(axis=1)])\n",
    "    n+=1\n",
    "    if n>num: break"
   ]
  },
  {
   "cell_type": "code",
   "execution_count": null,
   "id": "dental-welsh",
   "metadata": {
    "scrolled": true
   },
   "outputs": [],
   "source": [
    "n=0\n",
    "for i in np.random.randint(0, 10000, 10):\n",
    "    plt.imshow(img.imread(im_dir+ts_x[i]))\n",
    "    plt.show()\n",
    "    test_x = np.array([img.imread(im_dir+u).T for j,u in enumerate(ts_x[i:i+1])])\n",
    "    test_x = torch.FloatTensor(test_x)\n",
    "    test_y = ts_y[i]\n",
    "    print(\"real:\", test_y, \"pred:\", label[model.forward(test_x).argmax(axis=1)])"
   ]
  },
  {
   "cell_type": "code",
   "execution_count": null,
   "id": "composite-mileage",
   "metadata": {},
   "outputs": [],
   "source": [
    "a = []\n",
    "b = []\n",
    "for i in range(9999):\n",
    "    #plt.imshow(img.imread(im_dir+ts_x[i]))\n",
    "    #plt.show()\n",
    "    a.append(ts_x[i])\n",
    "    test_x = np.array([img.imread(im_dir+u).T for j,u in enumerate(ts_x[i:i+1])])\n",
    "    test_x = torch.FloatTensor(test_x)\n",
    "    b.append(label[model.forward(test_x).argmax(axis=1)])\n",
    "a = np.array(a)\n",
    "b = np.array(b)\n",
    "np.savetxt('cifar100nlpred_vgg4.csv', np.array([a, b]).T, fmt='%s', delimiter=',',\\\n",
    "          header='id,category')"
   ]
  },
  {
   "cell_type": "code",
   "execution_count": null,
   "id": "clinical-meaning",
   "metadata": {},
   "outputs": [],
   "source": []
  }
 ],
 "metadata": {
  "kernelspec": {
   "display_name": "Python 3",
   "language": "python",
   "name": "python3"
  },
  "language_info": {
   "codemirror_mode": {
    "name": "ipython",
    "version": 3
   },
   "file_extension": ".py",
   "mimetype": "text/x-python",
   "name": "python",
   "nbconvert_exporter": "python",
   "pygments_lexer": "ipython3",
   "version": "3.8.1"
  }
 },
 "nbformat": 4,
 "nbformat_minor": 5
}
