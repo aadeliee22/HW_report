{
 "cells": [
  {
   "cell_type": "code",
   "execution_count": 1,
   "id": "nutritional-letter",
   "metadata": {},
   "outputs": [],
   "source": [
    "import numpy as np\n",
    "import csv\n",
    "import tqdm\n",
    "import matplotlib.pyplot as plt\n",
    "import matplotlib.image as img\n",
    "import matplotlib\n",
    "\n",
    "import datasets\n",
    "\n",
    "import torch\n",
    "import torch.optim as optim\n",
    "import torch.nn as nn\n",
    "import torch.nn.functional as F\n",
    "import torchvision\n",
    "import torchvision.transforms as transforms"
   ]
  },
  {
   "cell_type": "code",
   "execution_count": 2,
   "id": "theoretical-playlist",
   "metadata": {},
   "outputs": [],
   "source": [
    "dataset_odn = datasets.C100Dataset('./dataset/cifar100_lt/data/cifar100_lt.csv')\n",
    "[tr_x, tr_y, ts_x] = dataset_odn.getDataset()"
   ]
  },
  {
   "cell_type": "code",
   "execution_count": 3,
   "id": "roman-determination",
   "metadata": {},
   "outputs": [
    {
     "name": "stdout",
     "output_type": "stream",
     "text": [
      "spider\n"
     ]
    },
    {
     "data": {
      "image/png": "[encoded data removed]",
      "text/plain": [
       "<Figure size 432x288 with 1 Axes>"
      ]
     },
     "metadata": {
      "needs_background": "light"
     },
     "output_type": "display_data"
    }
   ],
   "source": [
    "im_dir = './dataset/'\n",
    "plt.imshow(img.imread(im_dir+tr_x[99]))\n",
    "print(tr_y[99])"
   ]
  },
  {
   "cell_type": "code",
   "execution_count": 4,
   "id": "still-fellow",
   "metadata": {
    "scrolled": true
   },
   "outputs": [],
   "source": [
    "label = set(tr_y)\n",
    "label = np.array(list(label))\n",
    "\n",
    "label_dist = np.zeros(len(label))\n",
    "for i,u in enumerate(tr_y):\n",
    "    for j, v in enumerate(label):\n",
    "        if u==v: label_dist[j] = label_dist[j]+1\n",
    "label_dist = label_dist/len(tr_y)\n",
    "label_dist = torch.FloatTensor(label_dist)"
   ]
  },
  {
   "cell_type": "code",
   "execution_count": 5,
   "id": "incorrect-boring",
   "metadata": {},
   "outputs": [
    {
     "data": {
      "text/plain": [
       "[<matplotlib.lines.Line2D at 0x18f41ef3100>]"
      ]
     },
     "execution_count": 5,
     "metadata": {},
     "output_type": "execute_result"
    },
    {
     "data": {
      "image/png": "[encoded data removed]",
      "text/plain": [
       "<Figure size 432x288 with 1 Axes>"
      ]
     },
     "metadata": {
      "needs_background": "light"
     },
     "output_type": "display_data"
    }
   ],
   "source": [
    "plt.plot(np.sort(label_dist)[::-1])"
   ]
  },
  {
   "cell_type": "code",
   "execution_count": 6,
   "id": "opponent-proceeding",
   "metadata": {
    "scrolled": true
   },
   "outputs": [],
   "source": [
    "def tr_val(x_, y_):\n",
    "    mask = np.ones(len(x_))\n",
    "    mask[:int(len(mask)/5)] = 0 # #1:#0 = 4:1\n",
    "    np.random.shuffle(mask)\n",
    "    x_tr, x_vl = x_[mask==1], x_[mask==0]\n",
    "    y_tr, y_vl = y_[mask==1], y_[mask==0]\n",
    "    return x_tr, x_vl, y_tr, y_vl\n",
    "def batch_div(x_, y_, num):\n",
    "    x_b, y_b = [], []\n",
    "    mask = np.random.randint(low=0, high=int(len(x_)/num), size=len(x_))\n",
    "    for i in range (int(len(x_)/num)):\n",
    "        x_b.append(x_[mask==i])\n",
    "        y_b.append(y_[mask==i])\n",
    "    return int(len(x_)/num), x_b, y_b"
   ]
  },
  {
   "cell_type": "markdown",
   "id": "mature-dayton",
   "metadata": {},
   "source": [
    "# VGGnet\n",
    "<https://arxiv.org/pdf/1409.1556.pdf>\n",
    "<https://arxiv.org/pdf/1512.00567.pdf>\n",
    "<https://arxiv.org/pdf/1708.02002.pdf>"
   ]
  },
  {
   "cell_type": "code",
   "execution_count": 7,
   "id": "advised-basics",
   "metadata": {},
   "outputs": [],
   "source": [
    "alp = 0.25\n",
    "K = len(label)\n",
    "trainx = np.array([img.imread(im_dir+u).T for i,u in enumerate(tr_x)])\n",
    "trainy = np.ones([len(tr_y), 100], dtype='int32')*(alp/K)\n",
    "for i,u in enumerate(label):\n",
    "    for j,v in enumerate(tr_y):\n",
    "        if v==u: trainy[j][i] += 1-alp\n",
    "            \n",
    "testx = np.array([img.imread(im_dir+u).T for i,u in enumerate(ts_x)])\n",
    "trainx, testx = torch.FloatTensor(trainx), torch.FloatTensor(testx)\n",
    "trainy = torch.FloatTensor(trainy)"
   ]
  },
  {
   "cell_type": "code",
   "execution_count": 8,
   "id": "romance-harbor",
   "metadata": {},
   "outputs": [],
   "source": [
    "class VGG(nn.Module):\n",
    "    def __init__(self):\n",
    "        super().__init__()\n",
    "        self.pool = nn.MaxPool2d(2, 2)\n",
    "        self.C1 = nn.Conv2d(3, 32, 3, 1, 1)\n",
    "        self.C2 = nn.Conv2d(32, 64, 3, 1, 1)\n",
    "        self.C3 = nn.Conv2d(64, 64, 3, 1, 1)\n",
    "        self.C4 = nn.Conv2d(64, 128, 3, 1, 1)\n",
    "        self.C5 = nn.Conv2d(128, 256, 3, 1, 1)\n",
    "        self.C6 = nn.Conv2d(256, 512, 3, 1, 1)\n",
    "        self.W1 = nn.Linear(512*2*2, 1024)\n",
    "        self.W2 = nn.Linear(1024, 512)\n",
    "        self.W3 = nn.Linear(512, 100)\n",
    "        self.S = nn.Sigmoid()\n",
    "        self.D = nn.Dropout(p=0.2)\n",
    "        self.bn1 = torch.nn.BatchNorm2d(32)\n",
    "        self.bn2 = torch.nn.BatchNorm2d(64)\n",
    "        self.bn3 = torch.nn.BatchNorm2d(128)\n",
    "        self.bn4 = torch.nn.BatchNorm2d(256)\n",
    "        self.bn5 = torch.nn.BatchNorm2d(512)\n",
    "        self.bn6 = torch.nn.BatchNorm1d(1024)\n",
    "        self.bn7 = torch.nn.BatchNorm1d(512)\n",
    "\n",
    "    def forward(self, x):\n",
    "        x = self.bn1(self.C1(x))\n",
    "        x = self.pool(F.relu(x))\n",
    "        x = F.relu(self.bn2(self.C2(x)))\n",
    "        x = self.bn2(self.C3(x))\n",
    "        x = self.pool(F.relu(x))\n",
    "        x = self.bn3(self.C4(x))\n",
    "        x = self.bn4(self.C5(x))\n",
    "        x = self.pool(F.relu(x))\n",
    "        x = self.bn5(self.C6(x))\n",
    "        x = self.pool(F.relu(x))\n",
    "        x = x.view(-1, 512*2*2)\n",
    "        x = F.relu(self.bn6(self.W1(x)))\n",
    "        x = self.D(x)\n",
    "        x = F.relu(self.bn7(self.W2(x)))\n",
    "        x = self.D(x)\n",
    "        x = self.S(self.W3(x))\n",
    "        return x\n",
    "    \n",
    "def loss2(output, y):\n",
    "    loss = F.binary_cross_entropy(output, y)\n",
    "    pt = torch.exp(-loss)\n",
    "    return ((1 - pt) ** gamma * loss).mean()\n",
    "    \n",
    "\n",
    "def accuracy(output, y):\n",
    "    return torch.sum(torch.argmax(output, axis=1)==torch.argmax(y, axis=1))"
   ]
  },
  {
   "cell_type": "code",
   "execution_count": 9,
   "id": "parliamentary-belgium",
   "metadata": {
    "scrolled": true
   },
   "outputs": [
    {
     "name": "stdout",
     "output_type": "stream",
     "text": [
      "epoch: 0 *test loss: 8.994358772411942 *val loss: 0.024772068485617638 *tr/vl accuracy: 5.89668828060403 10.880919220055711\n",
      "epoch: 1 *test loss: 5.426118332892656 *val loss: 0.02261165902018547 *tr/vl accuracy: 15.501109708864616 20.891364902506965\n",
      "epoch: 2 *test loss: 4.946405055001378 *val loss: 0.020757494494318962 *tr/vl accuracy: 25.806170851647156 30.2924791086351\n",
      "epoch: 3 *test loss: 4.55722507275641 *val loss: 0.019548363983631134 *tr/vl accuracy: 35.10161451760303 37.221448467966574\n",
      "epoch: 4 *test loss: 4.25567046739161 *val loss: 0.018826130777597427 *tr/vl accuracy: 42.71726358849384 42.009052924791085\n",
      "epoch: 5 *test loss: 3.9967699740082026 *val loss: 0.01835329644382 *tr/vl accuracy: 49.89773271247661 45.33426183844011\n",
      "epoch: 6 *test loss: 3.772617693990469 *val loss: 0.01817230135202408 *tr/vl accuracy: 56.39061752034466 46.08286908077994\n",
      "epoch: 7 *test loss: 3.528422507457435 *val loss: 0.018032629042863846 *tr/vl accuracy: 64.18904216893685 47.64972144846797\n",
      "epoch: 8 *test loss: 3.2950750533491373 *val loss: 0.018089884892106056 *tr/vl accuracy: 71.7089516515079 47.73676880222841\n"
     ]
    },
    {
     "ename": "KeyboardInterrupt",
     "evalue": "",
     "output_type": "error",
     "traceback": [
      "\u001b[1;31m---------------------------------------------------------------------------\u001b[0m",
      "\u001b[1;31mKeyboardInterrupt\u001b[0m                         Traceback (most recent call last)",
      "\u001b[1;32m<ipython-input-9-cb1026428d81>\u001b[0m in \u001b[0;36m<module>\u001b[1;34m\u001b[0m\n\u001b[0;32m     17\u001b[0m         \u001b[0maccy\u001b[0m \u001b[1;33m=\u001b[0m \u001b[0maccuracy\u001b[0m\u001b[1;33m(\u001b[0m\u001b[0moutput\u001b[0m\u001b[1;33m,\u001b[0m \u001b[0my_tr_b\u001b[0m\u001b[1;33m[\u001b[0m\u001b[0mi\u001b[0m\u001b[1;33m]\u001b[0m\u001b[1;33m)\u001b[0m\u001b[1;33m\u001b[0m\u001b[1;33m\u001b[0m\u001b[0m\n\u001b[0;32m     18\u001b[0m         \u001b[0moptimizer\u001b[0m\u001b[1;33m.\u001b[0m\u001b[0mzero_grad\u001b[0m\u001b[1;33m(\u001b[0m\u001b[1;33m)\u001b[0m\u001b[1;33m\u001b[0m\u001b[1;33m\u001b[0m\u001b[0m\n\u001b[1;32m---> 19\u001b[1;33m         \u001b[0mloss\u001b[0m\u001b[1;33m.\u001b[0m\u001b[0mbackward\u001b[0m\u001b[1;33m(\u001b[0m\u001b[1;33m)\u001b[0m\u001b[1;33m\u001b[0m\u001b[1;33m\u001b[0m\u001b[0m\n\u001b[0m\u001b[0;32m     20\u001b[0m         \u001b[0moptimizer\u001b[0m\u001b[1;33m.\u001b[0m\u001b[0mstep\u001b[0m\u001b[1;33m(\u001b[0m\u001b[1;33m)\u001b[0m\u001b[1;33m\u001b[0m\u001b[1;33m\u001b[0m\u001b[0m\n\u001b[0;32m     21\u001b[0m         \u001b[0mlosst\u001b[0m \u001b[1;33m+=\u001b[0m \u001b[0mloss\u001b[0m\u001b[1;33m.\u001b[0m\u001b[0mitem\u001b[0m\u001b[1;33m(\u001b[0m\u001b[1;33m)\u001b[0m\u001b[1;33m\u001b[0m\u001b[1;33m\u001b[0m\u001b[0m\n",
      "\u001b[1;32m~\\anaconda3\\envs\\torch\\lib\\site-packages\\torch\\tensor.py\u001b[0m in \u001b[0;36mbackward\u001b[1;34m(self, gradient, retain_graph, create_graph)\u001b[0m\n\u001b[0;32m    219\u001b[0m                 \u001b[0mretain_graph\u001b[0m\u001b[1;33m=\u001b[0m\u001b[0mretain_graph\u001b[0m\u001b[1;33m,\u001b[0m\u001b[1;33m\u001b[0m\u001b[1;33m\u001b[0m\u001b[0m\n\u001b[0;32m    220\u001b[0m                 create_graph=create_graph)\n\u001b[1;32m--> 221\u001b[1;33m         \u001b[0mtorch\u001b[0m\u001b[1;33m.\u001b[0m\u001b[0mautograd\u001b[0m\u001b[1;33m.\u001b[0m\u001b[0mbackward\u001b[0m\u001b[1;33m(\u001b[0m\u001b[0mself\u001b[0m\u001b[1;33m,\u001b[0m \u001b[0mgradient\u001b[0m\u001b[1;33m,\u001b[0m \u001b[0mretain_graph\u001b[0m\u001b[1;33m,\u001b[0m \u001b[0mcreate_graph\u001b[0m\u001b[1;33m)\u001b[0m\u001b[1;33m\u001b[0m\u001b[1;33m\u001b[0m\u001b[0m\n\u001b[0m\u001b[0;32m    222\u001b[0m \u001b[1;33m\u001b[0m\u001b[0m\n\u001b[0;32m    223\u001b[0m     \u001b[1;32mdef\u001b[0m \u001b[0mregister_hook\u001b[0m\u001b[1;33m(\u001b[0m\u001b[0mself\u001b[0m\u001b[1;33m,\u001b[0m \u001b[0mhook\u001b[0m\u001b[1;33m)\u001b[0m\u001b[1;33m:\u001b[0m\u001b[1;33m\u001b[0m\u001b[1;33m\u001b[0m\u001b[0m\n",
      "\u001b[1;32m~\\anaconda3\\envs\\torch\\lib\\site-packages\\torch\\autograd\\__init__.py\u001b[0m in \u001b[0;36mbackward\u001b[1;34m(tensors, grad_tensors, retain_graph, create_graph, grad_variables)\u001b[0m\n\u001b[0;32m    128\u001b[0m         \u001b[0mretain_graph\u001b[0m \u001b[1;33m=\u001b[0m \u001b[0mcreate_graph\u001b[0m\u001b[1;33m\u001b[0m\u001b[1;33m\u001b[0m\u001b[0m\n\u001b[0;32m    129\u001b[0m \u001b[1;33m\u001b[0m\u001b[0m\n\u001b[1;32m--> 130\u001b[1;33m     Variable._execution_engine.run_backward(\n\u001b[0m\u001b[0;32m    131\u001b[0m         \u001b[0mtensors\u001b[0m\u001b[1;33m,\u001b[0m \u001b[0mgrad_tensors_\u001b[0m\u001b[1;33m,\u001b[0m \u001b[0mretain_graph\u001b[0m\u001b[1;33m,\u001b[0m \u001b[0mcreate_graph\u001b[0m\u001b[1;33m,\u001b[0m\u001b[1;33m\u001b[0m\u001b[1;33m\u001b[0m\u001b[0m\n\u001b[0;32m    132\u001b[0m         allow_unreachable=True)  # allow_unreachable flag\n",
      "\u001b[1;31mKeyboardInterrupt\u001b[0m: "
     ]
    }
   ],
   "source": [
    "reg = 0\n",
    "gamma = 0.25\n",
    "model = VGG()\n",
    "optimizer = optim.Adam(model.parameters(), lr = 1e-3)\n",
    "n_epochs = 10\n",
    "x_tr, x_vl, y_tr, y_vl = tr_val(trainx, trainy)\n",
    "tr_loss, vl_loss = np.zeros(n_epochs, dtype='float64'), np.zeros(n_epochs, dtype='float64')\n",
    "tr_accy, vl_accy, ts_accy = np.zeros_like(tr_loss), np.zeros_like(tr_loss), np.zeros_like(tr_loss)\n",
    "\n",
    "for epoch in range(n_epochs):\n",
    "    losst = 0.\n",
    "    accyt = 0\n",
    "    batchnum, x_tr_b, y_tr_b = batch_div(x_tr, y_tr, 100)\n",
    "    for i in range (batchnum):\n",
    "        output = model.forward(x_tr_b[i])\n",
    "        loss = loss2(output, y_tr_b[i])\n",
    "        accy = accuracy(output, y_tr_b[i])\n",
    "        optimizer.zero_grad()\n",
    "        loss.backward()\n",
    "        optimizer.step()\n",
    "        losst += loss.item()\n",
    "        accyt += accy\n",
    "    \n",
    "    output2 = model.forward(x_vl)\n",
    "    tr_loss[epoch] = losst\n",
    "    tr_accy[epoch] = accyt\n",
    "    vl_loss[epoch] = loss2(output2, y_vl).item()\n",
    "    vl_accy[epoch] = accuracy(output2, y_vl)\n",
    "    \n",
    "    print(\"epoch:\", epoch, \"*test loss:\", losst, \"*val loss:\", vl_loss[epoch], \\\n",
    "          \"*tr/vl accuracy:\", tr_accy[epoch]/229.79, vl_accy[epoch]/57.44)"
   ]
  },
  {
   "cell_type": "code",
   "execution_count": 11,
   "id": "lucky-award",
   "metadata": {},
   "outputs": [
    {
     "data": {
      "image/png": "[encoded data removed]",
      "text/plain": [
       "<Figure size 864x288 with 2 Axes>"
      ]
     },
     "metadata": {
      "needs_background": "light"
     },
     "output_type": "display_data"
    }
   ],
   "source": [
    "import matplotlib as mpl\n",
    "import matplotlib.ticker as ticker\n",
    "mpl.rcParams.update({\n",
    "    'font.family' : 'STIXGeneral',\n",
    "    'mathtext.fontset' : 'stix',\n",
    "    'xtick.direction' : 'in' ,\n",
    "    'xtick.labelsize' : 13 ,\n",
    "    'xtick.top' : False ,\n",
    "    'ytick.direction' : 'in' ,\n",
    "    'ytick.labelsize' : 13 ,\n",
    "    'ytick.right' : False ,\n",
    "    'axes.labelsize' : 16,\n",
    "    'legend.frameon' : False,\n",
    "    'legend.fontsize' : 13,\n",
    "    'legend.handlelength' : 1.5,\n",
    "    'savefig.dpi' : 600, \n",
    "    'savefig.bbox' : 'tight'\n",
    "})\n",
    "\n",
    "fig, ax = plt.subplots(1,2, figsize=(12,4))\n",
    "\n",
    "ax[0].xaxis.set_major_locator(ticker.MultipleLocator(2))\n",
    "ax[0].xaxis.set_minor_locator(ticker.MultipleLocator(1))\n",
    "ax[1].xaxis.set_major_locator(ticker.MultipleLocator(2))\n",
    "ax[1].xaxis.set_minor_locator(ticker.MultipleLocator(1))\n",
    "\n",
    "ax[0].plot(tr_loss/tr_loss[0], '.-', label='training loss')\n",
    "ax[0].plot(vl_loss/vl_loss[0], '.-', label='heldout loss')\n",
    "ax[0].legend()\n",
    "ax[0].set_ylim(-0.1, 1.1)\n",
    "ax[0].set_xlim(0, 8)\n",
    "ax[0].set_xlabel('epoch')\n",
    "ax[0].set_ylabel('loss')\n",
    "\n",
    "ax[1].plot(tr_accy/229.79, '.-', label='training accuracy')\n",
    "ax[1].plot(vl_accy/57.44, '.-', label='heldout accuracy')\n",
    "ax[1].set_ylim(0, 100)\n",
    "ax[1].set_xlim(0, 8)\n",
    "ax[1].set_xlabel('epoch')\n",
    "ax[1].set_ylabel('accuracy')\n",
    "ax[1].legend()\n",
    "\n",
    "\n",
    "plt.savefig('vgg9.png')\n",
    "plt.show()"
   ]
  },
  {
   "cell_type": "code",
   "execution_count": 10,
   "id": "emerging-spelling",
   "metadata": {},
   "outputs": [],
   "source": [
    "def tra(x_):\n",
    "    mask = np.ones(len(x_))\n",
    "    #mask[:int(len(mask)/5)] = 0 # #1:#0 = 4:1\n",
    "    #np.random.shuffle(mask)\n",
    "    x_tr, x_vl = x_[mask==1], x_[mask==0]\n",
    "    return x_tr, x_vl\n",
    "a = []\n",
    "b = []\n",
    "x_ts, _ = tra(testx)\n",
    "output = model.forward(x_ts)\n",
    "for i in range(9999):\n",
    "    a.append(ts_x[i].replace('_lt', ''))\n",
    "b = label[torch.argmax(output, axis=1)]\n",
    "a = np.array(a)\n",
    "np.savetxt('cifar100ltpred_vgg9.csv', np.array([a, b]).T, fmt='%s', delimiter=',',\\\n",
    "          header='id,category')"
   ]
  },
  {
   "cell_type": "code",
   "execution_count": null,
   "id": "understanding-blackjack",
   "metadata": {
    "scrolled": false
   },
   "outputs": [],
   "source": [
    "for i in np.random.randint(0, 9999, 10):\n",
    "    plt.imshow(img.imread(im_dir+ts_x[i]))\n",
    "    plt.show()\n",
    "    print(\"pred:\", b[i])"
   ]
  },
  {
   "cell_type": "markdown",
   "id": "fourth-orientation",
   "metadata": {},
   "source": [
    "### To see images"
   ]
  },
  {
   "cell_type": "code",
   "execution_count": null,
   "id": "automotive-discovery",
   "metadata": {},
   "outputs": [],
   "source": [
    "def pred_img(num):\n",
    "    im_dir = './dataset/'\n",
    "    plt.imshow(img.imread(im_dir+ts_x[num]))\n",
    "    plt.show()\n",
    "    test_x = np.array([img.imread(im_dir+u).T for i,u in enumerate(ts_x[num:num+1])])\n",
    "    test_x = torch.FloatTensor(test_x)\n",
    "    print(\"real:\", ts_y[num], \"pred:\", label[model.forward(test_x).argmax(axis=1)])\n",
    "def correct_img():\n",
    "    correct_ind = []\n",
    "    im_dir = './dataset/'\n",
    "    for i in range (10000):\n",
    "        test_x = np.array([img.imread(im_dir+u).T for j,u in enumerate(ts_x[i:i+1])])\n",
    "        test_x = torch.FloatTensor(test_x)\n",
    "        test_y = ts_y[i]\n",
    "        output = model.forward(test_x)\n",
    "        if torch.argmax(output, axis=1)==torch.argmax(testy[i]):\n",
    "            correct_ind.append(i)\n",
    "    return correct_ind"
   ]
  },
  {
   "cell_type": "code",
   "execution_count": null,
   "id": "particular-response",
   "metadata": {
    "scrolled": true
   },
   "outputs": [],
   "source": [
    "n=0\n",
    "for i in np.random.randint(0, 10000, 10):\n",
    "    plt.imshow(img.imread(im_dir+ts_x[i]))\n",
    "    plt.show()\n",
    "    test_x = np.array([img.imread(im_dir+u).T for j,u in enumerate(ts_x[i:i+1])])\n",
    "    test_x = torch.FloatTensor(test_x)\n",
    "    print(\"pred:\", label[model.forward(test_x).argmax(axis=1)])"
   ]
  },
  {
   "cell_type": "code",
   "execution_count": null,
   "id": "theoretical-wells",
   "metadata": {},
   "outputs": [],
   "source": []
  }
 ],
 "metadata": {
  "kernelspec": {
   "display_name": "Python 3",
   "language": "python",
   "name": "python3"
  },
  "language_info": {
   "codemirror_mode": {
    "name": "ipython",
    "version": 3
   },
   "file_extension": ".py",
   "mimetype": "text/x-python",
   "name": "python",
   "nbconvert_exporter": "python",
   "pygments_lexer": "ipython3",
   "version": "3.8.1"
  }
 },
 "nbformat": 4,
 "nbformat_minor": 5
}
