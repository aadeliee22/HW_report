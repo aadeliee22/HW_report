{
 "cells": [
  {
   "cell_type": "code",
   "execution_count": 1,
   "id": "everyday-corruption",
   "metadata": {},
   "outputs": [],
   "source": [
    "import numpy as np\n",
    "import csv\n",
    "import tqdm\n",
    "import matplotlib.pyplot as plt\n",
    "import matplotlib.image as img\n",
    "import matplotlib\n",
    "\n",
    "import datasets\n",
    "\n",
    "import torch\n",
    "import torch.optim as optim\n",
    "import torch.nn as nn\n",
    "import torch.nn.functional as F\n",
    "import torchvision\n",
    "import torchvision.transforms as transforms"
   ]
  },
  {
   "cell_type": "code",
   "execution_count": 2,
   "id": "bored-ending",
   "metadata": {},
   "outputs": [],
   "source": [
    "dataset_odn = datasets.C100Dataset('./dataset/cifar100_lt/data/cifar100_lt.csv')\n",
    "[tr_x, tr_y, ts_x] = dataset_odn.getDataset()"
   ]
  },
  {
   "cell_type": "code",
   "execution_count": 3,
   "id": "social-participant",
   "metadata": {},
   "outputs": [
    {
     "name": "stdout",
     "output_type": "stream",
     "text": [
      "spider\n"
     ]
    },
    {
     "data": {
      "image/png": "[encoded data removed]",
      "text/plain": [
       "<Figure size 432x288 with 1 Axes>"
      ]
     },
     "metadata": {
      "needs_background": "light"
     },
     "output_type": "display_data"
    }
   ],
   "source": [
    "im_dir = './dataset/'\n",
    "plt.imshow(img.imread(im_dir+tr_x[99]))\n",
    "print(tr_y[99])"
   ]
  },
  {
   "cell_type": "code",
   "execution_count": 4,
   "id": "developmental-convert",
   "metadata": {
    "scrolled": true
   },
   "outputs": [],
   "source": [
    "label = set(tr_y)\n",
    "label = np.array(list(label))\n",
    "\n",
    "label_dist = np.zeros(len(label))\n",
    "for i,u in enumerate(tr_y):\n",
    "    for j, v in enumerate(label):\n",
    "        if u==v: label_dist[j] = label_dist[j]+1\n",
    "label_dist = label_dist/len(tr_y)\n",
    "label_dist = torch.FloatTensor(label_dist)"
   ]
  },
  {
   "cell_type": "code",
   "execution_count": 5,
   "id": "increasing-bishop",
   "metadata": {},
   "outputs": [
    {
     "data": {
      "text/plain": [
       "[<matplotlib.lines.Line2D at 0x1dd613cbac0>]"
      ]
     },
     "execution_count": 5,
     "metadata": {},
     "output_type": "execute_result"
    },
    {
     "data": {
      "image/png": "[encoded data removed]",
      "text/plain": [
       "<Figure size 432x288 with 1 Axes>"
      ]
     },
     "metadata": {
      "needs_background": "light"
     },
     "output_type": "display_data"
    }
   ],
   "source": [
    "plt.plot(np.sort(label_dist)[::-1])"
   ]
  },
  {
   "cell_type": "code",
   "execution_count": 6,
   "id": "through-lover",
   "metadata": {
    "scrolled": true
   },
   "outputs": [],
   "source": [
    "def tr_val(x_, y_):\n",
    "    mask = np.ones(len(x_))\n",
    "    mask[:int(len(mask)/5)] = 0 # #1:#0 = 4:1\n",
    "    np.random.shuffle(mask)\n",
    "    x_tr, x_vl = x_[mask==1], x_[mask==0]\n",
    "    y_tr, y_vl = y_[mask==1], y_[mask==0]\n",
    "    return x_tr, x_vl, y_tr, y_vl\n",
    "def batch_div(x_, y_, num):\n",
    "    x_b, y_b = [], []\n",
    "    mask = np.random.randint(low=0, high=int(len(x_)/num), size=len(x_))\n",
    "    for i in range (int(len(x_)/num)):\n",
    "        x_b.append(x_[mask==i])\n",
    "        y_b.append(y_[mask==i])\n",
    "    return int(len(x_)/num), x_b, y_b"
   ]
  },
  {
   "cell_type": "markdown",
   "id": "abroad-vision",
   "metadata": {},
   "source": [
    "# VGGnet\n",
    "<https://arxiv.org/pdf/1409.1556.pdf>\n",
    "<https://arxiv.org/pdf/1512.00567.pdf>"
   ]
  },
  {
   "cell_type": "code",
   "execution_count": 7,
   "id": "answering-kruger",
   "metadata": {},
   "outputs": [],
   "source": [
    "alp = 0.2\n",
    "K = len(label)\n",
    "trainx = np.array([img.imread(im_dir+u).T for i,u in enumerate(tr_x)])\n",
    "trainy = np.ones([len(tr_y), 100], dtype='int32')*(alp/K)\n",
    "for i,u in enumerate(label):\n",
    "    for j,v in enumerate(tr_y):\n",
    "        if v==u: trainy[j][i] += 1-alp\n",
    "            \n",
    "testx = np.array([img.imread(im_dir+u).T for i,u in enumerate(ts_x)])\n",
    "trainx, testx = torch.FloatTensor(trainx), torch.FloatTensor(testx)\n",
    "trainy = torch.FloatTensor(trainy)"
   ]
  },
  {
   "cell_type": "code",
   "execution_count": 8,
   "id": "furnished-christian",
   "metadata": {},
   "outputs": [],
   "source": [
    "class VGG(nn.Module):\n",
    "    def __init__(self):\n",
    "        super().__init__()\n",
    "        self.pool = nn.MaxPool2d(2, 2)\n",
    "        self.C1 = nn.Conv2d(3, 32, 3, 1, 1)\n",
    "        self.C2 = nn.Conv2d(32, 64, 3, 1, 1)\n",
    "        self.C3 = nn.Conv2d(64, 64, 3, 1, 1)\n",
    "        self.C4 = nn.Conv2d(64, 128, 3, 1, 1)\n",
    "        self.W1 = nn.Linear(128*4*4, 1024)\n",
    "        self.W2 = nn.Linear(1024, 512)\n",
    "        self.W3 = nn.Linear(512, 100)\n",
    "        self.S = nn.Sigmoid()\n",
    "        self.D = nn.Dropout(p=0.3)\n",
    "        self.bn1 = torch.nn.BatchNorm2d(32)\n",
    "        self.bn2 = torch.nn.BatchNorm2d(64)\n",
    "        self.bn3 = torch.nn.BatchNorm2d(128)\n",
    "        self.bn4 = torch.nn.BatchNorm1d(1024)\n",
    "        self.bn5 = torch.nn.BatchNorm1d(512)\n",
    "\n",
    "    def forward(self, x):\n",
    "        x = self.bn1(self.C1(x))\n",
    "        x = self.pool(F.relu(x))\n",
    "        x = F.relu(self.bn2(self.C2(x)))\n",
    "        x = self.bn2(self.C3(x))\n",
    "        x = self.pool(F.relu(x))\n",
    "        x = self.bn3(self.C4(x))\n",
    "        x = self.pool(F.relu(x))\n",
    "        x = x.view(-1, 128*4*4)\n",
    "        x = F.relu(self.bn4(self.W1(x)))\n",
    "        x = self.D(x)\n",
    "        x = F.relu(self.bn5(self.W2(x)))\n",
    "        x = self.D(x)\n",
    "        x = self.S(self.W3(x))\n",
    "        return x\n",
    "    \n",
    "def loss2(output, y):\n",
    "    loss = F.binary_cross_entropy(output, y)\n",
    "    pt = torch.exp(-loss)\n",
    "    return ((1 - pt) ** gamma * loss).mean()\n",
    "    \n",
    "\n",
    "def accuracy(output, y):\n",
    "    return torch.sum(torch.argmax(output, axis=1)==torch.argmax(y, axis=1))"
   ]
  },
  {
   "cell_type": "code",
   "execution_count": 9,
   "id": "circular-accordance",
   "metadata": {
    "scrolled": true
   },
   "outputs": [
    {
     "name": "stdout",
     "output_type": "stream",
     "text": [
      "epoch: 0 *test loss: 2.3592767275404185 *val loss: 0.002751097083091736 *tr/vl accuracy: 3.27 5.9\n",
      "epoch: 1 *test loss: 0.5885213383007795 *val loss: 0.002409357577562332 *tr/vl accuracy: 8.085 10.55\n",
      "epoch: 2 *test loss: 0.5188157054362819 *val loss: 0.0021628248505294323 *tr/vl accuracy: 12.51 13.73\n",
      "epoch: 3 *test loss: 0.4629373586503789 *val loss: 0.0019614638295024633 *tr/vl accuracy: 16.5125 17.13\n",
      "epoch: 4 *test loss: 0.4141071254853159 *val loss: 0.0018196618184447289 *tr/vl accuracy: 20.19 19.48\n",
      "epoch: 5 *test loss: 0.37376739468891174 *val loss: 0.001722617307677865 *tr/vl accuracy: 23.9725 21.52\n",
      "epoch: 6 *test loss: 0.34020405064802617 *val loss: 0.001651555998250842 *tr/vl accuracy: 27.16 22.74\n",
      "epoch: 7 *test loss: 0.31280377600342035 *val loss: 0.0016163348918780684 *tr/vl accuracy: 30.255 23.71\n",
      "epoch: 8 *test loss: 0.2854171406943351 *val loss: 0.0016034890431910753 *tr/vl accuracy: 33.615 24.24\n",
      "epoch: 9 *test loss: 0.2625921438448131 *val loss: 0.0015998280141502619 *tr/vl accuracy: 36.555 23.93\n",
      "epoch: 10 *test loss: 0.23894341703271493 *val loss: 0.0016014972934499383 *tr/vl accuracy: 39.8575 24.69\n",
      "epoch: 11 *test loss: 0.21834664762718603 *val loss: 0.0016383087495341897 *tr/vl accuracy: 42.55 24.31\n",
      "epoch: 12 *test loss: 0.19867870333837345 *val loss: 0.0016728604678064585 *tr/vl accuracy: 45.6375 24.25\n",
      "epoch: 13 *test loss: 0.18195022270083427 *val loss: 0.001708337222225964 *tr/vl accuracy: 48.34 23.99\n",
      "epoch: 14 *test loss: 0.16808402922470123 *val loss: 0.0017509348690509796 *tr/vl accuracy: 50.5875 23.9\n"
     ]
    }
   ],
   "source": [
    "reg = 0\n",
    "gamma = 1.0\n",
    "model = VGG()\n",
    "optimizer = optim.Adam(model.parameters(), lr = 1e-3)\n",
    "n_epochs = 15\n",
    "x_tr, x_vl, y_tr, y_vl = tr_val(trainx, trainy)\n",
    "tr_loss, vl_loss = np.zeros(n_epochs, dtype='float64'), np.zeros(n_epochs, dtype='float64')\n",
    "tr_accy, vl_accy, ts_accy = np.zeros_like(tr_loss), np.zeros_like(tr_loss), np.zeros_like(tr_loss)\n",
    "\n",
    "for epoch in range(n_epochs):\n",
    "    losst = 0.\n",
    "    accyt = 0\n",
    "    batchnum, x_tr_b, y_tr_b = batch_div(x_tr, y_tr, 100)\n",
    "    for i in range (batchnum):\n",
    "        output = model.forward(x_tr_b[i])\n",
    "        loss = loss2(output, y_tr_b[i])\n",
    "        accy = accuracy(output, y_tr_b[i])\n",
    "        optimizer.zero_grad()\n",
    "        loss.backward()\n",
    "        optimizer.step()\n",
    "        losst += loss.item()\n",
    "        accyt += accy\n",
    "    \n",
    "    output2 = model.forward(x_vl)\n",
    "    tr_loss[epoch] = losst\n",
    "    tr_accy[epoch] = accyt\n",
    "    vl_loss[epoch] = loss2(output2, y_vl).item()\n",
    "    vl_accy[epoch] = accuracy(output2, y_vl)\n",
    "    \n",
    "    print(\"epoch:\", epoch, \"*test loss:\", losst, \"*val loss:\", vl_loss[epoch], \\\n",
    "          \"*tr/vl accuracy:\", tr_accy[epoch]/400, vl_accy[epoch]/100)"
   ]
  },
  {
   "cell_type": "code",
   "execution_count": 12,
   "id": "increased-hypothesis",
   "metadata": {},
   "outputs": [
    {
     "data": {
      "image/png": "[encoded data removed]",
      "text/plain": [
       "<Figure size 864x288 with 2 Axes>"
      ]
     },
     "metadata": {
      "needs_background": "light"
     },
     "output_type": "display_data"
    }
   ],
   "source": [
    "import matplotlib as mpl\n",
    "import matplotlib.ticker as ticker\n",
    "mpl.rcParams.update({\n",
    "    'font.family' : 'STIXGeneral',\n",
    "    'mathtext.fontset' : 'stix',\n",
    "    'xtick.direction' : 'in' ,\n",
    "    'xtick.labelsize' : 13 ,\n",
    "    'xtick.top' : False ,\n",
    "    'ytick.direction' : 'in' ,\n",
    "    'ytick.labelsize' : 13 ,\n",
    "    'ytick.right' : False ,\n",
    "    'axes.labelsize' : 16,\n",
    "    'legend.frameon' : False,\n",
    "    'legend.fontsize' : 13,\n",
    "    'legend.handlelength' : 1.5,\n",
    "    'savefig.dpi' : 600, \n",
    "    'savefig.bbox' : 'tight'\n",
    "})\n",
    "\n",
    "fig, ax = plt.subplots(1,2, figsize=(12,4))\n",
    "\n",
    "ax[0].xaxis.set_major_locator(ticker.MultipleLocator(2))\n",
    "ax[0].xaxis.set_minor_locator(ticker.MultipleLocator(1))\n",
    "ax[1].xaxis.set_major_locator(ticker.MultipleLocator(2))\n",
    "ax[1].xaxis.set_minor_locator(ticker.MultipleLocator(1))\n",
    "\n",
    "ax[0].plot(tr_loss/tr_loss[0], '.-', label='training loss')\n",
    "ax[0].plot(vl_loss/vl_loss[0], '.-', label='heldout loss')\n",
    "ax[0].legend()\n",
    "ax[0].set_ylim(-0.1, 1.1)\n",
    "ax[0].set_xlim(0, 14)\n",
    "ax[0].set_xlabel('epoch')\n",
    "ax[0].set_ylabel('loss')\n",
    "\n",
    "ax[1].plot(tr_accy/400, '.-', label='training accuracy')\n",
    "ax[1].plot(vl_accy/100, '.-', label='heldout accuracy')\n",
    "ax[1].set_ylim(0, 100)\n",
    "ax[1].set_xlim(0, 14)\n",
    "ax[1].set_xlabel('epoch')\n",
    "ax[1].set_ylabel('accuracy')\n",
    "ax[1].legend()\n",
    "\n",
    "\n",
    "plt.savefig('vgg6.png')\n",
    "plt.show()"
   ]
  },
  {
   "cell_type": "code",
   "execution_count": 11,
   "id": "julian-injection",
   "metadata": {},
   "outputs": [],
   "source": [
    "def tra(x_):\n",
    "    mask = np.ones(len(x_))\n",
    "    #mask[:int(len(mask)/5)] = 0 # #1:#0 = 4:1\n",
    "    #np.random.shuffle(mask)\n",
    "    x_tr, x_vl = x_[mask==1], x_[mask==0]\n",
    "    return x_tr, x_vl\n",
    "a = []\n",
    "b = []\n",
    "x_ts, _ = tra(testx)\n",
    "output = model.forward(x_ts)\n",
    "for i in range(9999):\n",
    "    a.append(ts_x[i].replace('_lt', ''))\n",
    "b = label[torch.argmax(output, axis=1)]\n",
    "a = np.array(a)\n",
    "np.savetxt('cifar100ltpred_vgg6.csv', np.array([a, b]).T, fmt='%s', delimiter=',',\\\n",
    "          header='id,category')"
   ]
  },
  {
   "cell_type": "code",
   "execution_count": null,
   "id": "moderate-reviewer",
   "metadata": {
    "scrolled": false
   },
   "outputs": [],
   "source": [
    "for i in np.random.randint(0, 9999, 10):\n",
    "    plt.imshow(img.imread(im_dir+ts_x[i]))\n",
    "    plt.show()\n",
    "    print(\"pred:\", b[i])"
   ]
  },
  {
   "cell_type": "markdown",
   "id": "arbitrary-agreement",
   "metadata": {},
   "source": [
    "### To see images"
   ]
  },
  {
   "cell_type": "code",
   "execution_count": null,
   "id": "integrated-bridge",
   "metadata": {},
   "outputs": [],
   "source": [
    "def pred_img(num):\n",
    "    im_dir = './dataset/'\n",
    "    plt.imshow(img.imread(im_dir+ts_x[num]))\n",
    "    plt.show()\n",
    "    test_x = np.array([img.imread(im_dir+u).T for i,u in enumerate(ts_x[num:num+1])])\n",
    "    test_x = torch.FloatTensor(test_x)\n",
    "    print(\"real:\", ts_y[num], \"pred:\", label[model.forward(test_x).argmax(axis=1)])\n",
    "def correct_img():\n",
    "    correct_ind = []\n",
    "    im_dir = './dataset/'\n",
    "    for i in range (10000):\n",
    "        test_x = np.array([img.imread(im_dir+u).T for j,u in enumerate(ts_x[i:i+1])])\n",
    "        test_x = torch.FloatTensor(test_x)\n",
    "        test_y = ts_y[i]\n",
    "        output = model.forward(test_x)\n",
    "        if torch.argmax(output, axis=1)==torch.argmax(testy[i]):\n",
    "            correct_ind.append(i)\n",
    "    return correct_ind"
   ]
  },
  {
   "cell_type": "code",
   "execution_count": null,
   "id": "alike-drilling",
   "metadata": {
    "scrolled": true
   },
   "outputs": [],
   "source": [
    "n=0\n",
    "for i in np.random.randint(0, 10000, 10):\n",
    "    plt.imshow(img.imread(im_dir+ts_x[i]))\n",
    "    plt.show()\n",
    "    test_x = np.array([img.imread(im_dir+u).T for j,u in enumerate(ts_x[i:i+1])])\n",
    "    test_x = torch.FloatTensor(test_x)\n",
    "    print(\"pred:\", label[model.forward(test_x).argmax(axis=1)])"
   ]
  },
  {
   "cell_type": "code",
   "execution_count": null,
   "id": "fancy-walter",
   "metadata": {},
   "outputs": [],
   "source": []
  }
 ],
 "metadata": {
  "kernelspec": {
   "display_name": "Python 3",
   "language": "python",
   "name": "python3"
  },
  "language_info": {
   "codemirror_mode": {
    "name": "ipython",
    "version": 3
   },
   "file_extension": ".py",
   "mimetype": "text/x-python",
   "name": "python",
   "nbconvert_exporter": "python",
   "pygments_lexer": "ipython3",
   "version": "3.8.1"
  }
 },
 "nbformat": 4,
 "nbformat_minor": 5
}
