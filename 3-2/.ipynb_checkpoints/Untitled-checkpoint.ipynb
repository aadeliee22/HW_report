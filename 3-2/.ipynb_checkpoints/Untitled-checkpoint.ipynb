{
 "cells": [
  {
   "cell_type": "code",
   "execution_count": 2,
   "metadata": {},
   "outputs": [],
   "source": [
    "import numpy as np\n",
    "import matplotlib.pyplot as plt\n",
    "import matplotlib as mpl\n",
    "import matplotlib.ticker as ticker\n",
    "mpl.rcParams.update({\n",
    "    'font.family' : 'STIXGeneral',\n",
    "    'mathtext.fontset' : 'stix',\n",
    "    'font.size' : 17,\n",
    "    'xtick.major.size' : 5.5 ,\n",
    "    'xtick.minor.size' : 3 ,\n",
    "    'xtick.major.width' : 1.2 ,\n",
    "    'xtick.minor.width' : 1.2 ,\n",
    "    'xtick.labelsize' : 15 ,\n",
    "    'xtick.direction' : 'in' ,\n",
    "    'xtick.top' : True ,\n",
    "    'ytick.major.size' : 5.5 ,\n",
    "    'ytick.minor.size' : 3 ,\n",
    "    'ytick.major.width' : 1.2 ,\n",
    "    'ytick.minor.width' : 1.2 ,\n",
    "    'ytick.labelsize' : 15 ,\n",
    "    'ytick.direction' : 'in' ,\n",
    "    'xtick.major.pad' : 8 ,\n",
    "    'xtick.minor.pad' : 8 ,\n",
    "    'ytick.major.pad' : 5 ,\n",
    "    'ytick.minor.pad' : 5 ,\n",
    "    'ytick.right' : True ,\n",
    "    'savefig.dpi' : 600 ,\n",
    "    'axes.unicode_minus' : False ,\n",
    "    'axes.linewidth' : 1.2 ,\n",
    "    'lines.linewidth' : 1.5,\n",
    "    'legend.frameon' : False,\n",
    "    'legend.fontsize' : 13,\n",
    "    'legend.handlelength' : 1.5\n",
    "})"
   ]
  },
  {
   "cell_type": "code",
   "execution_count": null,
   "metadata": {},
   "outputs": [],
   "source": [
    "for i in range (7):\n",
    "    plt.plot()"
   ]
  }
 ],
 "metadata": {
  "kernelspec": {
   "display_name": "Python 3",
   "language": "python",
   "name": "python3"
  },
  "language_info": {
   "codemirror_mode": {
    "name": "ipython",
    "version": 3
   },
   "file_extension": ".py",
   "mimetype": "text/x-python",
   "name": "python",
   "nbconvert_exporter": "python",
   "pygments_lexer": "ipython3",
   "version": "3.7.6"
  }
 },
 "nbformat": 4,
 "nbformat_minor": 4
}
