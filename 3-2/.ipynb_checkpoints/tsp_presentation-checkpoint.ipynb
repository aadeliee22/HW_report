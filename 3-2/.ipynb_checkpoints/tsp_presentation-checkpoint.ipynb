{
 "cells": [
  {
   "cell_type": "code",
   "execution_count": 25,
   "metadata": {},
   "outputs": [],
   "source": [
    "import numpy as np\n",
    "import matplotlib.pyplot as plt\n",
    "import matplotlib as mpl\n",
    "import scipy.optimize as sopt"
   ]
  },
  {
   "cell_type": "code",
   "execution_count": 17,
   "metadata": {},
   "outputs": [],
   "source": [
    "acc = 1e-6\n",
    "temp = np.linspace(0.01, 2, 500)\n",
    "s = np.zeros_like(temp)\n",
    "\n",
    "for i, t in enumerate(temp):\n",
    "    m1, err = 1, 1\n",
    "    while err > acc:\n",
    "        m1, m2 = np.tanh(m1/t), m1\n",
    "        err = np.abs((m1-m2)/(1-t*np.cosh(m2/t)**2))\n",
    "    s[i] = m1\n",
    "chi = 1/temp / (np.cosh(s/temp)**2-1/temp)"
   ]
  },
  {
   "cell_type": "code",
   "execution_count": 40,
   "metadata": {},
   "outputs": [
    {
     "data": {
      "image/png": "[encoded data removed]",
      "text/plain": [
       "<Figure size 864x324 with 2 Axes>"
      ]
     },
     "metadata": {
      "needs_background": "light"
     },
     "output_type": "display_data"
    }
   ],
   "source": [
    "mpl.rcParams.update({\n",
    "    'font.family' : 'STIXGeneral',\n",
    "    'mathtext.fontset' : 'stix',\n",
    "    'font.size' : 17,\n",
    "    'xtick.major.size' : 5.5 ,\n",
    "    'xtick.minor.size' : 3 ,\n",
    "    'xtick.major.width' : 1.2 ,\n",
    "    'xtick.minor.width' : 1.2 ,\n",
    "    'xtick.labelsize' : 15 ,\n",
    "    'xtick.direction' : 'in' ,\n",
    "    'xtick.top' : True ,\n",
    "    'ytick.major.size' : 5.5 ,\n",
    "    'ytick.minor.size' : 3 ,\n",
    "    'ytick.major.width' : 1.2 ,\n",
    "    'ytick.minor.width' : 1.2 ,\n",
    "    'ytick.labelsize' : 15 ,\n",
    "    'ytick.direction' : 'in' ,\n",
    "    'xtick.major.pad' : 8 ,\n",
    "    'xtick.minor.pad' : 8 ,\n",
    "    'ytick.major.pad' : 5 ,\n",
    "    'ytick.minor.pad' : 5 ,\n",
    "    'ytick.right' : True ,\n",
    "    'savefig.dpi' : 600 ,\n",
    "    'axes.unicode_minus' : False ,\n",
    "    'axes.linewidth' : 1.2 ,\n",
    "    'lines.linewidth' : 1.5,\n",
    "    'legend.frameon' : False,\n",
    "    'legend.fontsize' : 13,\n",
    "    'legend.handlelength' : 1.5, \n",
    "    'savefig.bbox' : 'tight'\n",
    "})\n",
    "\n",
    "fig, ax = plt.subplots(1, 2, figsize=(12, 4.5))\n",
    "ax[0].plot(temp, s, 'r-')\n",
    "ax[1].plot(temp, chi, 'r-')\n",
    "\n",
    "\n",
    "\n",
    "ax[0].set_xlabel(r'$T/T_c$')\n",
    "ax[1].set_xlabel(r'$T/T_c$')\n",
    "ax[0].set_ylabel(r'$\\langle s\\rangle$')\n",
    "ax[1].set_ylabel(r'$\\chi$')\n",
    "\n",
    "plt.savefig('MF.png')"
   ]
  },
  {
   "cell_type": "code",
   "execution_count": null,
   "metadata": {},
   "outputs": [],
   "source": []
  }
 ],
 "metadata": {
  "kernelspec": {
   "display_name": "Python 3",
   "language": "python",
   "name": "python3"
  },
  "language_info": {
   "codemirror_mode": {
    "name": "ipython",
    "version": 3
   },
   "file_extension": ".py",
   "mimetype": "text/x-python",
   "name": "python",
   "nbconvert_exporter": "python",
   "pygments_lexer": "ipython3",
   "version": "3.7.6"
  }
 },
 "nbformat": 4,
 "nbformat_minor": 4
}
