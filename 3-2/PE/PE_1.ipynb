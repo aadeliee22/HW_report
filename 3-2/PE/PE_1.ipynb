{
 "cells": [
  {
   "cell_type": "code",
   "execution_count": 1,
   "metadata": {},
   "outputs": [],
   "source": [
    "import matplotlib.pyplot as plt\n",
    "import numpy as np\n",
    "import pandas as pd"
   ]
  },
  {
   "cell_type": "code",
   "execution_count": 2,
   "metadata": {},
   "outputs": [
    {
     "data": {
      "text/html": [
       "<div>\n",
       "<style scoped>\n",
       "    .dataframe tbody tr th:only-of-type {\n",
       "        vertical-align: middle;\n",
       "    }\n",
       "\n",
       "    .dataframe tbody tr th {\n",
       "        vertical-align: top;\n",
       "    }\n",
       "\n",
       "    .dataframe thead th {\n",
       "        text-align: right;\n",
       "    }\n",
       "</style>\n",
       "<table border=\"1\" class=\"dataframe\">\n",
       "  <thead>\n",
       "    <tr style=\"text-align: right;\">\n",
       "      <th></th>\n",
       "      <th>path</th>\n",
       "      <th>t1</th>\n",
       "      <th>t2</th>\n",
       "      <th>U</th>\n",
       "      <th>d</th>\n",
       "    </tr>\n",
       "  </thead>\n",
       "  <tbody>\n",
       "    <tr>\n",
       "      <th>0</th>\n",
       "      <td>1</td>\n",
       "      <td>19.981800</td>\n",
       "      <td>35.223597</td>\n",
       "      <td>607.2</td>\n",
       "      <td>6</td>\n",
       "    </tr>\n",
       "    <tr>\n",
       "      <th>1</th>\n",
       "      <td>1</td>\n",
       "      <td>12.303309</td>\n",
       "      <td>22.595193</td>\n",
       "      <td>607.2</td>\n",
       "      <td>6</td>\n",
       "    </tr>\n",
       "    <tr>\n",
       "      <th>2</th>\n",
       "      <td>1</td>\n",
       "      <td>13.047523</td>\n",
       "      <td>9.122646</td>\n",
       "      <td>607.2</td>\n",
       "      <td>6</td>\n",
       "    </tr>\n",
       "    <tr>\n",
       "      <th>3</th>\n",
       "      <td>1</td>\n",
       "      <td>23.959538</td>\n",
       "      <td>21.357206</td>\n",
       "      <td>607.2</td>\n",
       "      <td>6</td>\n",
       "    </tr>\n",
       "    <tr>\n",
       "      <th>4</th>\n",
       "      <td>1</td>\n",
       "      <td>20.131998</td>\n",
       "      <td>34.894079</td>\n",
       "      <td>607.2</td>\n",
       "      <td>6</td>\n",
       "    </tr>\n",
       "    <tr>\n",
       "      <th>...</th>\n",
       "      <td>...</td>\n",
       "      <td>...</td>\n",
       "      <td>...</td>\n",
       "      <td>...</td>\n",
       "      <td>...</td>\n",
       "    </tr>\n",
       "    <tr>\n",
       "      <th>396</th>\n",
       "      <td>1</td>\n",
       "      <td>34.510632</td>\n",
       "      <td>38.615163</td>\n",
       "      <td>-293.7</td>\n",
       "      <td>6</td>\n",
       "    </tr>\n",
       "    <tr>\n",
       "      <th>397</th>\n",
       "      <td>1</td>\n",
       "      <td>33.386322</td>\n",
       "      <td>43.361326</td>\n",
       "      <td>-282.7</td>\n",
       "      <td>6</td>\n",
       "    </tr>\n",
       "    <tr>\n",
       "      <th>398</th>\n",
       "      <td>1</td>\n",
       "      <td>16.788661</td>\n",
       "      <td>29.291318</td>\n",
       "      <td>-265.1</td>\n",
       "      <td>6</td>\n",
       "    </tr>\n",
       "    <tr>\n",
       "      <th>399</th>\n",
       "      <td>1</td>\n",
       "      <td>26.254386</td>\n",
       "      <td>21.055792</td>\n",
       "      <td>-265.1</td>\n",
       "      <td>6</td>\n",
       "    </tr>\n",
       "    <tr>\n",
       "      <th>400</th>\n",
       "      <td>1</td>\n",
       "      <td>10.000000</td>\n",
       "      <td>-10.000000</td>\n",
       "      <td>600.0</td>\n",
       "      <td>6</td>\n",
       "    </tr>\n",
       "  </tbody>\n",
       "</table>\n",
       "<p>401 rows × 5 columns</p>\n",
       "</div>"
      ],
      "text/plain": [
       "     path         t1         t2      U  d\n",
       "0       1  19.981800  35.223597  607.2  6\n",
       "1       1  12.303309  22.595193  607.2  6\n",
       "2       1  13.047523   9.122646  607.2  6\n",
       "3       1  23.959538  21.357206  607.2  6\n",
       "4       1  20.131998  34.894079  607.2  6\n",
       "..    ...        ...        ...    ... ..\n",
       "396     1  34.510632  38.615163 -293.7  6\n",
       "397     1  33.386322  43.361326 -282.7  6\n",
       "398     1  16.788661  29.291318 -265.1  6\n",
       "399     1  26.254386  21.055792 -265.1  6\n",
       "400     1  10.000000 -10.000000  600.0  6\n",
       "\n",
       "[401 rows x 5 columns]"
      ]
     },
     "execution_count": 2,
     "metadata": {},
     "output_type": "execute_result"
    }
   ],
   "source": [
    "d = 6 * 10**(-3) # m\n",
    "rho = 874 # kg * m^-3\n",
    "rho_0 = 1.293 # kg * m^-3\n",
    "g = 9.81\n",
    "eta = 1.81 * 10**(-5) # kg * m^-1 * s^-1\n",
    "P = 101325 # Pa\n",
    "b = 8.2 * 10**(-3) # Pa * m\n",
    "s = 1 * 10**(-3) # m\n",
    "q_0 = 1.60217662 * 10**(-19) # C\n",
    "\n",
    "p = pd.read_excel('PE1data.xlsx', names=['path', 't1', 't2', 'U', 'd'])\n",
    "p2 = pd.DataFrame([[1, 10, -10, 600, 6]], columns=['path', 't1', 't2', 'U', 'd'])\n",
    "p = p.append(p2, ignore_index=True)\n",
    "p"
   ]
  },
  {
   "cell_type": "code",
   "execution_count": 3,
   "metadata": {},
   "outputs": [],
   "source": [
    "q = []\n",
    "q.append(9*np.pi*d*(s/p.t1 + s/p.t2) / p.U * np.sqrt(eta**3 * s/p.t1 / (g * (rho-rho_0))))\n",
    "q.append(4*np.pi/3 * (np.sqrt((b/(2*P))**2+9*eta*(s/p.t1)/(2*g*(rho-rho_0)))-b/(2*P))**3 \n",
    "         * (rho-rho_0)*g*d*(s/p.t1 + s/p.t2) / (p.U * s/p.t1))"
   ]
  },
  {
   "cell_type": "code",
   "execution_count": 4,
   "metadata": {},
   "outputs": [
    {
     "data": {
      "image/png": "[encoded data removed]",
      "text/plain": [
       "<Figure size 576x432 with 2 Axes>"
      ]
     },
     "metadata": {
      "needs_background": "light"
     },
     "output_type": "display_data"
    },
    {
     "name": "stdout",
     "output_type": "stream",
     "text": [
      "[1.41230383e-19 1.62628736e-19]\n"
     ]
    },
    {
     "data": {
      "image/png": "[encoded data removed]",
      "text/plain": [
       "<Figure size 432x648 with 2 Axes>"
      ]
     },
     "metadata": {
      "needs_background": "light"
     },
     "output_type": "display_data"
    }
   ],
   "source": [
    "lbl = ['No correction', 'With correction']\n",
    "fig, ax = plt.subplots(2, 1, figsize=(8, 6))\n",
    "q_min = np.zeros(2)\n",
    "for j in range (2):\n",
    "    n, bins, _ = ax[j].hist(q[j], bins = 200)\n",
    "    q_min[j] = -bins[np.argmax(n)]\n",
    "    for i in range (22):\n",
    "        ax[j].axvline(x=(-11+i)*(q_min[j]*(0.91+0.05*j)), color='r', linewidth=0.5)\n",
    "    ax[j].set_ylabel('Number', fontsize=14)\n",
    "    ax[j].set_yscale('log')\n",
    "    ax[j].set_title(lbl[j])\n",
    "ax[1].set_xlabel('$q$', fontsize=14)\n",
    "plt.show()\n",
    "print(q_min)\n",
    "\n",
    "lbl = ['No correction', 'With correction']\n",
    "fig, ax = plt.subplots(2, 1, figsize=(6, 9))\n",
    "for j in range (2):\n",
    "    n, bins, _ = ax[j].hist(q[j], bins = 200)\n",
    "    ax[j].set_ylabel('Number', fontsize=14)\n",
    "    ax[j].set_title(lbl[j])\n",
    "ax[1].set_xlabel('$q$', fontsize=14)\n",
    "plt.show()"
   ]
  },
  {
   "cell_type": "code",
   "execution_count": 9,
   "metadata": {
    "scrolled": true
   },
   "outputs": [
    {
     "name": "stdout",
     "output_type": "stream",
     "text": [
      "-10 : -1.2684983306529992e-18 3.2756179199485845e-20\n",
      "-9 : -1.1330421555467304e-18 0.0\n",
      "-8 : -9.9683928413367e-19 2.6316749615656084e-20\n",
      "-7 : -8.986724414376976e-19 4.814415228949877e-20\n",
      "-6 : -7.7517412272044e-19 2.1344200222413735e-20\n",
      "-5 : -6.387891298914158e-19 1.2047899417092831e-20\n",
      "-4 : -5.104830461136009e-19 1.1990196001397526e-20\n",
      "-3 : -3.837658319999087e-19 5.335424262732624e-21\n",
      "-2 : -2.687462980784559e-19 3.573470491850767e-21\n",
      "-1 : -1.3862845551846747e-19 1.914158657778558e-21\n",
      "0 : 0.0 0.0\n",
      "1 : 1.369869362429949e-19 2.1808499955328726e-21\n",
      "2 : 2.6671307283608744e-19 3.773157981689967e-21\n",
      "3 : 3.868472818689696e-19 5.513960448104505e-21\n",
      "4 : 5.121559000647794e-19 1.1444791448196119e-20\n",
      "5 : 6.289393224254746e-19 7.556034196836881e-21\n",
      "6 : 7.475648241996326e-19 4.850069304285067e-20\n",
      "7 : 8.784588459069146e-19 1.2389021813163839e-20\n",
      "8 : 1.0442953051257623e-18 0.0\n",
      "9 : 1.1050688536714827e-18 0.0\n",
      "\n",
      "\n",
      "-11 : -1.6861035993979856e-18 0.0\n",
      "-10 : -1.6172227546142458e-18 0.0\n",
      "-9 : -1.4466004719563407e-18 0.0\n",
      "-8 : -1.2400570869525261e-18 3.7682149448273715e-20\n",
      "-7 : -1.0665137885170201e-18 4.15636057941841e-20\n",
      "-6 : -9.514869103742097e-19 3.0884178371561317e-20\n",
      "-5 : -7.890844913562373e-19 1.8734354979354207e-20\n",
      "-4 : -6.241055720474787e-19 1.1281760163015791e-20\n",
      "-3 : -4.637863616262466e-19 5.503684082294617e-21\n",
      "-2 : -3.166859330371455e-19 3.8368764390306825e-21\n",
      "-1 : -1.5760442176840037e-19 2.350931198685959e-21\n",
      "0 : 0.0 0.0\n",
      "1 : 1.5900392671390659e-19 2.4223548538990643e-21\n",
      "2 : 3.1654262538717976e-19 4.425403341567655e-21\n",
      "3 : 4.720910547404513e-19 6.296679905358841e-21\n",
      "4 : 6.345631504691385e-19 1.317718398680465e-20\n",
      "5 : 7.77395287557784e-19 9.078902317413821e-21\n",
      "6 : 9.152186360253435e-19 9.997377037839944e-21\n",
      "7 : 1.0996916499575394e-18 2.049268720677926e-20\n",
      "8 : 1.306452481446009e-18 0.0\n",
      "9 : 1.3916233976624091e-18 0.0\n",
      "\n",
      "\n"
     ]
    }
   ],
   "source": [
    "for j in range (2):\n",
    "    for i in range (21):\n",
    "        temp = q[j][index[j]==(-11+i)]\n",
    "        if len(temp)==0: continue\n",
    "        print(-11+i, \":\", np.average(temp), 2*np.std(temp)/np.sqrt(len(temp)))\n",
    "    print('\\n')"
   ]
  },
  {
   "cell_type": "code",
   "execution_count": 6,
   "metadata": {
    "scrolled": true
   },
   "outputs": [
    {
     "data": {
      "image/png": "[encoded data removed]",
      "text/plain": [
       "<Figure size 432x288 with 1 Axes>"
      ]
     },
     "metadata": {
      "needs_background": "light"
     },
     "output_type": "display_data"
    },
    {
     "data": {
      "image/png": "[encoded data removed]",
      "text/plain": [
       "<Figure size 432x288 with 1 Axes>"
      ]
     },
     "metadata": {
      "needs_background": "light"
     },
     "output_type": "display_data"
    },
    {
     "name": "stdout",
     "output_type": "stream",
     "text": [
      "y = 1.2813713572167118e-19 x + -1.1994100154250342e-21 error : 6.413996316798833e-21 chi : 6.624670355438827e-35\n",
      "y = 1.5669993300013968e-19 x + 1.1515737688766943e-21 error : 7.840870662737137e-21 chi : 1.0106968378686045e-34\n"
     ]
    }
   ],
   "source": [
    "index = np.zeros((2, len(p)))\n",
    "for i in range (len(p)):\n",
    "    target0 = q[0][i]\n",
    "    target1 = q[1][i]\n",
    "    for j in range (11):\n",
    "        if (target0/(q_min[0]*0.91)>=(0.5+j) and target0/(q_min[0]*0.91)<(1.5+j)): index[0][i]=j+1\n",
    "        if (target1/(q_min[1]*0.96)>=(0.5+j) and target1/(q_min[1]*0.96)<(1.5+j)): index[1][i]=j+1\n",
    "    for j in range (11):\n",
    "        if (target0/(q_min[0]*0.91)<=(-0.5-j) and target0/(q_min[0]*0.91)>(-1.5-j)): index[0][i]=-j-1\n",
    "        if (target1/(q_min[1]*0.96)<=(-0.5-j) and target1/(q_min[1]*0.96)>(-1.5-j)): index[1][i]=-j-1\n",
    "for j in range (2):\n",
    "    plt.plot(index[j], q[j], '.', label=lbl[j])\n",
    "plt.xlabel('$q/e$', fontsize=14)\n",
    "plt.ylabel('$q$', fontsize=14)\n",
    "plt.legend()\n",
    "plt.show()\n",
    "\n",
    "qavg=np.zeros((2, 21))\n",
    "qerr=np.zeros((2, 21))\n",
    "for j in range (2):\n",
    "    for i in range (21):\n",
    "        temp = q[j][index[j]==(-11+i)]\n",
    "        if len(temp)==0: continue\n",
    "        qavg[j][i]=np.average(temp)\n",
    "        qerr[j][i]=np.std(temp)\n",
    "\n",
    "t = [-11+i for i in range (21)]\n",
    "z0 = np.polyfit(index[0], q[0], 1)\n",
    "z1 = np.polyfit(index[1], q[1], 1)\n",
    "p0 = np.poly1d(z0)\n",
    "p1 = np.poly1d(z1)\n",
    "chi_0 = np.sum((q[0]-p0(q[0]))**2)\n",
    "chi_1 = np.sum((q[1]-p1(q[1]))**2)\n",
    "        \n",
    "plt.errorbar(t[1:], qavg[0][1:], yerr=qerr[0][1:], fmt=\"b.\", linestyle=\"\", ecolor='k', capsize=5)\n",
    "plt.errorbar(t, qavg[1], yerr=qerr[1], fmt=\"r.\", linestyle=\"\", ecolor='k', capsize=5)\n",
    "plt.plot(t, p0(t), 'b-', linewidth=1, label = lbl[0])\n",
    "plt.plot(t, p1(t), 'r-', linewidth=1, label = lbl[1])\n",
    "plt.xlabel('$q/e$', fontsize=14)\n",
    "plt.ylabel('$q$', fontsize=14)\n",
    "plt.legend()\n",
    "plt.show()\n",
    "\n",
    "sx0 = np.var(index[0])*len(p)\n",
    "sx1 = np.var(index[1])*len(p)\n",
    "\n",
    "print(\"y =\", z0[0], \"x +\", z0[1], \"error :\", np.sqrt(chi_0/(400*sx0)), \"chi :\", chi_0)\n",
    "print(\"y =\", z1[0], \"x +\", z1[1], \"error :\", np.sqrt(chi_1/(400*sx1)), \"chi :\", chi_1)"
   ]
  },
  {
   "cell_type": "code",
   "execution_count": 7,
   "metadata": {
    "scrolled": false
   },
   "outputs": [
    {
     "name": "stdout",
     "output_type": "stream",
     "text": [
      "2.0\n",
      "1.3479333161124155e-19 -9.256230130268288e-22 error : 5.1162264443293836e-21 chi : 9.821132238002674e-36\n",
      "1.5830422225952793e-19 3.527883237137546e-22 error : 6.007683036549011e-21 chi : 1.3541789704314346e-35\n",
      "\n",
      "\n",
      "5.0\n",
      "1.2902534565672257e-19 -8.449961014072231e-22 error : 6.2245355292896335e-21 chi : 4.3158784043643076e-35\n",
      "1.568683165260202e-19 1.1229462172611106e-21 error : 7.564596607375199e-21 chi : 6.396782890668151e-35\n",
      "\n",
      "\n",
      "8.0\n",
      "1.2838206343001746e-19 -1.224392943798622e-21 error : 6.388349845960106e-21 chi : 6.052883220056897e-35\n",
      "1.566257344465188e-19 1.3385120341827307e-21 error : 7.790427102376059e-21 chi : 9.157272546371358e-35\n",
      "\n",
      "\n",
      "11.0\n",
      "1.2813713572167118e-19 -1.1994100154250342e-21 error : 6.4059938229567154e-21 chi : 6.624670355438827e-35\n",
      "1.5669993300013968e-19 1.1515737688766943e-21 error : 7.831087913247392e-21 chi : 1.0106968378686045e-34\n",
      "\n",
      "\n"
     ]
    }
   ],
   "source": [
    "for i in range (4):\n",
    "    cut = 2.5+3*i\n",
    "    iindex=[]\n",
    "    qq=[]\n",
    "    for i in range (2):\n",
    "        middle1=[]\n",
    "        middle2=[]\n",
    "        middle1=index[i][index[i]<cut]\n",
    "        iindex.append(middle1[middle1>-cut])\n",
    "        middle2=q[i][q[i]/(q_min[i]*(0.91+i*0.05))<cut]\n",
    "        qq.append(middle2[middle2/(q_min[i]*(0.91+i*0.05))>-cut])\n",
    "    z0 = np.polyfit(iindex[0], qq[0], 1)\n",
    "    z1 = np.polyfit(iindex[1], qq[1], 1)\n",
    "    p0 = np.poly1d(z0)\n",
    "    p1 = np.poly1d(z1)\n",
    "    sx0 = np.var(iindex[0])*len(p)\n",
    "    sx1 = np.var(iindex[1])*len(p)\n",
    "    chi_0 = np.sum((qq[0]-p0(qq[0]))**2)\n",
    "    chi_1 = np.sum((qq[1]-p1(qq[1]))**2)\n",
    "    print(cut-0.5)\n",
    "    print(z0[0], z0[1], \"error :\", np.sqrt(chi_0/(len(p)*sx0)), \"chi :\", chi_0)\n",
    "    print(z1[0], z1[1], \"error :\", np.sqrt(chi_1/(len(p)*sx1)), \"chi :\", chi_1)\n",
    "    print('\\n')"
   ]
  },
  {
   "cell_type": "code",
   "execution_count": 10,
   "metadata": {},
   "outputs": [
    {
     "name": "stdout",
     "output_type": "stream",
     "text": [
      "2.0\n",
      "84.13138097798577 error : 3.1932974058311894\n",
      "98.80572483920525 error : 3.7497008516757724\n",
      "\n",
      "\n",
      "5.0\n",
      "80.53128727887851 error : 3.8850495329844676\n",
      "97.9095029647981 error : 4.721449878213301\n",
      "\n",
      "\n",
      "8.0\n",
      "80.12978208982818 error : 3.9872943882804295\n",
      "97.75809513842412 error : 4.862402187828741\n",
      "\n",
      "\n",
      "11.0\n",
      "79.97691023706935 error : 3.9983068926300493\n",
      "97.80440623340245 error : 4.8877806700533375\n",
      "\n",
      "\n"
     ]
    }
   ],
   "source": [
    "for i in range (4):\n",
    "    cut = 2.5+3*i\n",
    "    iindex=[]\n",
    "    qq=[]\n",
    "    for i in range (2):\n",
    "        middle1=[]\n",
    "        middle2=[]\n",
    "        middle1=index[i][index[i]<cut]\n",
    "        iindex.append(middle1[middle1>-cut])\n",
    "        middle2=q[i][q[i]/(q_min[i]*(0.91+i*0.05))<cut]\n",
    "        qq.append(middle2[middle2/(q_min[i]*(0.91+i*0.05))>-cut])\n",
    "    z0 = np.polyfit(iindex[0], qq[0], 1)\n",
    "    z1 = np.polyfit(iindex[1], qq[1], 1)\n",
    "    p0 = np.poly1d(z0)\n",
    "    p1 = np.poly1d(z1)\n",
    "    sx0 = np.var(iindex[0])*len(p)\n",
    "    sx1 = np.var(iindex[1])*len(p)\n",
    "    chi_0 = np.sum((qq[0]-p0(qq[0]))**2)\n",
    "    chi_1 = np.sum((qq[1]-p1(qq[1]))**2)\n",
    "    print(cut-0.5)\n",
    "    print(z0[0]/q_0*100, \"error :\", np.sqrt(chi_0/(len(p)*sx0))/q_0*100)\n",
    "    print(z1[0]/q_0*100, \"error :\", np.sqrt(chi_1/(len(p)*sx1))/q_0*100)\n",
    "    print('\\n')"
   ]
  },
  {
   "cell_type": "code",
   "execution_count": null,
   "metadata": {},
   "outputs": [],
   "source": []
  }
 ],
 "metadata": {
  "kernelspec": {
   "display_name": "Python 3",
   "language": "python",
   "name": "python3"
  },
  "language_info": {
   "codemirror_mode": {
    "name": "ipython",
    "version": 3
   },
   "file_extension": ".py",
   "mimetype": "text/x-python",
   "name": "python",
   "nbconvert_exporter": "python",
   "pygments_lexer": "ipython3",
   "version": "3.7.6"
  }
 },
 "nbformat": 4,
 "nbformat_minor": 4
}
