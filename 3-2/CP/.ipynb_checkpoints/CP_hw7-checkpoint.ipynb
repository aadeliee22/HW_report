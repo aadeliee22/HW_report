{
 "cells": [
  {
   "cell_type": "code",
   "execution_count": 7,
   "metadata": {},
   "outputs": [],
   "source": [
    "import numpy as np\n",
    "import cmath as cm"
   ]
  },
  {
   "cell_type": "markdown",
   "metadata": {},
   "source": [
    "## 6.5"
   ]
  },
  {
   "cell_type": "code",
   "execution_count": 3,
   "metadata": {},
   "outputs": [],
   "source": [
    "R1 = R3 = R5 = 1000\n",
    "R2 = R4 = R6 = 2000\n",
    "C1 = 1e-6\n",
    "C2 = 0.5 * 1e-6\n",
    "Xp = 3\n",
    "w = 1000"
   ]
  },
  {
   "cell_type": "code",
   "execution_count": 6,
   "metadata": {},
   "outputs": [
    {
     "data": {
      "text/plain": [
       "array([2.13070896-0.48729218j, 1.39977069-0.68335563j,\n",
       "       2.14498376-0.24840436j])"
      ]
     },
     "execution_count": 6,
     "metadata": {},
     "output_type": "execute_result"
    }
   ],
   "source": [
    "A = np.array([[1/R1 + 1/R4 + 1j*w*C1, -1j*w*C1, 0],\n",
    "           [-1j*C1, 1/R2 + 1/R5 + 1j*w*C1 + 1j*w*C2, -1j*w*C2],\n",
    "           [0, -1j*w*C2, 1/R3 + 1/R6 + 1j*w*C2]], complex)\n",
    "b = np.array([Xp/R1, Xp/R1, Xp/R3], complex)\n",
    "x = np.linalg.solve(A, b)\n",
    "x"
   ]
  },
  {
   "cell_type": "code",
   "execution_count": 9,
   "metadata": {},
   "outputs": [
    {
     "name": "stdout",
     "output_type": "stream",
     "text": [
      "2.1857205574030876 -0.22483292660227916\n",
      "1.5576690558154707 -0.45415595945085463\n",
      "2.159319346933402 -0.11529352298203277\n"
     ]
    }
   ],
   "source": [
    "for i in range (3):\n",
    "    r, theta = cm.polar(x[i])\n",
    "    print(r, theta)"
   ]
  },
  {
   "cell_type": "markdown",
   "metadata": {},
   "source": [
    "## 6.12"
   ]
  },
  {
   "cell_type": "code",
   "execution_count": null,
   "metadata": {},
   "outputs": [],
   "source": []
  }
 ],
 "metadata": {
  "kernelspec": {
   "display_name": "Python 3",
   "language": "python",
   "name": "python3"
  },
  "language_info": {
   "codemirror_mode": {
    "name": "ipython",
    "version": 3
   },
   "file_extension": ".py",
   "mimetype": "text/x-python",
   "name": "python",
   "nbconvert_exporter": "python",
   "pygments_lexer": "ipython3",
   "version": "3.7.6"
  }
 },
 "nbformat": 4,
 "nbformat_minor": 4
}
