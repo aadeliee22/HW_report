{
 "cells": [
  {
   "cell_type": "markdown",
   "metadata": {},
   "source": [
    "# Numpy 1 (array)"
   ]
  },
  {
   "cell_type": "code",
   "execution_count": 1,
   "metadata": {},
   "outputs": [],
   "source": [
    "import numpy as np"
   ]
  },
  {
   "cell_type": "code",
   "execution_count": 4,
   "metadata": {},
   "outputs": [
    {
     "name": "stdout",
     "output_type": "stream",
     "text": [
      "[[0 1 2 3]\n",
      " [4 5 6 7]]\n",
      "[0.  0.5 1.  1.5]\n",
      "[0.         0.66666667 1.33333333 2.        ]\n"
     ]
    }
   ],
   "source": [
    "# row-major order\n",
    "a = np.array([[0,1,2,3], [4,5,6,7]]) # default: float\n",
    "print(a)\n",
    "\n",
    "a = np.arange(0, 2, 0.5) # default: step=1\n",
    "print(a)\n",
    "a = np.linspace(0, 2, 4)\n",
    "print(a)"
   ]
  },
  {
   "cell_type": "code",
   "execution_count": 5,
   "metadata": {},
   "outputs": [
    {
     "name": "stdout",
     "output_type": "stream",
     "text": [
      "1 (4,) 4\n",
      "2 (2, 4) 2\n"
     ]
    }
   ],
   "source": [
    "a = np.array([0,1,2,3])\n",
    "print(a.ndim, a.shape, len(a))\n",
    "a = np.array([[0,1,2,3],[4,5,6,7]])\n",
    "print(a.ndim, a.shape, len(a))"
   ]
  },
  {
   "cell_type": "markdown",
   "metadata": {},
   "source": [
    "# Numpy 2 (dtype)"
   ]
  },
  {
   "cell_type": "code",
   "execution_count": 8,
   "metadata": {},
   "outputs": [
    {
     "name": "stdout",
     "output_type": "stream",
     "text": [
      "int32\n",
      "float64\n",
      "float64\n"
     ]
    }
   ],
   "source": [
    "b = np.array([1,2])\n",
    "print(b.dtype)\n",
    "b = np.array([1.,2.])\n",
    "print(b.dtype)\n",
    "b = np.array([1,2], dtype=np.float64) # int32, int64, float64, complex128\n",
    "print(b.dtype)"
   ]
  },
  {
   "cell_type": "code",
   "execution_count": 9,
   "metadata": {},
   "outputs": [
    {
     "name": "stdout",
     "output_type": "stream",
     "text": [
      "-128 -127\n"
     ]
    },
    {
     "name": "stderr",
     "output_type": "stream",
     "text": [
      "C:\\Users\\User\\anaconda3\\lib\\site-packages\\ipykernel_launcher.py:5: RuntimeWarning: overflow encountered in byte_scalars\n",
      "  \"\"\"\n"
     ]
    }
   ],
   "source": [
    "a = np.int8(127)\n",
    "b = np.int8(1)\n",
    "c = np.int8(2)\n",
    "\n",
    "print(a+b, a+c)"
   ]
  },
  {
   "cell_type": "code",
   "execution_count": 10,
   "metadata": {},
   "outputs": [
    {
     "name": "stdout",
     "output_type": "stream",
     "text": [
      "1.0000000000000002\n",
      "1.0\n"
     ]
    }
   ],
   "source": [
    "print(1.0 + 2.0**-52)\n",
    "print(1.0 + 2.0**-53)"
   ]
  },
  {
   "cell_type": "code",
   "execution_count": 12,
   "metadata": {},
   "outputs": [
    {
     "name": "stdout",
     "output_type": "stream",
     "text": [
      "1.0\n",
      "1.999999993922529\n"
     ]
    }
   ],
   "source": [
    "# float32: 6 / float64: 15\n",
    "a = np.float32(1.0)\n",
    "b = np.float32(1.0e-8)\n",
    "for i in range (100000000): a = a + b\n",
    "print(a)\n",
    "\n",
    "a = np.float64(1.0)\n",
    "b = np.float64(1.0e-8)\n",
    "for i in range (100000000): a = a + b\n",
    "print(a)"
   ]
  },
  {
   "cell_type": "markdown",
   "metadata": {},
   "source": [
    "# Numpy 3 (array creation)"
   ]
  },
  {
   "cell_type": "code",
   "execution_count": 27,
   "metadata": {},
   "outputs": [
    {
     "name": "stdout",
     "output_type": "stream",
     "text": [
      "[[1. 1. 1.]\n",
      " [1. 1. 1.]]\n",
      "[[1 1 1]\n",
      " [1 1 1]]\n",
      "[[0 0 0]\n",
      " [0 0 0]]\n",
      "[[1. 1. 1.]\n",
      " [1. 1. 1.]]\n",
      "[[0 1 2]\n",
      " [3 4 5]]\n"
     ]
    }
   ],
   "source": [
    "a = np.ones((2,3))\n",
    "print(a)\n",
    "a = np.ones((2,3), dtype=int)\n",
    "b = np.zeros_like(a)\n",
    "print(a)\n",
    "print(b)\n",
    "\n",
    "s = (2,3)\n",
    "print(np.ones(s))\n",
    "\n",
    "x = np.arange(6)\n",
    "x = x.reshape((2,3)) # it does have to match the size\n",
    "print(x)"
   ]
  },
  {
   "cell_type": "code",
   "execution_count": 29,
   "metadata": {},
   "outputs": [
    {
     "name": "stdout",
     "output_type": "stream",
     "text": [
      "[[0. 1. 2. 3.]\n",
      " [0. 2. 4. 6.]\n",
      " [0. 3. 6. 9.]]\n"
     ]
    }
   ],
   "source": [
    "print(np.fromfunction(lambda a,b: (a+1)*b, (3,4)))"
   ]
  },
  {
   "cell_type": "code",
   "execution_count": 34,
   "metadata": {},
   "outputs": [
    {
     "name": "stdout",
     "output_type": "stream",
     "text": [
      "inside: [[0. 0. 0. 0.]\n",
      " [1. 1. 1. 1.]\n",
      " [2. 2. 2. 2.]] [[0. 1. 2. 3.]\n",
      " [0. 1. 2. 3.]\n",
      " [0. 1. 2. 3.]]\n",
      "array: [[0. 1. 2. 3.]\n",
      " [0. 2. 4. 6.]\n",
      " [0. 3. 6. 9.]]\n"
     ]
    }
   ],
   "source": [
    "def func1(a,b):\n",
    "    print(\"inside:\", a,b)\n",
    "    return (a+1)*b # array\n",
    "print(\"array:\", np.fromfunction(func1, (3,4)))"
   ]
  },
  {
   "cell_type": "code",
   "execution_count": 39,
   "metadata": {},
   "outputs": [
    {
     "name": "stdout",
     "output_type": "stream",
     "text": [
      "[[0.38443793 0.98356283]\n",
      " [0.62889514 0.37534796]\n",
      " [0.89242963 0.8948429 ]]\n",
      "[[5 5]\n",
      " [5 3]\n",
      " [4 4]]\n"
     ]
    }
   ],
   "source": [
    "print(np.random.rand(3,2))\n",
    "print(np.random.randint(3, 6, size=(3,2)))"
   ]
  },
  {
   "cell_type": "markdown",
   "metadata": {},
   "source": [
    "# Numpy 4-1"
   ]
  },
  {
   "cell_type": "code",
   "execution_count": 67,
   "metadata": {},
   "outputs": [
    {
     "name": "stdout",
     "output_type": "stream",
     "text": [
      "[[2 3]\n",
      " [6 7]]\n",
      "2\n",
      "77\n",
      "[[ 1 77  3  4]\n",
      " [ 5  6  7  8]\n",
      " [ 9 10 11 12]]\n"
     ]
    }
   ],
   "source": [
    "#numpy\n",
    "a = np.array([[1,2,3,4], [5,6,7,8], [9,10,11,12]])\n",
    "b = a[:2, 1:3] #View; shallow copy\n",
    "print(b)\n",
    "print(a[0,1])\n",
    "b[0,0]=77\n",
    "print(a[0,1])\n",
    "print(a)"
   ]
  },
  {
   "cell_type": "code",
   "execution_count": 91,
   "metadata": {},
   "outputs": [
    {
     "name": "stdout",
     "output_type": "stream",
     "text": [
      "[[2, 3], [6, 7]]\n",
      "2\n",
      "2\n",
      "[[1, 2, 3, 4], [5, 6, 7, 8], [9, 10, 11, 12]]\n"
     ]
    }
   ],
   "source": [
    "#python\n",
    "a = [[1,2,3,4], [5,6,7,8], [9,10,11,12]]\n",
    "b = [v[1:3] for v in a[:2]] # deep copy\n",
    "print(b)\n",
    "print(a[0][1])\n",
    "b[0][0] = 77\n",
    "print(a[0][1])\n",
    "print(a)"
   ]
  },
  {
   "cell_type": "code",
   "execution_count": 93,
   "metadata": {},
   "outputs": [
    {
     "name": "stdout",
     "output_type": "stream",
     "text": [
      "[5 6 7 8] (4,) [[5 6 7 8]] (1, 4)\n",
      "[ 2  6 10] (3,)\n",
      "[[ 2]\n",
      " [ 6]\n",
      " [10]] (3, 1)\n"
     ]
    }
   ],
   "source": [
    "a = np.array([[1,2,3,4], [5,6,7,8], [9,10,11,12]])\n",
    "\n",
    "r1 = a[1,:]\n",
    "r2 = a[1:2,:]\n",
    "print(r1, r1.shape, r2, r2.shape)\n",
    "\n",
    "c1 = a[:, 1]\n",
    "c2 = a[:, 1:2]\n",
    "print(c1, c1.shape)\n",
    "print(c2, c2.shape)"
   ]
  },
  {
   "cell_type": "code",
   "execution_count": 96,
   "metadata": {},
   "outputs": [
    {
     "name": "stdout",
     "output_type": "stream",
     "text": [
      "[0 2 4 6 8]\n",
      "True\n",
      "[-7  1  2  3  4  5  6  7  8  9]\n"
     ]
    }
   ],
   "source": [
    "#shallow copy\n",
    "a = np.arange(10)\n",
    "b = a[::2]\n",
    "print(b)\n",
    "print(np.may_share_memory(a,b))\n",
    "b[0]=-7\n",
    "print(a)"
   ]
  },
  {
   "cell_type": "code",
   "execution_count": 99,
   "metadata": {},
   "outputs": [
    {
     "name": "stdout",
     "output_type": "stream",
     "text": [
      "[12  2  4  6  8]\n",
      "False\n"
     ]
    }
   ],
   "source": [
    "#deep copy\n",
    "a = np.arange(10)\n",
    "c = a[::2].copy()\n",
    "c[0] = 12\n",
    "print(c)\n",
    "print(np.may_share_memory(a,c))"
   ]
  },
  {
   "cell_type": "code",
   "execution_count": 103,
   "metadata": {},
   "outputs": [
    {
     "name": "stdout",
     "output_type": "stream",
     "text": [
      "[[False False]\n",
      " [ True  True]\n",
      " [ True  True]]\n",
      "[3 4 5 6]\n",
      "[3 4 5 6]\n",
      "[[1 2]\n",
      " [0 0]\n",
      " [0 0]]\n"
     ]
    }
   ],
   "source": [
    "a = np.array([[1,2],[3,4],[5,6]])\n",
    "boll_inx = (a>2)\n",
    "print(boll_inx)\n",
    "\n",
    "print(a[boll_inx])\n",
    "print(a[a>2])\n",
    "\n",
    "a[a>2] = 0\n",
    "print(a)"
   ]
  },
  {
   "cell_type": "code",
   "execution_count": 105,
   "metadata": {},
   "outputs": [
    {
     "name": "stdout",
     "output_type": "stream",
     "text": [
      "[20 30 20 40 20]\n",
      "[   0   10   20   30   40   50   60 -100   80 -100]\n"
     ]
    }
   ],
   "source": [
    "a = np.arange(0, 100, 10)\n",
    "print(a[[2,3,2,4,2]])\n",
    "a[[9,7]] = -100\n",
    "print(a)"
   ]
  },
  {
   "cell_type": "code",
   "execution_count": 108,
   "metadata": {},
   "outputs": [
    {
     "name": "stdout",
     "output_type": "stream",
     "text": [
      "[ 0 10 20 30 40 50 60 70 80 90]\n",
      "[[30 40]\n",
      " [90 70]]\n"
     ]
    }
   ],
   "source": [
    "a = np.arange(10)*10\n",
    "print(a)\n",
    "idx = np.array([[3,4],[9,7]])\n",
    "print(a[idx])"
   ]
  },
  {
   "cell_type": "code",
   "execution_count": null,
   "metadata": {},
   "outputs": [],
   "source": []
  }
 ],
 "metadata": {
  "kernelspec": {
   "display_name": "Python 3",
   "language": "python",
   "name": "python3"
  },
  "language_info": {
   "codemirror_mode": {
    "name": "ipython",
    "version": 3
   },
   "file_extension": ".py",
   "mimetype": "text/x-python",
   "name": "python",
   "nbconvert_exporter": "python",
   "pygments_lexer": "ipython3",
   "version": "3.7.6"
  }
 },
 "nbformat": 4,
 "nbformat_minor": 4
}
