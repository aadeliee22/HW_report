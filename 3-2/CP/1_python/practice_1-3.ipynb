{
 "cells": [
  {
   "cell_type": "code",
   "execution_count": 1,
   "metadata": {
    "colab": {
     "base_uri": "https://localhost:8080/",
     "height": 35
    },
    "colab_type": "code",
    "executionInfo": {
     "elapsed": 685,
     "status": "ok",
     "timestamp": 1600011633256,
     "user": {
      "displayName": "김혜진",
      "photoUrl": "https://lh3.googleusercontent.com/a-/AOh14GhZtyMV5aaZTogqlhJQE84vQOSiXa5rxb-1i4R3hQ=s64",
      "userId": "10440885310144563033"
     },
     "user_tz": -540
    },
    "id": "qj77L0_8HggJ",
    "outputId": "5f8fd87b-31ca-4cc2-bf50-36de89e33192"
   },
   "outputs": [
    {
     "name": "stdout",
     "output_type": "stream",
     "text": [
      "Python 3.7.6\n"
     ]
    }
   ],
   "source": [
    "!python --version"
   ]
  },
  {
   "cell_type": "code",
   "execution_count": 2,
   "metadata": {
    "colab": {
     "base_uri": "https://localhost:8080/",
     "height": 35
    },
    "colab_type": "code",
    "executionInfo": {
     "elapsed": 647,
     "status": "ok",
     "timestamp": 1600012243066,
     "user": {
      "displayName": "김혜진",
      "photoUrl": "https://lh3.googleusercontent.com/a-/AOh14GhZtyMV5aaZTogqlhJQE84vQOSiXa5rxb-1i4R3hQ=s64",
      "userId": "10440885310144563033"
     },
     "user_tz": -540
    },
    "id": "mAX1g-qRJs_T",
    "outputId": "3f83feab-44f3-470a-97fc-89915275f027"
   },
   "outputs": [
    {
     "name": "stdout",
     "output_type": "stream",
     "text": [
      "(7+4j)\n"
     ]
    }
   ],
   "source": [
    "# 'j' is for complex number. \n",
    "print((2+3j)*(2-1j))"
   ]
  },
  {
   "cell_type": "code",
   "execution_count": 3,
   "metadata": {
    "colab": {
     "base_uri": "https://localhost:8080/",
     "height": 35
    },
    "colab_type": "code",
    "executionInfo": {
     "elapsed": 623,
     "status": "ok",
     "timestamp": 1600012373541,
     "user": {
      "displayName": "김혜진",
      "photoUrl": "https://lh3.googleusercontent.com/a-/AOh14GhZtyMV5aaZTogqlhJQE84vQOSiXa5rxb-1i4R3hQ=s64",
      "userId": "10440885310144563033"
     },
     "user_tz": -540
    },
    "id": "_6_WQxn2KHbi",
    "outputId": "c8409af2-9dfa-4fde-9ad8-ce199ea455fa"
   },
   "outputs": [
    {
     "name": "stdout",
     "output_type": "stream",
     "text": [
      "a is greater than 1\n"
     ]
    }
   ],
   "source": [
    "a = 3\n",
    "if a>1: \n",
    "    print(\"a is greater than 1\")"
   ]
  },
  {
   "cell_type": "code",
   "execution_count": 4,
   "metadata": {
    "colab": {
     "base_uri": "https://localhost:8080/",
     "height": 70
    },
    "colab_type": "code",
    "executionInfo": {
     "elapsed": 830,
     "status": "ok",
     "timestamp": 1600012393330,
     "user": {
      "displayName": "김혜진",
      "photoUrl": "https://lh3.googleusercontent.com/a-/AOh14GhZtyMV5aaZTogqlhJQE84vQOSiXa5rxb-1i4R3hQ=s64",
      "userId": "10440885310144563033"
     },
     "user_tz": -540
    },
    "id": "ayxV1wfjK0t5",
    "outputId": "db73119a-b65b-43ae-a152-abe18c987172"
   },
   "outputs": [
    {
     "name": "stdout",
     "output_type": "stream",
     "text": [
      "2\n",
      "6\n",
      "4\n"
     ]
    }
   ],
   "source": [
    "for a in [2,6,4]:\n",
    "    print(a)"
   ]
  },
  {
   "cell_type": "code",
   "execution_count": 5,
   "metadata": {
    "colab": {
     "base_uri": "https://localhost:8080/",
     "height": 35
    },
    "colab_type": "code",
    "executionInfo": {
     "elapsed": 666,
     "status": "ok",
     "timestamp": 1600012418514,
     "user": {
      "displayName": "김혜진",
      "photoUrl": "https://lh3.googleusercontent.com/a-/AOh14GhZtyMV5aaZTogqlhJQE84vQOSiXa5rxb-1i4R3hQ=s64",
      "userId": "10440885310144563033"
     },
     "user_tz": -540
    },
    "id": "1vBkxOzWK4AB",
    "outputId": "dba0d8d4-292d-435c-ecb8-9f684c67952f"
   },
   "outputs": [
    {
     "name": "stdout",
     "output_type": "stream",
     "text": [
      "7\n"
     ]
    }
   ],
   "source": [
    "def func(a, b):\n",
    "    return a+b\n",
    "\n",
    "print(func(3, 4))"
   ]
  },
  {
   "cell_type": "code",
   "execution_count": 6,
   "metadata": {
    "colab": {
     "base_uri": "https://localhost:8080/",
     "height": 35
    },
    "colab_type": "code",
    "executionInfo": {
     "elapsed": 702,
     "status": "ok",
     "timestamp": 1600013443547,
     "user": {
      "displayName": "김혜진",
      "photoUrl": "https://lh3.googleusercontent.com/a-/AOh14GhZtyMV5aaZTogqlhJQE84vQOSiXa5rxb-1i4R3hQ=s64",
      "userId": "10440885310144563033"
     },
     "user_tz": -540
    },
    "id": "_ZKNB4epK_sE",
    "outputId": "2359d44b-c056-4fb9-ac94-7f5d8fca84fb"
   },
   "outputs": [
    {
     "data": {
      "text/plain": [
       "3.417601498127013"
      ]
     },
     "execution_count": 6,
     "metadata": {},
     "output_type": "execute_result"
    }
   ],
   "source": [
    "a = 1.2 + 3.2j\n",
    "abs(a)"
   ]
  },
  {
   "cell_type": "code",
   "execution_count": 7,
   "metadata": {
    "colab": {
     "base_uri": "https://localhost:8080/",
     "height": 35
    },
    "colab_type": "code",
    "executionInfo": {
     "elapsed": 791,
     "status": "ok",
     "timestamp": 1600013699583,
     "user": {
      "displayName": "김혜진",
      "photoUrl": "https://lh3.googleusercontent.com/a-/AOh14GhZtyMV5aaZTogqlhJQE84vQOSiXa5rxb-1i4R3hQ=s64",
      "userId": "10440885310144563033"
     },
     "user_tz": -540
    },
    "id": "bFwhgs1rO7zV",
    "outputId": "1f1de9b3-680e-40ac-fd9d-cb1034708aea"
   },
   "outputs": [],
   "source": [
    "import math"
   ]
  },
  {
   "cell_type": "code",
   "execution_count": 8,
   "metadata": {
    "colab": {
     "base_uri": "https://localhost:8080/",
     "height": 88
    },
    "colab_type": "code",
    "executionInfo": {
     "elapsed": 640,
     "status": "ok",
     "timestamp": 1600014223380,
     "user": {
      "displayName": "김혜진",
      "photoUrl": "https://lh3.googleusercontent.com/a-/AOh14GhZtyMV5aaZTogqlhJQE84vQOSiXa5rxb-1i4R3hQ=s64",
      "userId": "10440885310144563033"
     },
     "user_tz": -540
    },
    "id": "luNPq_33PyER",
    "outputId": "0890db5d-bfa4-4d10-c66c-5857de29ae07"
   },
   "outputs": [
    {
     "name": "stdout",
     "output_type": "stream",
     "text": [
      "\n",
      "Hello\n",
      "world\n",
      "\n"
     ]
    }
   ],
   "source": [
    "multiline='''\n",
    "Hello\n",
    "world\n",
    "'''\n",
    "print(multiline)"
   ]
  },
  {
   "cell_type": "code",
   "execution_count": 9,
   "metadata": {
    "colab": {
     "base_uri": "https://localhost:8080/",
     "height": 36
    },
    "colab_type": "code",
    "executionInfo": {
     "elapsed": 671,
     "status": "ok",
     "timestamp": 1600014291783,
     "user": {
      "displayName": "김혜진",
      "photoUrl": "https://lh3.googleusercontent.com/a-/AOh14GhZtyMV5aaZTogqlhJQE84vQOSiXa5rxb-1i4R3hQ=s64",
      "userId": "10440885310144563033"
     },
     "user_tz": -540
    },
    "id": "pM0TIjOHR4U8",
    "outputId": "66133e86-7227-4a82-dced-9adf89365b8b"
   },
   "outputs": [
    {
     "data": {
      "text/plain": [
       "\"Python's\""
      ]
     },
     "execution_count": 9,
     "metadata": {},
     "output_type": "execute_result"
    }
   ],
   "source": [
    "'Python\\'s'"
   ]
  },
  {
   "cell_type": "code",
   "execution_count": 10,
   "metadata": {
    "colab": {
     "base_uri": "https://localhost:8080/",
     "height": 36
    },
    "colab_type": "code",
    "executionInfo": {
     "elapsed": 619,
     "status": "ok",
     "timestamp": 1600014404809,
     "user": {
      "displayName": "김혜진",
      "photoUrl": "https://lh3.googleusercontent.com/a-/AOh14GhZtyMV5aaZTogqlhJQE84vQOSiXa5rxb-1i4R3hQ=s64",
      "userId": "10440885310144563033"
     },
     "user_tz": -540
    },
    "id": "hkRAskFKSEoV",
    "outputId": "39e6a3a3-ea90-413b-fa89-1245f1ca93de"
   },
   "outputs": [
    {
     "data": {
      "text/plain": [
       "'H eH e'"
      ]
     },
     "execution_count": 10,
     "metadata": {},
     "output_type": "execute_result"
    }
   ],
   "source": [
    "a = \"H e\"\n",
    "b = \"l l o\"\n",
    "a * 2 # concatenation: a+b"
   ]
  },
  {
   "cell_type": "code",
   "execution_count": 11,
   "metadata": {
    "colab": {
     "base_uri": "https://localhost:8080/",
     "height": 70
    },
    "colab_type": "code",
    "executionInfo": {
     "elapsed": 1332,
     "status": "ok",
     "timestamp": 1600014799597,
     "user": {
      "displayName": "김혜진",
      "photoUrl": "https://lh3.googleusercontent.com/a-/AOh14GhZtyMV5aaZTogqlhJQE84vQOSiXa5rxb-1i4R3hQ=s64",
      "userId": "10440885310144563033"
     },
     "user_tz": -540
    },
    "id": "MlnZct4FST0f",
    "outputId": "8bcd9d22-0693-4fa9-acdd-4bebb347c365"
   },
   "outputs": [
    {
     "name": "stdout",
     "output_type": "stream",
     "text": [
      "life is to\n",
      "you need\n",
      "lf st\n"
     ]
    }
   ],
   "source": [
    "a = \"life is too short, you need python\"\n",
    "print(a[0:10])\n",
    "print(a[19:-7]) # periodic boundary condition\n",
    "print(a[0:9:2]) # a[0] to a[8], 2 step"
   ]
  },
  {
   "cell_type": "code",
   "execution_count": 12,
   "metadata": {
    "colab": {
     "base_uri": "https://localhost:8080/",
     "height": 106
    },
    "colab_type": "code",
    "executionInfo": {
     "elapsed": 659,
     "status": "ok",
     "timestamp": 1600015326887,
     "user": {
      "displayName": "김혜진",
      "photoUrl": "https://lh3.googleusercontent.com/a-/AOh14GhZtyMV5aaZTogqlhJQE84vQOSiXa5rxb-1i4R3hQ=s64",
      "userId": "10440885310144563033"
     },
     "user_tz": -540
    },
    "id": "G_ojmDW7TA0D",
    "outputId": "6ccd7836-6960-4ad5-e64a-549fe1f092bf"
   },
   "outputs": [
    {
     "name": "stdout",
     "output_type": "stream",
     "text": [
      "I ate 3 apples.\n",
      "I ate three apples.\n",
      "pi is 3.141592653589793\n",
      "pi is    3.1415926536\n",
      "pi is 3.1415926536   \n"
     ]
    }
   ],
   "source": [
    "print(\"I ate %d apples.\" %3)\n",
    "print(\"I ate %s apples.\" %\"three\")\n",
    "print(\"pi is %s\" %math.pi)\n",
    "print(\"pi is %15.10f\" %math.pi)\n",
    "print(\"pi is %-15.10f\" %math.pi)"
   ]
  },
  {
   "cell_type": "code",
   "execution_count": 13,
   "metadata": {
    "colab": {
     "base_uri": "https://localhost:8080/",
     "height": 35
    },
    "colab_type": "code",
    "executionInfo": {
     "elapsed": 651,
     "status": "ok",
     "timestamp": 1600015723213,
     "user": {
      "displayName": "김혜진",
      "photoUrl": "https://lh3.googleusercontent.com/a-/AOh14GhZtyMV5aaZTogqlhJQE84vQOSiXa5rxb-1i4R3hQ=s64",
      "userId": "10440885310144563033"
     },
     "user_tz": -540
    },
    "id": "lp7NEOVLVbKi",
    "outputId": "d4222b9a-42c1-4c0b-ffa4-b1376ffa8a25"
   },
   "outputs": [
    {
     "name": "stdout",
     "output_type": "stream",
     "text": [
      "I ate 10 apples. So I was sick for three days\n"
     ]
    }
   ],
   "source": [
    "number = 10\n",
    "day = \"three\"\n",
    "print(\"I ate {xxx} apples. So I was s\\\n",
    "ick for {yyy} days\".format(xxx=number, yyy=day))"
   ]
  },
  {
   "cell_type": "code",
   "execution_count": 14,
   "metadata": {
    "colab": {
     "base_uri": "https://localhost:8080/",
     "height": 88
    },
    "colab_type": "code",
    "executionInfo": {
     "elapsed": 639,
     "status": "ok",
     "timestamp": 1600016113335,
     "user": {
      "displayName": "김혜진",
      "photoUrl": "https://lh3.googleusercontent.com/a-/AOh14GhZtyMV5aaZTogqlhJQE84vQOSiXa5rxb-1i4R3hQ=s64",
      "userId": "10440885310144563033"
     },
     "user_tz": -540
    },
    "id": "2Kg89h48XdN4",
    "outputId": "c000405b-c411-4d9c-bb05-4eb0381163e3"
   },
   "outputs": [
    {
     "name": "stdout",
     "output_type": "stream",
     "text": [
      "4 1 -1 3\n",
      "a,b,c,d\n",
      "um...   hi\n",
      "  um...   hi   \n"
     ]
    }
   ],
   "source": [
    "a = \"good is good\"\n",
    "print(a.count('o'), a.find('o'), a.find('x'), a.index('d'))\n",
    "a = \",\"\n",
    "print(a.join('abcd'))\n",
    "a = \"  um...   hi   \"\n",
    "print(a.strip()) # delete blank\n",
    "print(a)"
   ]
  },
  {
   "cell_type": "code",
   "execution_count": 15,
   "metadata": {
    "colab": {
     "base_uri": "https://localhost:8080/",
     "height": 52
    },
    "colab_type": "code",
    "executionInfo": {
     "elapsed": 671,
     "status": "ok",
     "timestamp": 1600016009365,
     "user": {
      "displayName": "김혜진",
      "photoUrl": "https://lh3.googleusercontent.com/a-/AOh14GhZtyMV5aaZTogqlhJQE84vQOSiXa5rxb-1i4R3hQ=s64",
      "userId": "10440885310144563033"
     },
     "user_tz": -540
    },
    "id": "RbTRqj6qXv3d",
    "outputId": "59aa3bfb-ad99-4e58-a4dc-8718adc5651c"
   },
   "outputs": [
    {
     "name": "stdout",
     "output_type": "stream",
     "text": [
      "I am too short\n",
      "['Life', 'is', 'too', 'short']\n"
     ]
    }
   ],
   "source": [
    "a = \"Life is too short\"\n",
    "print(a.replace(\"Life is\", \"I am\"))\n",
    "print(a.split())"
   ]
  },
  {
   "cell_type": "code",
   "execution_count": null,
   "metadata": {
    "colab": {},
    "colab_type": "code",
    "id": "RQJW8DZwYjFg"
   },
   "outputs": [],
   "source": []
  }
 ],
 "metadata": {
  "colab": {
   "authorship_tag": "ABX9TyOUNy2AnXIdJroTk90DVMHY",
   "collapsed_sections": [],
   "name": "practice_1-3.ipynb",
   "provenance": []
  },
  "kernelspec": {
   "display_name": "Python 3",
   "language": "python",
   "name": "python3"
  },
  "language_info": {
   "codemirror_mode": {
    "name": "ipython",
    "version": 3
   },
   "file_extension": ".py",
   "mimetype": "text/x-python",
   "name": "python",
   "nbconvert_exporter": "python",
   "pygments_lexer": "ipython3",
   "version": "3.7.6"
  }
 },
 "nbformat": 4,
 "nbformat_minor": 1
}
