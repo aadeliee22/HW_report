{
 "cells": [
  {
   "cell_type": "markdown",
   "metadata": {},
   "source": [
    "Title \n",
    "==\n",
    "\n",
    "sub title\n",
    "----\n",
    "\n",
    "# 1. \n",
    "## 2. \n",
    "### 3. \n",
    "#### 4. \n",
    "##### 5. \n",
    "###### 6. \n",
    "####### 7."
   ]
  },
  {
   "cell_type": "markdown",
   "metadata": {},
   "source": [
    "Block quote\n",
    "> Hello\n",
    ">> I'm Hyejin.\n",
    ">>> No, not 'Hi-Jin.'\n",
    ">>>>  You pronounced it wrong.\n",
    ">>>>> It's okay. Just give up."
   ]
  },
  {
   "cell_type": "markdown",
   "metadata": {},
   "source": [
    "This is a C++ expression:\n",
    "\n",
    "```c++\n",
    "#include <iostream>\n",
    "using namespace std;\n",
    "int main()\n",
    "{\n",
    "    cout << \"Hello.\" << endl;\n",
    "    return 0;\n",
    "}\n",
    "```\n",
    "Use \"```\" not \"'''\""
   ]
  },
  {
   "cell_type": "markdown",
   "metadata": {},
   "source": [
    "1. Physics\n",
    "    1. ~It is fun.~\n",
    "    2. It is hard.\n",
    "    3. Definetly.\n",
    "        1. Yes.\n",
    "            1. Another yes.\n",
    "                1. No.\n",
    "                \n",
    "ASDF\n",
    "*******\n",
    "ASDF\n",
    "____\n",
    "2. Chemistry\n",
    "3. Biology\n",
    "*************\n",
    "What.\n",
    "* Physics\n",
    "    + Chemistry\n",
    "        + Biology\n",
    "            + Mathematics\n",
    "* * * * *"
   ]
  },
  {
   "cell_type": "markdown",
   "metadata": {},
   "source": [
    "Stack Overflow \n",
    "*Stack Overflow* \n",
    "**Stack Overflow**\n",
    "***Stack Overflow***\n",
    "~Stack Overflow~"
   ]
  },
  {
   "cell_type": "markdown",
   "metadata": {},
   "source": [
    "[Google Scholar](https://scholar.google.co.kr)\n",
    "[arxiv!!](https://arxiv.org)\n",
    "\n",
    "[*Google Scholar*](https://scholar.google.co.kr)\n",
    "[**arxiv!!**](https://arxiv.org)\n",
    "[~GEL~](gel.gist.ac.kr)"
   ]
  },
  {
   "cell_type": "markdown",
   "metadata": {},
   "source": []
  }
 ],
 "metadata": {
  "kernelspec": {
   "display_name": "Python 3",
   "language": "python",
   "name": "python3"
  },
  "language_info": {
   "codemirror_mode": {
    "name": "ipython",
    "version": 3
   },
   "file_extension": ".py",
   "mimetype": "text/x-python",
   "name": "python",
   "nbconvert_exporter": "python",
   "pygments_lexer": "ipython3",
   "version": "3.7.6"
  }
 },
 "nbformat": 4,
 "nbformat_minor": 4
}
