{
 "cells": [
  {
   "cell_type": "markdown",
   "metadata": {},
   "source": [
    "# Problem 1\n",
    "https://wikidocs.net/17114"
   ]
  },
  {
   "cell_type": "code",
   "execution_count": 1,
   "metadata": {},
   "outputs": [
    {
     "name": "stdout",
     "output_type": "stream",
     "text": [
      "a#b#c#d\n"
     ]
    }
   ],
   "source": [
    "#1\n",
    "string = \"a:b:c:d\"\n",
    "print(\"#\".join(string.split(\":\")))"
   ]
  },
  {
   "cell_type": "code",
   "execution_count": 2,
   "metadata": {},
   "outputs": [
    {
     "data": {
      "text/plain": [
       "70"
      ]
     },
     "execution_count": 2,
     "metadata": {},
     "output_type": "execute_result"
    }
   ],
   "source": [
    "#2\n",
    "a = {'A':90, 'B':80}\n",
    "a.get('C', 70)"
   ]
  },
  {
   "cell_type": "markdown",
   "metadata": {},
   "source": [
    "3. First method returns a new list which is different from **a**.\n",
    "Second method returns extended **a**."
   ]
  },
  {
   "cell_type": "code",
   "execution_count": 3,
   "metadata": {},
   "outputs": [
    {
     "name": "stdout",
     "output_type": "stream",
     "text": [
      "[1, 2, 3, 4, 5] [1, 2, 3] False\n",
      "[1, 2, 3, 4, 5] [1, 2, 3, 4, 5] True\n"
     ]
    }
   ],
   "source": [
    "#3\n",
    "a = [1,2,3]\n",
    "b = a\n",
    "a = a + [4,5]\n",
    "print(a, b, b is a) \n",
    "\n",
    "a = [1,2,3]\n",
    "b = a\n",
    "a.extend([4,5])\n",
    "print(a, b, b is a)"
   ]
  },
  {
   "cell_type": "code",
   "execution_count": 4,
   "metadata": {},
   "outputs": [
    {
     "name": "stdout",
     "output_type": "stream",
     "text": [
      "481\n"
     ]
    }
   ],
   "source": [
    "#4\n",
    "A = [20, 55, 67, 82, 45, 33, 90, 87, 100, 25]\n",
    "s = 0\n",
    "for i in A:\n",
    "    if i>=50: s = s + i\n",
    "print(s)"
   ]
  },
  {
   "cell_type": "code",
   "execution_count": 5,
   "metadata": {},
   "outputs": [
    {
     "name": "stdout",
     "output_type": "stream",
     "text": [
      "Enter integer:16\n",
      "0, 1, 1, 2, 3, 5, 8, 13, 21, 34, 55, 89, 144, 233, 377, 610, "
     ]
    }
   ],
   "source": [
    "#5\n",
    "def fib(n):\n",
    "    result = 0\n",
    "    if n==0: result=0\n",
    "    elif n==1: result=1\n",
    "    else: result = fib(n-1)+fib(n-2)\n",
    "    return result\n",
    "n = int(input(\"Enter integer:\"))\n",
    "for i in range (n):\n",
    "    print(fib(i), end = \", \")"
   ]
  },
  {
   "cell_type": "code",
   "execution_count": 6,
   "metadata": {},
   "outputs": [
    {
     "name": "stdout",
     "output_type": "stream",
     "text": [
      "Enter numbers: 1, 3, 5, 6, 8\n",
      "23\n"
     ]
    }
   ],
   "source": [
    "#6\n",
    "num_list = input(\"Enter numbers: \")\n",
    "num_list = num_list.split(\",\")\n",
    "s = 0\n",
    "for i in num_list:\n",
    "    s = s + int(i)\n",
    "print(s)"
   ]
  },
  {
   "cell_type": "code",
   "execution_count": 7,
   "metadata": {},
   "outputs": [
    {
     "name": "stdout",
     "output_type": "stream",
     "text": [
      "구구단: 19\n",
      "19 38 57 76 95 114 133 152 171 "
     ]
    }
   ],
   "source": [
    "#7\n",
    "n = int(input(\"구구단: \"))\n",
    "for i in range (1, 10):\n",
    "    print(i*n, end=\" \")"
   ]
  },
  {
   "cell_type": "code",
   "execution_count": 26,
   "metadata": {},
   "outputs": [
    {
     "name": "stdout",
     "output_type": "stream",
     "text": [
      "EEE\n",
      "DDD\n",
      "CCC\n",
      "BBB\n",
      "AAA\n",
      "\n"
     ]
    }
   ],
   "source": [
    "#8\n",
    "f = open('abc.txt', 'r')\n",
    "original = f.readlines()\n",
    "original.reverse()\n",
    "f.close()\n",
    "\n",
    "f = open('abc.txt', 'w')\n",
    "for i in original:\n",
    "    i = i.replace(\"\\n\", \"\")\n",
    "    f.write(i)\n",
    "    f.write(\"\\n\")\n",
    "f.close()\n",
    "\n",
    "f = open('abc.txt', 'r')\n",
    "print(f.read())"
   ]
  },
  {
   "cell_type": "code",
   "execution_count": 32,
   "metadata": {},
   "outputs": [
    {
     "name": "stdout",
     "output_type": "stream",
     "text": [
      "79.0\n"
     ]
    }
   ],
   "source": [
    "#9\n",
    "f = open(\"sample.txt\")\n",
    "sample = f.readlines()\n",
    "f.close()\n",
    "\n",
    "s = 0\n",
    "for i in sample:\n",
    "    s = s + int(i)\n",
    "\n",
    "g = open(\"result.txt\", 'w')\n",
    "g.write(str(s/len(sample)))\n",
    "g.close()\n",
    "\n",
    "g = open(\"result.txt\", 'r')\n",
    "print(g.read())"
   ]
  },
  {
   "cell_type": "code",
   "execution_count": 1,
   "metadata": {},
   "outputs": [
    {
     "name": "stdout",
     "output_type": "stream",
     "text": [
      "15 3.0\n",
      "40 8.0\n"
     ]
    }
   ],
   "source": [
    "#10\n",
    "class Calculator:\n",
    "    def __init__(self, num_list): # constructor\n",
    "        self.num_list = num_list\n",
    "        self.numnum = len(num_list)\n",
    "    def add(self):\n",
    "        s = 0\n",
    "        for i in self.num_list:\n",
    "            s = s + i\n",
    "        return s\n",
    "    def avg(self):\n",
    "        ss = self.add()\n",
    "        return ss/len(self.num_list)\n",
    "    \n",
    "cal1 = Calculator([1,2,3,4,5])\n",
    "cal2 = Calculator([6,7,8,9,10])\n",
    "\n",
    "print(cal1.add(), cal1.avg())\n",
    "print(cal2.add(), cal2.avg())"
   ]
  },
  {
   "cell_type": "code",
   "execution_count": 76,
   "metadata": {},
   "outputs": [
    {
     "name": "stdout",
     "output_type": "stream",
     "text": [
      "Enter morse: .-.. .- -.. .. . ... .-.- .- -. -.. .-.- --. . -. - .-.. . -- -. -.\n"
     ]
    },
    {
     "data": {
      "text/plain": [
       "'ladies and gentlemnn'"
      ]
     },
     "execution_count": 76,
     "metadata": {},
     "output_type": "execute_result"
    }
   ],
   "source": [
    "#16\n",
    "morse = input(\"Enter morse: \")\n",
    "morse += \" \"\n",
    "a = list(\"-etianmsurwdkgohwf l pjbxcyzq  \")\n",
    "word = \"\"\n",
    "index = 1\n",
    "for i in morse:\n",
    "    if i == \".\" :\n",
    "        index = 2*index\n",
    "    elif i == \"-\":\n",
    "        index = 2*index + 1\n",
    "    else:\n",
    "        word = word + a[index-1]\n",
    "        index = 1\n",
    "word"
   ]
  },
  {
   "cell_type": "markdown",
   "metadata": {},
   "source": [
    "# Problem 2."
   ]
  },
  {
   "cell_type": "code",
   "execution_count": 90,
   "metadata": {},
   "outputs": [
    {
     "name": "stdout",
     "output_type": "stream",
     "text": [
      "1227365\n"
     ]
    }
   ],
   "source": [
    "sum_all = int(4999*5000/2)\n",
    "s = []\n",
    "for i in range (1, 5000):\n",
    "    num = i + int(i/1000) + int((i%1000)/100) + int((i%100)/10) + i%10\n",
    "    if num < 5000: s.append(num)\n",
    "s = set(s) # to remove redundant\n",
    "sum_withgen = 0\n",
    "for i in s:\n",
    "    sum_withgen += i\n",
    "print(sum_all-sum_withgen)"
   ]
  },
  {
   "cell_type": "code",
   "execution_count": null,
   "metadata": {},
   "outputs": [],
   "source": []
  }
 ],
 "metadata": {
  "kernelspec": {
   "display_name": "Python 3",
   "language": "python",
   "name": "python3"
  },
  "language_info": {
   "codemirror_mode": {
    "name": "ipython",
    "version": 3
   },
   "file_extension": ".py",
   "mimetype": "text/x-python",
   "name": "python",
   "nbconvert_exporter": "python",
   "pygments_lexer": "ipython3",
   "version": "3.7.6"
  }
 },
 "nbformat": 4,
 "nbformat_minor": 4
}
