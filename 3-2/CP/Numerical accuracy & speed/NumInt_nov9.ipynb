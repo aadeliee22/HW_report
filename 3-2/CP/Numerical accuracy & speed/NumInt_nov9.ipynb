{
 "cells": [
  {
   "cell_type": "markdown",
   "metadata": {},
   "source": [
    "## (I)"
   ]
  },
  {
   "cell_type": "code",
   "execution_count": 14,
   "metadata": {},
   "outputs": [],
   "source": [
    "import numpy as np\n",
    "# for smooth, cts, converge func.\n",
    "from scipy.integrate import quad, nquad, dblquad"
   ]
  },
  {
   "cell_type": "code",
   "execution_count": 15,
   "metadata": {},
   "outputs": [
    {
     "name": "stdout",
     "output_type": "stream",
     "text": [
      "21.333333333333336 2.368475785867001e-13\n"
     ]
    }
   ],
   "source": [
    "x2 = lambda x: x**2\n",
    "res, err = quad(x2, 0, 4) # args: other parameters\n",
    "print(res, err)"
   ]
  },
  {
   "cell_type": "markdown",
   "metadata": {},
   "source": [
    "$$ \\int_0^\\infty \\int_1^\\infty \\frac{e^{-xt}}{t^n}dt dx = \\frac{1}{n}$$"
   ]
  },
  {
   "cell_type": "code",
   "execution_count": 16,
   "metadata": {},
   "outputs": [
    {
     "name": "stdout",
     "output_type": "stream",
     "text": [
      "(0.9999999983857643, 8.537616028854753e-09)\n",
      "(0.499999999909358, 1.4640839512484866e-08)\n",
      "(0.3333333333366853, 1.3274031145043084e-09)\n",
      "(0.2500000000043577, 2.09816174076454e-10)\n"
     ]
    }
   ],
   "source": [
    "def func(t, x, n):\n",
    "    return np.exp(-x*t)/t**n\n",
    "def expint(x, n):\n",
    "    return quad(func, 1, np.inf, args=(x, n))[0]\n",
    "for i in range (1,5): # n = 1~4\n",
    "    print(quad(lambda x: expint(x, i), 0, np.inf))"
   ]
  },
  {
   "cell_type": "code",
   "execution_count": 17,
   "metadata": {},
   "outputs": [
    {
     "data": {
      "text/plain": [
       "(0.3333333333366853, 1.3888461883425516e-08)"
      ]
     },
     "execution_count": 17,
     "metadata": {},
     "output_type": "execute_result"
    }
   ],
   "source": [
    "nquad(func, [[1, np.inf], [0, np.inf]], args=(3,))"
   ]
  },
  {
   "cell_type": "code",
   "execution_count": 22,
   "metadata": {},
   "outputs": [
    {
     "data": {
      "text/plain": [
       "(0.3333333333366853, 1.3888461883425516e-08)"
      ]
     },
     "execution_count": 22,
     "metadata": {},
     "output_type": "execute_result"
    }
   ],
   "source": [
    "dblquad(func, 0, np.inf, 1, np.inf, args=(3,))"
   ]
  },
  {
   "cell_type": "markdown",
   "metadata": {},
   "source": [
    "$$ \\int_0^{1/2}dy\\int_0^{1-2y} xydx = \\frac{1}{96}$$"
   ]
  },
  {
   "cell_type": "code",
   "execution_count": 23,
   "metadata": {},
   "outputs": [
    {
     "name": "stdout",
     "output_type": "stream",
     "text": [
      "(0.010416666666666668, 4.101620128472366e-16)\n",
      "(0.010416666666666668, 4.101620128472366e-16)\n"
     ]
    }
   ],
   "source": [
    "print(dblquad(lambda x, y: x*y, 0, 0.5, lambda x:0, lambda x:1-2*x))\n",
    "print(nquad(lambda x, y: x*y, [lambda y: [0., 1.-2*y], [0,0.5]]))"
   ]
  },
  {
   "cell_type": "markdown",
   "metadata": {},
   "source": [
    "## (II)"
   ]
  },
  {
   "cell_type": "code",
   "execution_count": 27,
   "metadata": {},
   "outputs": [],
   "source": [
    "from scipy.integrate import simps, trapz"
   ]
  },
  {
   "cell_type": "code",
   "execution_count": 28,
   "metadata": {},
   "outputs": [
    {
     "name": "stdout",
     "output_type": "stream",
     "text": [
      "40.5\n",
      "40.5\n"
     ]
    }
   ],
   "source": [
    "y = np.arange(0, 10)\n",
    "x = np.arange(0, 10)\n",
    "print(simps(y, x))\n",
    "print(trapz(y, x))"
   ]
  },
  {
   "cell_type": "code",
   "execution_count": 29,
   "metadata": {},
   "outputs": [
    {
     "data": {
      "text/plain": [
       "(0.0, 0.0)"
      ]
     },
     "execution_count": 29,
     "metadata": {},
     "output_type": "execute_result"
    }
   ],
   "source": [
    "f = lambda x: 1 if x<=0 else 0\n",
    "quad(f, -1, 10000) # wrong!!!!!!!!!"
   ]
  },
  {
   "cell_type": "code",
   "execution_count": 30,
   "metadata": {},
   "outputs": [
    {
     "data": {
      "text/plain": [
       "0.9996000499600048"
      ]
     },
     "execution_count": 30,
     "metadata": {},
     "output_type": "execute_result"
    }
   ],
   "source": [
    "x = np.linspace(-1, 10000, 10000000)\n",
    "vf = np.vectorize(f) #elementarize, vertorize (because of if)\n",
    "y = vf(x)\n",
    "simps(y, x)"
   ]
  },
  {
   "cell_type": "markdown",
   "metadata": {},
   "source": [
    "Trapezodial rule: error $\\sim O(h^2)$\n",
    "\n",
    "rounding error becomes important when $N\\sim O(\\epsilon^{-1/2})$"
   ]
  },
  {
   "cell_type": "code",
   "execution_count": 31,
   "metadata": {},
   "outputs": [],
   "source": [
    "import matplotlib.pyplot as plt"
   ]
  },
  {
   "cell_type": "code",
   "execution_count": 38,
   "metadata": {},
   "outputs": [
    {
     "data": {
      "text/plain": [
       "[<matplotlib.lines.Line2D at 0x262dc427288>]"
      ]
     },
     "execution_count": 38,
     "metadata": {},
     "output_type": "execute_result"
    },
    {
     "data": {
      "image/png": "[encoded data removed]",
      "text/plain": [
       "<Figure size 432x288 with 1 Axes>"
      ]
     },
     "metadata": {
      "needs_background": "light"
     },
     "output_type": "display_data"
    }
   ],
   "source": [
    "def Int_trapz(f, a, b, N):\n",
    "    s = np.sum(f(np.linspace(a, b, N+1)[1:-1]))\n",
    "    return (b-a)/N*(0.5*f(a)+0.5*f(b)+s)\n",
    "def simpson(f, a, b, N):\n",
    "    s = 4*np.sum(f(np.linspace(a, b, N+1)[1::2])) + 2*np.sum(f(np.linspace(a, b, N+1)[2:-1:2]))\n",
    "    return (b-a)/N * (1./3.) * (f(a)+f(b)+s)\n",
    "\n",
    "func = lambda x: np.sqrt(1-x**2)\n",
    "I_t = np.zeros(9)\n",
    "I_s = np.zeros(9)\n",
    "for i in range (0, 9):\n",
    "    I_t[i] = Int_trapz(func, -1, 1, 10**i)\n",
    "    I_s[i] = simpson(func, -1, 1, 10**i)\n",
    "plt.loglog(10**np.arange(9), np.abs(I_t - np.pi/2), 'o:', c='C0')\n",
    "plt.loglog(10**np.arange(9), np.abs(I_s - np.pi/2), 's--', c='C1')"
   ]
  },
  {
   "cell_type": "code",
   "execution_count": 40,
   "metadata": {},
   "outputs": [
    {
     "data": {
      "text/plain": [
       "[<matplotlib.lines.Line2D at 0x262dd7ccd08>]"
      ]
     },
     "execution_count": 40,
     "metadata": {},
     "output_type": "execute_result"
    },
    {
     "data": {
      "image/png": "[encoded data removed]",
      "text/plain": [
       "<Figure size 432x288 with 1 Axes>"
      ]
     },
     "metadata": {
      "needs_background": "light"
     },
     "output_type": "display_data"
    }
   ],
   "source": [
    "I_t = np.zeros(9, dtype='float32')\n",
    "I_s = np.zeros(9, dtype='float32')\n",
    "for i in range (0, 9):\n",
    "    I_t[i] = Int_trapz(func, -1, 1, 10**i)\n",
    "    I_s[i] = simpson(func, -1, 1, 10**i)\n",
    "plt.loglog(10**np.arange(9), np.abs(I_t - np.pi/2), 'o:', c='C0')\n",
    "plt.loglog(10**np.arange(9), np.abs(I_s - np.pi/2), 's--', c='C1')"
   ]
  },
  {
   "cell_type": "code",
   "execution_count": 43,
   "metadata": {},
   "outputs": [
    {
     "data": {
      "text/plain": [
       "[<matplotlib.lines.Line2D at 0x262ddb03f48>]"
      ]
     },
     "execution_count": 43,
     "metadata": {},
     "output_type": "execute_result"
    },
    {
     "data": {
      "image/png": "[encoded data removed]",
      "text/plain": [
       "<Figure size 432x288 with 1 Axes>"
      ]
     },
     "metadata": {
      "needs_background": "light"
     },
     "output_type": "display_data"
    }
   ],
   "source": [
    "func = lambda x: np.sin(x)\n",
    "I_t = np.zeros(9)\n",
    "I_s = np.zeros(9)\n",
    "for i in range (0, 9):\n",
    "    I_t[i] = Int_trapz(func, 0, np.pi, 10**i)\n",
    "    I_s[i] = simpson(func, 0, np.pi, 10**i)\n",
    "plt.loglog(10**np.arange(9), np.abs(I_t - 2), 'o:', c='C0')\n",
    "plt.loglog(10**np.arange(9), np.abs(I_s - 2), 's--', c='C1')"
   ]
  },
  {
   "cell_type": "code",
   "execution_count": null,
   "metadata": {},
   "outputs": [],
   "source": []
  }
 ],
 "metadata": {
  "kernelspec": {
   "display_name": "Python 3",
   "language": "python",
   "name": "python3"
  },
  "language_info": {
   "codemirror_mode": {
    "name": "ipython",
    "version": 3
   },
   "file_extension": ".py",
   "mimetype": "text/x-python",
   "name": "python",
   "nbconvert_exporter": "python",
   "pygments_lexer": "ipython3",
   "version": "3.7.6"
  }
 },
 "nbformat": 4,
 "nbformat_minor": 4
}
