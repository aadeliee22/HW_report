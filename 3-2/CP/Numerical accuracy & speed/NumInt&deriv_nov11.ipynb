{
 "cells": [
  {
   "cell_type": "markdown",
   "metadata": {},
   "source": [
    "## (III)"
   ]
  },
  {
   "cell_type": "code",
   "execution_count": 17,
   "metadata": {},
   "outputs": [],
   "source": [
    "from scipy.integrate import fixed_quad, quad\n",
    "import numpy as np\n",
    "import matplotlib.pyplot as plt"
   ]
  },
  {
   "cell_type": "code",
   "execution_count": 8,
   "metadata": {},
   "outputs": [
    {
     "data": {
      "text/plain": [
       "[<matplotlib.lines.Line2D at 0x1cbd430a548>]"
      ]
     },
     "execution_count": 8,
     "metadata": {},
     "output_type": "execute_result"
    },
    {
     "data": {
      "image/png": "[encoded data removed]",
      "text/plain": [
       "<Figure size 432x288 with 1 Axes>"
      ]
     },
     "metadata": {
      "needs_background": "light"
     },
     "output_type": "display_data"
    }
   ],
   "source": [
    "f = lambda x: np.sqrt(1.0-x**2)\n",
    "g = np.vectorize(lambda i : fixed_quad(f, -1, 1, n=2**(i+1))[0])\n",
    "y = np.fromfunction(g,(13,))\n",
    "plt.loglog(2**np.arange(1,14),np.abs(y-np.pi*0.5),\"o:\")"
   ]
  },
  {
   "cell_type": "code",
   "execution_count": 15,
   "metadata": {},
   "outputs": [
    {
     "data": {
      "image/png": "[encoded data removed]",
      "text/plain": [
       "<Figure size 432x288 with 1 Axes>"
      ]
     },
     "metadata": {
      "needs_background": "light"
     },
     "output_type": "display_data"
    }
   ],
   "source": [
    "f = lambda x: np.sin(x)\n",
    "g = np.vectorize(lambda i : fixed_quad(f, 0, np.pi, n=i+2)[0])\n",
    "y = np.fromfunction(g,(13,))\n",
    "plt.plot(np.arange(2,15),np.abs(y-2),\"o:\") #semilogy\n",
    "plt.yscale('log')"
   ]
  },
  {
   "cell_type": "markdown",
   "metadata": {},
   "source": [
    "## (IV)"
   ]
  },
  {
   "cell_type": "code",
   "execution_count": 23,
   "metadata": {},
   "outputs": [
    {
     "name": "stdout",
     "output_type": "stream",
     "text": [
      "quad =  2.0348053192075732\n",
      "quad with correction = 2.034805319200182\n",
      "midpoint = 2.015676759166063\n",
      "midpoint with correction = 2.0348053130003154\n"
     ]
    }
   ],
   "source": [
    "def I_midpoint(f, a, b, n):\n",
    "    h = (b-a)/n\n",
    "    x = np.linspace(a, b, 2*n+1)\n",
    "    x = x[1:-1:2]\n",
    "    return h*np.sum(f(x))\n",
    "\n",
    "f = lambda x : 1./np.sqrt(np.sin(x))\n",
    "g = lambda x : 1./np.sqrt(np.sin(x)) - 1.0/np.sqrt(x)\n",
    "I0 = quad(f, 0, 1)[0]\n",
    "I1 = quad(g, 0, 1)[0] + 2.\n",
    "I2 = I_midpoint(f, 0, 1, 1000)\n",
    "I3 = I_midpoint(g, 0, 1, 1000) + 2.\n",
    "print(\"quad = \", I0)\n",
    "print(\"quad with correction =\", I1)\n",
    "print(\"midpoint =\", I2)\n",
    "print(\"midpoint with correction =\", I3)"
   ]
  },
  {
   "cell_type": "markdown",
   "metadata": {},
   "source": [
    "## Derivatives"
   ]
  },
  {
   "cell_type": "code",
   "execution_count": 22,
   "metadata": {},
   "outputs": [
    {
     "data": {
      "text/plain": [
       "4.999999999921734"
      ]
     },
     "execution_count": 22,
     "metadata": {},
     "output_type": "execute_result"
    }
   ],
   "source": [
    "from scipy.misc import derivative\n",
    "def f(x):\n",
    "    return x**3 + x**2\n",
    "derivative(f, 1., dx=1e-6)"
   ]
  },
  {
   "cell_type": "code",
   "execution_count": null,
   "metadata": {},
   "outputs": [],
   "source": []
  }
 ],
 "metadata": {
  "kernelspec": {
   "display_name": "Python 3",
   "language": "python",
   "name": "python3"
  },
  "language_info": {
   "codemirror_mode": {
    "name": "ipython",
    "version": 3
   },
   "file_extension": ".py",
   "mimetype": "text/x-python",
   "name": "python",
   "nbconvert_exporter": "python",
   "pygments_lexer": "ipython3",
   "version": "3.7.6"
  }
 },
 "nbformat": 4,
 "nbformat_minor": 4
}
