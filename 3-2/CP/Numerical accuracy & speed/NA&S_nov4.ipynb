{
 "cells": [
  {
   "cell_type": "code",
   "execution_count": 40,
   "metadata": {},
   "outputs": [],
   "source": [
    "import sys\n",
    "import math as math\n",
    "from time import time\n",
    "import numpy as np"
   ]
  },
  {
   "cell_type": "code",
   "execution_count": 2,
   "metadata": {},
   "outputs": [
    {
     "data": {
      "text/plain": [
       "1.7976931348623157e+308"
      ]
     },
     "execution_count": 2,
     "metadata": {},
     "output_type": "execute_result"
    }
   ],
   "source": [
    "sys.float_info.max"
   ]
  },
  {
   "cell_type": "code",
   "execution_count": 3,
   "metadata": {},
   "outputs": [
    {
     "data": {
      "text/plain": [
       "2.2250738585072014e-308"
      ]
     },
     "execution_count": 3,
     "metadata": {},
     "output_type": "execute_result"
    }
   ],
   "source": [
    "sys.float_info.min"
   ]
  },
  {
   "cell_type": "code",
   "execution_count": 13,
   "metadata": {},
   "outputs": [
    {
     "data": {
      "text/plain": [
       "3.3000000000000003"
      ]
     },
     "execution_count": 13,
     "metadata": {},
     "output_type": "execute_result"
    }
   ],
   "source": [
    "a, b = 1.1, 2.2\n",
    "a+b"
   ]
  },
  {
   "cell_type": "code",
   "execution_count": 20,
   "metadata": {},
   "outputs": [
    {
     "data": {
      "text/plain": [
       "True"
      ]
     },
     "execution_count": 20,
     "metadata": {},
     "output_type": "execute_result"
    }
   ],
   "source": [
    "# Intrinsic uncertainty\n",
    "1 == 1+1e-16"
   ]
  },
  {
   "cell_type": "code",
   "execution_count": 22,
   "metadata": {},
   "outputs": [],
   "source": [
    "eps = sys.float_info.epsilon\n",
    "if abs(a+b-3.3)<eps: print(True)"
   ]
  },
  {
   "cell_type": "code",
   "execution_count": 26,
   "metadata": {},
   "outputs": [
    {
     "name": "stdout",
     "output_type": "stream",
     "text": [
      "1.4210854715202004 1.4142135623730951\n"
     ]
    }
   ],
   "source": [
    "x = 1.\n",
    "y = 1. + 1e-14*math.sqrt(2.)\n",
    "\n",
    "print(1e14*(y-x), math.sqrt(2.))"
   ]
  },
  {
   "cell_type": "code",
   "execution_count": 34,
   "metadata": {
    "scrolled": true
   },
   "outputs": [
    {
     "name": "stdout",
     "output_type": "stream",
     "text": [
      "1.0 : 0.0678264420177852\n",
      "0.1 : 0.4973637525353891\n",
      "0.01 : 0.536085981011869\n",
      "0.001 : 0.5398814803603269\n",
      "0.0001 : 0.5402602314186211\n",
      "1e-05 : 0.5402980985058647\n",
      "1e-06 : 0.5403018851213304\n",
      "1e-07 : 0.5403022640404487\n",
      "1e-08 : 0.5403023028982545\n",
      "1e-09 : 0.5403023584094058\n",
      "1e-10 : 0.5403022473871033\n",
      "1e-11 : 0.5403011371640787\n",
      "1e-12 : 0.5403455460850637\n",
      "1e-13 : 0.5395683899678261\n",
      "1e-14 : 0.5440092820663267\n",
      "1e-15 : 0.5551115123125783\n",
      "1e-16 : 0.0\n",
      "1e-17 : 0.0\n",
      "1e-18 : 0.0\n",
      "1e-19 : 0.0\n",
      "1e-20 : 0.0\n",
      "1e-21 : 0.0\n",
      "1e-22 : 0.0\n",
      "1e-23 : 0.0\n",
      "1e-24 : 0.0\n",
      "real = 0.5403023058681398\n"
     ]
    }
   ],
   "source": [
    "for i in range (25):\n",
    "    h = 10.**(-i)\n",
    "    f = (math.sin(1.+h)-math.sin(1.))/h\n",
    "    print(h, ':', f)\n",
    "print(\"real =\", math.cos(1.))"
   ]
  },
  {
   "cell_type": "code",
   "execution_count": 38,
   "metadata": {},
   "outputs": [
    {
     "name": "stdout",
     "output_type": "stream",
     "text": [
      "-9.094947017729282e-09 -100000000.0\n",
      "-1e-08 -109951162.7776\n",
      "-1e-08 -99999999.99999999\n"
     ]
    }
   ],
   "source": [
    "a = 0.0001\n",
    "b = 10000\n",
    "c = 0.0001\n",
    "print((-b+math.sqrt(b**2-4*a*c))/(2*a), (-b-math.sqrt(b**2-4*a*c))/(2*a))\n",
    "print(2*c/(-b-math.sqrt(b**2-4*a*c)), 2*c/(-b+math.sqrt(b**2-4*a*c)))\n",
    "print((-b+abs(b))/(2*a)-c/abs(b), (-b-abs(b))/(2*a)+c/abs(b))"
   ]
  },
  {
   "cell_type": "code",
   "execution_count": 42,
   "metadata": {},
   "outputs": [
    {
     "name": "stdout",
     "output_type": "stream",
     "text": [
      "1.5170316696166992\n"
     ]
    }
   ],
   "source": [
    "a = np.float(0.)\n",
    "start = time()\n",
    "for i in range (1000000): a = np.sin(a)+1.\n",
    "print(time()-start)"
   ]
  },
  {
   "cell_type": "code",
   "execution_count": 46,
   "metadata": {},
   "outputs": [
    {
     "name": "stdout",
     "output_type": "stream",
     "text": [
      "24.187493801116943\n"
     ]
    }
   ],
   "source": [
    "N = 300\n",
    "A = np.random.rand(N,N)\n",
    "B = np.random.rand(N,N)\n",
    "C = np.zeros((N,N))\n",
    "start = time()\n",
    "for i in range(N):\n",
    "    for j in range (N):\n",
    "        for k in range (N):\n",
    "            C[i,j] += A[i,k]*B[k,j]\n",
    "print(time()-start)"
   ]
  },
  {
   "cell_type": "code",
   "execution_count": 47,
   "metadata": {},
   "outputs": [
    {
     "name": "stdout",
     "output_type": "stream",
     "text": [
      "0.2647371292114258\n"
     ]
    }
   ],
   "source": [
    "C = np.zeros((N,N))\n",
    "start = time()\n",
    "for i in range (N):\n",
    "    for j in range (N):\n",
    "        C[i,j] += np.dot(A[i,:], B[:,j])\n",
    "print(time()-start)"
   ]
  },
  {
   "cell_type": "code",
   "execution_count": 48,
   "metadata": {},
   "outputs": [
    {
     "name": "stdout",
     "output_type": "stream",
     "text": [
      "0.015781641006469727\n"
     ]
    }
   ],
   "source": [
    "start = time()\n",
    "C = np.dot(A, B)\n",
    "print(time()-start)"
   ]
  },
  {
   "cell_type": "code",
   "execution_count": null,
   "metadata": {},
   "outputs": [],
   "source": []
  }
 ],
 "metadata": {
  "kernelspec": {
   "display_name": "Python 3",
   "language": "python",
   "name": "python3"
  },
  "language_info": {
   "codemirror_mode": {
    "name": "ipython",
    "version": 3
   },
   "file_extension": ".py",
   "mimetype": "text/x-python",
   "name": "python",
   "nbconvert_exporter": "python",
   "pygments_lexer": "ipython3",
   "version": "3.7.6"
  }
 },
 "nbformat": 4,
 "nbformat_minor": 4
}
