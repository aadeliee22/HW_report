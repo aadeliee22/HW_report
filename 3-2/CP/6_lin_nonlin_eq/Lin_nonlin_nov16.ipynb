{
 "cells": [
  {
   "cell_type": "code",
   "execution_count": 12,
   "metadata": {},
   "outputs": [],
   "source": [
    "import numpy as np\n",
    "import scipy as sc"
   ]
  },
  {
   "cell_type": "markdown",
   "metadata": {},
   "source": [
    "## Linear equations"
   ]
  },
  {
   "cell_type": "code",
   "execution_count": 4,
   "metadata": {},
   "outputs": [
    {
     "name": "stdout",
     "output_type": "stream",
     "text": [
      "[2.2 2.4]\n"
     ]
    }
   ],
   "source": [
    "a = np.array([[3,1],[1,2]])\n",
    "b = np.array([9,7])\n",
    "x = np.linalg.solve(a,b)\n",
    "print(x)"
   ]
  },
  {
   "cell_type": "code",
   "execution_count": 13,
   "metadata": {},
   "outputs": [
    {
     "data": {
      "text/plain": [
       "array([2.2, 2.4])"
      ]
     },
     "execution_count": 13,
     "metadata": {},
     "output_type": "execute_result"
    }
   ],
   "source": [
    "from scipy import linalg\n",
    "x = sc.linalg.solve(a, b, assume_a='gen') #gen, sym, her, pos\n",
    "x"
   ]
  },
  {
   "cell_type": "code",
   "execution_count": 18,
   "metadata": {},
   "outputs": [
    {
     "data": {
      "text/plain": [
       "array([[ 1.00000000e+00,  1.11022302e-16,  4.85722573e-17],\n",
       "       [-1.38777878e-16,  1.00000000e+00,  7.63278329e-17],\n",
       "       [-2.22044605e-16,  0.00000000e+00,  1.00000000e+00]])"
      ]
     },
     "execution_count": 18,
     "metadata": {},
     "output_type": "execute_result"
    }
   ],
   "source": [
    "A = np.array([[1,3,5], [2,5,1], [2,3,8]])\n",
    "Ainv = np.linalg.inv(A)\n",
    "A.dot(Ainv)"
   ]
  },
  {
   "cell_type": "code",
   "execution_count": 24,
   "metadata": {},
   "outputs": [],
   "source": [
    "n = 500\n",
    "Q = linalg.orth(np.random.rand(n,n))\n",
    "D = np.logspace(0, -10, n)\n",
    "A = Q.dot((np.diag(D)).dot(Q.T)) # A = QDQ^T\n",
    "X = np.random.rand(n)\n",
    "b = A.dot(X) # b = AX"
   ]
  },
  {
   "cell_type": "code",
   "execution_count": 25,
   "metadata": {},
   "outputs": [
    {
     "name": "stdout",
     "output_type": "stream",
     "text": [
      "6.5736495790248846e-06 8.378058762357033e-07\n"
     ]
    }
   ],
   "source": [
    "# inversion, X\n",
    "y = (linalg.inv(A)).dot(b)\n",
    "err = linalg.norm(y-X)\n",
    "res = linalg.norm(A.dot(y)-b) #residual error\n",
    "print(err, res)"
   ]
  },
  {
   "cell_type": "code",
   "execution_count": 26,
   "metadata": {},
   "outputs": [
    {
     "name": "stdout",
     "output_type": "stream",
     "text": [
      "3.752478388119416e-06 4.496403249731884e-15\n"
     ]
    }
   ],
   "source": [
    "# linear solver\n",
    "y = linalg.solve(A,b)\n",
    "err = linalg.norm(y-X)\n",
    "res = linalg.norm(A.dot(y)-b)\n",
    "print(err, res)"
   ]
  },
  {
   "cell_type": "code",
   "execution_count": 29,
   "metadata": {},
   "outputs": [
    {
     "name": "stdout",
     "output_type": "stream",
     "text": [
      "[-0.37228132+0.j  5.37228132+0.j] [[-0.82456484 -0.41597356]\n",
      " [ 0.56576746 -0.90937671]]\n"
     ]
    }
   ],
   "source": [
    "A = np.array([[1,2],[3,4]])\n",
    "w, v = linalg.eig(A) # eigh: hermitian\n",
    "print(w, v)"
   ]
  },
  {
   "cell_type": "code",
   "execution_count": 36,
   "metadata": {},
   "outputs": [
    {
     "name": "stdout",
     "output_type": "stream",
     "text": [
      "(-0.3722813232690143+0j) (5.372281323269014+0j)\n",
      "[-0.82456484  0.56576746] [-0.41597356 -0.90937671]\n",
      "[1. 1.]\n",
      "5.551115123125783e-17\n"
     ]
    }
   ],
   "source": [
    "l1, l2 = w\n",
    "print(l1, l2)\n",
    "\n",
    "print(v[:,0],v[:,1]) #first, second eigenvector\n",
    "\n",
    "print(np.sum(abs(v**2), axis=0)) #normalized\n",
    "\n",
    "v1 = np.array(v[:,0])\n",
    "print(linalg.norm(A.dot(v1)-l1*v1)) #residual error"
   ]
  },
  {
   "cell_type": "code",
   "execution_count": 38,
   "metadata": {},
   "outputs": [
    {
     "data": {
      "text/plain": [
       "array([[ 51.9689562 ,  74.73656457],\n",
       "       [112.10484685, 164.07380305]])"
      ]
     },
     "execution_count": 38,
     "metadata": {},
     "output_type": "execute_result"
    }
   ],
   "source": [
    "linalg.expm(A)"
   ]
  },
  {
   "cell_type": "markdown",
   "metadata": {},
   "source": [
    "## Nonlinear equation"
   ]
  },
  {
   "cell_type": "code",
   "execution_count": 39,
   "metadata": {},
   "outputs": [
    {
     "data": {
      "text/plain": [
       "[<matplotlib.lines.Line2D at 0x18311e505c8>]"
      ]
     },
     "execution_count": 39,
     "metadata": {},
     "output_type": "execute_result"
    },
    {
     "data": {
      "image/png": "[encoded data removed]",
      "text/plain": [
       "<Figure size 432x288 with 1 Axes>"
      ]
     },
     "metadata": {
      "needs_background": "light"
     },
     "output_type": "display_data"
    }
   ],
   "source": [
    "from scipy.optimize import brentq, newton\n",
    "import matplotlib.pyplot as plt\n",
    "\n",
    "def f(x):\n",
    "    return x**3-3*x+1\n",
    "\n",
    "x = np.linspace(-3, 3, 100)\n",
    "plt.axhline(0, c='k', ls='--')\n",
    "plt.plot(x, f(x))"
   ]
  },
  {
   "cell_type": "code",
   "execution_count": 40,
   "metadata": {},
   "outputs": [
    {
     "data": {
      "text/plain": [
       "(-1.8793852415718166, 0.3472963553337031, 1.532088886237956)"
      ]
     },
     "execution_count": 40,
     "metadata": {},
     "output_type": "execute_result"
    }
   ],
   "source": [
    "brentq(f, -3, 0), brentq(f, 0, 1), brentq(f, 1, 3) # stable"
   ]
  },
  {
   "cell_type": "code",
   "execution_count": 41,
   "metadata": {},
   "outputs": [
    {
     "data": {
      "text/plain": [
       "(-1.8793852415718166, 0.34729635533385395, 1.5320888862379578)"
      ]
     },
     "execution_count": 41,
     "metadata": {},
     "output_type": "execute_result"
    }
   ],
   "source": [
    "newton(f, -3), newton(f, 0), newton(f, 3) # gradient, sometimes unstable"
   ]
  },
  {
   "cell_type": "code",
   "execution_count": 43,
   "metadata": {},
   "outputs": [],
   "source": [
    "from scipy.optimize import root, fsolve\n",
    "def f(x):\n",
    "    return [x[1]-3*x[0]*(x[0]+1)*(x[0]-1), 0.25*x[0]**2+x[1]**2-1]"
   ]
  },
  {
   "cell_type": "code",
   "execution_count": 44,
   "metadata": {},
   "outputs": [
    {
     "data": {
      "text/plain": [
       "    fjac: array([[-0.99782686,  0.06589046],\n",
       "       [-0.06589046, -0.99782686]])\n",
       "     fun: array([-1.63602465e-12,  1.61870517e-12])\n",
       " message: 'The solution converged.'\n",
       "    nfev: 21\n",
       "     qtf: array([-1.49465503e-08,  1.27017698e-08])\n",
       "       r: array([ 8.22949362, -0.88256935, -1.72647892])\n",
       "  status: 1\n",
       " success: True\n",
       "       x: array([1.11694147, 0.82952422])"
      ]
     },
     "execution_count": 44,
     "metadata": {},
     "output_type": "execute_result"
    }
   ],
   "source": [
    "sol = root(f, (0.5, 0.5)) #initial point, various method\n",
    "sol #sol.x"
   ]
  },
  {
   "cell_type": "code",
   "execution_count": 47,
   "metadata": {},
   "outputs": [
    {
     "data": {
      "text/plain": [
       "array([1.11694147, 0.82952422])"
      ]
     },
     "execution_count": 47,
     "metadata": {},
     "output_type": "execute_result"
    }
   ],
   "source": [
    "fsolve(f, (0.5, 0.5))"
   ]
  },
  {
   "cell_type": "code",
   "execution_count": 55,
   "metadata": {},
   "outputs": [
    {
     "name": "stdout",
     "output_type": "stream",
     "text": [
      "1.6321205588285577\n",
      "1.8044854658474119\n",
      "1.8354408939220457\n",
      "1.8404568553435368\n",
      "1.841255113911434\n",
      "1.8413817828128696\n",
      "1.8414018735357267\n",
      "1.8414050598547234\n",
      "1.8414055651879888\n",
      "1.8414056453310121\n"
     ]
    },
    {
     "data": {
      "image/png": "[encoded data removed]",
      "text/plain": [
       "<Figure size 432x288 with 1 Axes>"
      ]
     },
     "metadata": {
      "needs_background": "light"
     },
     "output_type": "display_data"
    }
   ],
   "source": [
    "# relaxation method = fixed-point iteration, x=f(x)\n",
    "x = np.linspace(-2, 2)\n",
    "plt.plot(x, x)\n",
    "plt.plot(x, 2-np.exp(-x))\n",
    "x = 1\n",
    "for i in range (10):\n",
    "    x = 2 - np.exp(-x)\n",
    "    print(x)"
   ]
  },
  {
   "cell_type": "code",
   "execution_count": 65,
   "metadata": {},
   "outputs": [
    {
     "data": {
      "image/png": "[encoded data removed]",
      "text/plain": [
       "<Figure size 432x288 with 1 Axes>"
      ]
     },
     "metadata": {
      "needs_background": "light"
     },
     "output_type": "display_data"
    }
   ],
   "source": [
    "x = 0.5\n",
    "for i in range (20):\n",
    "    x = np.exp(1-x**2)\n",
    "    plt.plot(i, x, 'bo')"
   ]
  },
  {
   "cell_type": "code",
   "execution_count": 66,
   "metadata": {},
   "outputs": [
    {
     "data": {
      "image/png": "[encoded data removed]",
      "text/plain": [
       "<Figure size 432x288 with 1 Axes>"
      ]
     },
     "metadata": {
      "needs_background": "light"
     },
     "output_type": "display_data"
    }
   ],
   "source": [
    "x = 0.5\n",
    "for i in range (20):\n",
    "    x = np.sqrt(1-np.log(x))\n",
    "    plt.plot(i, x, 'bo')"
   ]
  },
  {
   "cell_type": "code",
   "execution_count": 72,
   "metadata": {},
   "outputs": [
    {
     "data": {
      "text/plain": [
       "[<matplotlib.lines.Line2D at 0x18317964308>]"
      ]
     },
     "execution_count": 72,
     "metadata": {},
     "output_type": "execute_result"
    },
    {
     "data": {
      "image/png": "[encoded data removed]",
      "text/plain": [
       "<Figure size 432x288 with 1 Axes>"
      ]
     },
     "metadata": {
      "needs_background": "light"
     },
     "output_type": "display_data"
    }
   ],
   "source": [
    "a = 1e-6\n",
    "temp = np.linspace(0.01, 2, 200)\n",
    "m = np.zeros(len(temp))\n",
    "\n",
    "for i in range (len(temp)):\n",
    "    x = 1\n",
    "    t = temp[i]\n",
    "    for j in range (1000):\n",
    "        y = x\n",
    "        x = np.tanh(y/t)\n",
    "        if np.abs((x-y)/(1-t*np.cosh(y/t)**2))<a: break\n",
    "    m[i] = x\n",
    "plt.plot(temp, m, 'b-')"
   ]
  },
  {
   "cell_type": "code",
   "execution_count": null,
   "metadata": {},
   "outputs": [],
   "source": [
    "w"
   ]
  }
 ],
 "metadata": {
  "kernelspec": {
   "display_name": "Python 3",
   "language": "python",
   "name": "python3"
  },
  "language_info": {
   "codemirror_mode": {
    "name": "ipython",
    "version": 3
   },
   "file_extension": ".py",
   "mimetype": "text/x-python",
   "name": "python",
   "nbconvert_exporter": "python",
   "pygments_lexer": "ipython3",
   "version": "3.7.6"
  }
 },
 "nbformat": 4,
 "nbformat_minor": 4
}
