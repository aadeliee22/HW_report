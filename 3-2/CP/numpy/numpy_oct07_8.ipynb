{
 "cells": [
  {
   "cell_type": "markdown",
   "metadata": {},
   "source": [
    "# Numpy 8 (File i/o)"
   ]
  },
  {
   "cell_type": "code",
   "execution_count": 1,
   "metadata": {},
   "outputs": [],
   "source": [
    "import numpy as np"
   ]
  },
  {
   "cell_type": "code",
   "execution_count": 2,
   "metadata": {},
   "outputs": [
    {
     "name": "stdout",
     "output_type": "stream",
     "text": [
      "[[1. 2. 3.]\n",
      " [4. 5. 6.]\n",
      " [7. 8. 9.]]\n",
      "[1. 4. 7.] [2. 5. 8.] [3. 6. 9.]\n"
     ]
    }
   ],
   "source": [
    "Amat = np.loadtxt('3by3.txt')\n",
    "X, Y, Z = np.loadtxt('3by3.txt', usecols=(0,1,2), unpack=True)\n",
    "print(Amat)\n",
    "print(X, Y, Z)"
   ]
  },
  {
   "cell_type": "code",
   "execution_count": 3,
   "metadata": {},
   "outputs": [
    {
     "data": {
      "text/plain": [
       "array([[1., 2., 3.],\n",
       "       [4., 5., 6.],\n",
       "       [7., 8., 9.]])"
      ]
     },
     "execution_count": 3,
     "metadata": {},
     "output_type": "execute_result"
    }
   ],
   "source": [
    "Bmat = np.loadtxt('3bt3comma.txt', delimiter=\",\", skiprows=2)\n",
    "Bmat"
   ]
  },
  {
   "cell_type": "code",
   "execution_count": 4,
   "metadata": {},
   "outputs": [
    {
     "data": {
      "text/plain": [
       "(array([(b'A', 1.1, 10), (b'B', 1.2, 20), (b'C', 1.3, 30)],\n",
       "       dtype=[('f0', 'S1'), ('f1', '<f8'), ('f2', '<i4')]),\n",
       " array([('A', 1.1, 10), ('B', 1.2, 20), ('C', 1.3, 30)],\n",
       "       dtype=[('f0', '<U1'), ('f1', '<f8'), ('f2', '<i4')]),\n",
       " array([('A', 1.1, 10), ('B', 1.2, 20), ('C', 1.3, 30)],\n",
       "       dtype=[('name', '<U1'), ('v1', '<f8'), ('v2', '<i4')]))"
      ]
     },
     "execution_count": 4,
     "metadata": {},
     "output_type": "execute_result"
    }
   ],
   "source": [
    "A = np.genfromtxt('a.txt', dtype=('S1', float, int)) #S1:string 1-byte\n",
    "B = np.genfromtxt('a.txt', dtype=None, encoding='utf-8')\n",
    "C = np.genfromtxt('a.txt', dtype=None, names=True, encoding='utf-8')\n",
    "A, B, C"
   ]
  },
  {
   "cell_type": "code",
   "execution_count": 5,
   "metadata": {},
   "outputs": [],
   "source": [
    "X = np.array([1,2,3])\n",
    "Y = np.array([4,5,6])\n",
    "A = np.c_[X,Y] # column stack: np.colum_stack((X,Y))\n",
    "np.savetxt('XY.txt', A, fmt = '%20.10f')\n",
    "np.savetxt('XYstring.txt', A, fmt = '%s')"
   ]
  },
  {
   "cell_type": "code",
   "execution_count": 6,
   "metadata": {},
   "outputs": [
    {
     "data": {
      "text/plain": [
       "array([('A', 1.1, 10), ('B', 1.2, 20), ('C', 1.3, 30)],\n",
       "      dtype=[('f0', '<U1'), ('f1', '<f8'), ('f2', '<i4')])"
      ]
     },
     "execution_count": 6,
     "metadata": {},
     "output_type": "execute_result"
    }
   ],
   "source": [
    "A = np.zeros(3, dtype=[('f0', 'U1'), ('f1', 'f8'), ('f2', 'i8')])\n",
    "A['f0'] = np.array(['A', 'B', 'C'])\n",
    "A['f1'] = np.array([1.1, 1.2, 1.3])\n",
    "A['f2'] = np.array([10, 20, 30])\n",
    "\n",
    "np.savetxt('Atest.txt', A, fmt=\"%-10s%-10.1f%10d\")\n",
    "np.genfromtxt('Atest.txt', dtype=None, encoding='utf-8')"
   ]
  },
  {
   "cell_type": "code",
   "execution_count": 7,
   "metadata": {},
   "outputs": [
    {
     "data": {
      "text/plain": [
       "array([('A', 1.1, 10), ('B', 1.2, 20), ('C', 1.3, 30)],\n",
       "      dtype=[('f0', '<U1'), ('f1', '<f8'), ('f2', '<i8')])"
      ]
     },
     "execution_count": 7,
     "metadata": {},
     "output_type": "execute_result"
    }
   ],
   "source": [
    "A"
   ]
  },
  {
   "cell_type": "code",
   "execution_count": null,
   "metadata": {},
   "outputs": [],
   "source": []
  }
 ],
 "metadata": {
  "kernelspec": {
   "display_name": "Python 3",
   "language": "python",
   "name": "python3"
  },
  "language_info": {
   "codemirror_mode": {
    "name": "ipython",
    "version": 3
   },
   "file_extension": ".py",
   "mimetype": "text/x-python",
   "name": "python",
   "nbconvert_exporter": "python",
   "pygments_lexer": "ipython3",
   "version": "3.7.6"
  }
 },
 "nbformat": 4,
 "nbformat_minor": 4
}
