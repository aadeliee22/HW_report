{
 "cells": [
  {
   "cell_type": "code",
   "execution_count": 1,
   "metadata": {},
   "outputs": [],
   "source": [
    "import numpy as np\n",
    "import matplotlib.pyplot as plt\n",
    "import scipy.integrate as sint\n",
    "from scipy.optimize import newton"
   ]
  },
  {
   "cell_type": "code",
   "execution_count": 4,
   "metadata": {},
   "outputs": [],
   "source": [
    "def Euler(f, x, t, h):\n",
    "    return x + h*f(x,t)\n",
    "def RK2(f, x, t, h):\n",
    "    k1 = h*f(x, t)\n",
    "    k2 = h*f(x+0.5*k1, t+0.5*h)\n",
    "    return x+k2\n",
    "def RK4(f, x, t, h):\n",
    "    k1 = h*f(x, t)\n",
    "    k2 = h*f(x+0.5*k1, t+0.5*h)\n",
    "    k3 = h*f(x+0.5*k2, t+0.5*h)\n",
    "    k4 = h*f(x+k3, t+h)\n",
    "    return x+ (k1+2*k2+2*k3+k4)/6."
   ]
  },
  {
   "cell_type": "code",
   "execution_count": 5,
   "metadata": {},
   "outputs": [
    {
     "data": {
      "text/plain": [
       "48.99999999999514"
      ]
     },
     "execution_count": 5,
     "metadata": {},
     "output_type": "execute_result"
    }
   ],
   "source": [
    "#shooting\n",
    "g = 9.8\n",
    "h = 0.001\n",
    "def f(s,t):\n",
    "    x, v = s\n",
    "    return np.array([v, -g])\n",
    "def height(v):\n",
    "    s = np.array([0, v])\n",
    "    for t in np.arange(0, 10, h):\n",
    "        s = RK4(f, s, t, h)\n",
    "    return s[0]\n",
    "\n",
    "newton(height, 0.01)"
   ]
  },
  {
   "cell_type": "code",
   "execution_count": 6,
   "metadata": {},
   "outputs": [
    {
     "name": "stdout",
     "output_type": "stream",
     "text": [
      "4.934802200552723 4.934802200544679\n"
     ]
    },
    {
     "data": {
      "text/plain": [
       "[<matplotlib.lines.Line2D at 0x1e0e9768708>]"
      ]
     },
     "execution_count": 6,
     "metadata": {},
     "output_type": "execute_result"
    },
    {
     "data": {
      "image/png": "[encoded data removed]",
      "text/plain": [
       "<Figure size 432x288 with 1 Axes>"
      ]
     },
     "metadata": {
      "needs_background": "light"
     },
     "output_type": "display_data"
    }
   ],
   "source": [
    "#eigenvalue\n",
    "m = 1\n",
    "hbar = 1\n",
    "L = 1\n",
    "N = 1000\n",
    "x = np.linspace(0, L, N)\n",
    "s = np.zeros((N, 2))\n",
    "h = x[1] - x[0]\n",
    "\n",
    "def V(x):\n",
    "    return 0\n",
    "def f(s, x, E):\n",
    "    ps, ph = s\n",
    "    return np.array([ph, 2*m/hbar**2 *(V(x)-E)*ps])\n",
    "def RK4(f, s, x, E, h):\n",
    "    k1 = h*f(s, x, E)\n",
    "    k2 = h*f(s+0.5*k1, x+0.5*h, E)\n",
    "    k3 = h*f(s+0.5*k2, x+0.5*h, E)\n",
    "    k4 = h*f(s+k3, x+h, E)\n",
    "    return s+ (k1+2*k2+2*k3+k4)/6.\n",
    "def func(E):\n",
    "    ps, ph = 0, 1\n",
    "    s[0] = np.array([ps, ph])\n",
    "    for i in range (N-1):\n",
    "        s[i+1] = RK4(f, s[i], x[i], E, h)\n",
    "    return s[N-1][0];\n",
    "print(newton(func, 1.), np.pi**2*hbar**2/(2*m*L))\n",
    "plt.plot(x, s[:,0])"
   ]
  },
  {
   "cell_type": "code",
   "execution_count": null,
   "metadata": {},
   "outputs": [],
   "source": []
  }
 ],
 "metadata": {
  "kernelspec": {
   "display_name": "Python 3",
   "language": "python",
   "name": "python3"
  },
  "language_info": {
   "codemirror_mode": {
    "name": "ipython",
    "version": 3
   },
   "file_extension": ".py",
   "mimetype": "text/x-python",
   "name": "python",
   "nbconvert_exporter": "python",
   "pygments_lexer": "ipython3",
   "version": "3.7.6"
  }
 },
 "nbformat": 4,
 "nbformat_minor": 4
}
